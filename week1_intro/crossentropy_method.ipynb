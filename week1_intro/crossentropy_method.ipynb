{
  "nbformat": 4,
  "nbformat_minor": 0,
  "metadata": {
    "colab": {
      "name": "crossentropy_method.ipynb",
      "provenance": []
    },
    "language_info": {
      "name": "python"
    },
    "kernelspec": {
      "name": "python3",
      "display_name": "Python 3"
    }
  },
  "cells": [
    {
      "cell_type": "markdown",
      "metadata": {
        "id": "7y38mocSHxMP"
      },
      "source": [
        "# Crossentropy method\n",
        "\n",
        "This notebook will teach you to solve reinforcement learning problems with crossentropy method. We'll follow-up by scaling everything up and using neural network policy."
      ]
    },
    {
      "cell_type": "code",
      "metadata": {
        "id": "W8UQvrWCHxMU",
        "outputId": "fe9f7601-568e-47f7-da74-2cbe0d24d094",
        "colab": {
          "base_uri": "https://localhost:8080/"
        }
      },
      "source": [
        "import sys, os\n",
        "if 'google.colab' in sys.modules and not os.path.exists('.setup_complete'):\n",
        "    !wget -q https://raw.githubusercontent.com/yandexdataschool/Practical_RL/master/setup_colab.sh -O- | bash\n",
        "\n",
        "    !wget -q https://raw.githubusercontent.com/yandexdataschool/Practical_RL/coursera/grading.py -O ../grading.py\n",
        "    !wget -q https://raw.githubusercontent.com/yandexdataschool/Practical_RL/coursera/week1_intro/submit.py\n",
        "\n",
        "    !touch .setup_complete\n",
        "\n",
        "# This code creates a virtual display to draw game images on.\n",
        "# It will have no effect if your machine has a monitor.\n",
        "if type(os.environ.get(\"DISPLAY\")) is not str or len(os.environ.get(\"DISPLAY\")) == 0:\n",
        "    !bash ../xvfb start\n",
        "    os.environ['DISPLAY'] = ':1'"
      ],
      "execution_count": 1,
      "outputs": [
        {
          "output_type": "stream",
          "text": [
            "Selecting previously unselected package xvfb.\n",
            "(Reading database ... 160837 files and directories currently installed.)\n",
            "Preparing to unpack .../xvfb_2%3a1.19.6-1ubuntu4.9_amd64.deb ...\n",
            "Unpacking xvfb (2:1.19.6-1ubuntu4.9) ...\n",
            "Setting up xvfb (2:1.19.6-1ubuntu4.9) ...\n",
            "Processing triggers for man-db (2.8.3-2ubuntu0.1) ...\n",
            "Starting virtual X frame buffer: Xvfb.\n"
          ],
          "name": "stdout"
        }
      ]
    },
    {
      "cell_type": "code",
      "metadata": {
        "id": "vMLOsswlHxMX",
        "outputId": "27dfd57a-1a00-42f7-acd9-c7c220e567f9",
        "colab": {
          "base_uri": "https://localhost:8080/"
        }
      },
      "source": [
        "import gym\n",
        "import numpy as np\n",
        "\n",
        "env = gym.make(\"Taxi-v3\")\n",
        "env.reset()\n",
        "env.render()"
      ],
      "execution_count": 2,
      "outputs": [
        {
          "output_type": "stream",
          "text": [
            "+---------+\n",
            "|R: | : :G|\n",
            "| : | : : |\n",
            "|\u001b[43m \u001b[0m: : : : |\n",
            "| | : | : |\n",
            "|\u001b[35mY\u001b[0m| : |\u001b[34;1mB\u001b[0m: |\n",
            "+---------+\n",
            "\n"
          ],
          "name": "stdout"
        }
      ]
    },
    {
      "cell_type": "code",
      "metadata": {
        "id": "Svx8EXPCHxMa",
        "outputId": "6ebd3180-25e4-49b1-aad4-fd912e7766ba",
        "colab": {
          "base_uri": "https://localhost:8080/"
        }
      },
      "source": [
        "n_states = env.observation_space.n\n",
        "n_actions = env.action_space.n\n",
        "\n",
        "print(\"n_states=%i, n_actions=%i\" % (n_states, n_actions))"
      ],
      "execution_count": 3,
      "outputs": [
        {
          "output_type": "stream",
          "text": [
            "n_states=500, n_actions=6\n"
          ],
          "name": "stdout"
        }
      ]
    },
    {
      "cell_type": "markdown",
      "metadata": {
        "id": "t4A7yhuSHxMd"
      },
      "source": [
        "# Create stochastic policy\n",
        "\n",
        "This time our policy should be a probability distribution.\n",
        "\n",
        "```policy[s,a] = P(take action a | in state s)```\n",
        "\n",
        "Since we still use integer state and action representations, you can use a 2-dimensional array to represent the policy.\n",
        "\n",
        "Please initialize the policy __uniformly__, that is, probabililities of all actions should be equal."
      ]
    },
    {
      "cell_type": "code",
      "metadata": {
        "id": "xEys2KHcHxMf"
      },
      "source": [
        "def initialize_policy(n_states, n_actions):\n",
        "    policy=np.ones((n_states, n_actions))\n",
        "    policy*=1./n_actions\n",
        "    return policy\n",
        "\n",
        "policy = initialize_policy(n_states, n_actions)"
      ],
      "execution_count": 4,
      "outputs": []
    },
    {
      "cell_type": "code",
      "metadata": {
        "id": "lXhrUB04HxMh"
      },
      "source": [
        "assert type(policy) in (np.ndarray, np.matrix)\n",
        "assert np.allclose(policy, 1./n_actions)\n",
        "assert np.allclose(np.sum(policy, axis=1), 1)"
      ],
      "execution_count": 5,
      "outputs": []
    },
    {
      "cell_type": "markdown",
      "metadata": {
        "id": "xA8p9045HxMk"
      },
      "source": [
        "# Play the game\n",
        "\n",
        "Just like before, but we also record all states and actions we took."
      ]
    },
    {
      "cell_type": "code",
      "metadata": {
        "id": "59Qb37XXHxMn",
        "outputId": "4b7e1bfc-4e75-4a8a-d471-0eb7df258423",
        "colab": {
          "base_uri": "https://localhost:8080/"
        }
      },
      "source": [
        "def generate_session(env, policy, t_max=10**4):\n",
        "    \"\"\"\n",
        "    Play game until end or for t_max ticks.\n",
        "    :param policy: an array of shape [n_states,n_actions] with action probabilities\n",
        "    :returns: list of states, list of actions and sum of rewards\n",
        "    \"\"\"\n",
        "    states, actions = [], []\n",
        "    total_reward = 0.\n",
        "\n",
        "    s = env.reset()\n",
        "    state_mat=np.zeros((1,n_states))\n",
        "    np.put(state_mat,s,1)\n",
        "    for t in range(t_max):\n",
        "        # Hint: you can use np.random.choice for sampling action\n",
        "        # https://numpy.org/doc/stable/reference/random/generated/numpy.random.choice.html\n",
        "        action_dist=np.dot(state_mat,policy)\n",
        "        action_dist=np.reshape(action_dist,6)\n",
        "        a=np.random.choice([0,1,2,3,4,5])\n",
        "        #a = np.argmax(action_dist)\n",
        "        new_s, r, done, info = env.step(a)\n",
        "        # Record information we just got from the environment.\n",
        "        states.append(s)\n",
        "        actions.append(a)\n",
        "        total_reward += r\n",
        "\n",
        "        s = new_s\n",
        "        if done:\n",
        "            break\n",
        "\n",
        "    return states, actions, total_reward\n",
        "generate_session(env, policy)"
      ],
      "execution_count": 6,
      "outputs": [
        {
          "output_type": "execute_result",
          "data": {
            "text/plain": [
              "([467,\n",
              "  367,\n",
              "  367,\n",
              "  367,\n",
              "  467,\n",
              "  467,\n",
              "  467,\n",
              "  467,\n",
              "  467,\n",
              "  367,\n",
              "  367,\n",
              "  267,\n",
              "  267,\n",
              "  367,\n",
              "  367,\n",
              "  367,\n",
              "  367,\n",
              "  467,\n",
              "  487,\n",
              "  487,\n",
              "  467,\n",
              "  467,\n",
              "  467,\n",
              "  367,\n",
              "  367,\n",
              "  367,\n",
              "  467,\n",
              "  467,\n",
              "  487,\n",
              "  487,\n",
              "  387,\n",
              "  387,\n",
              "  387,\n",
              "  387,\n",
              "  387,\n",
              "  487,\n",
              "  387,\n",
              "  487,\n",
              "  487,\n",
              "  487,\n",
              "  387,\n",
              "  487,\n",
              "  487,\n",
              "  487,\n",
              "  487,\n",
              "  387,\n",
              "  487,\n",
              "  487,\n",
              "  487,\n",
              "  487,\n",
              "  487,\n",
              "  467,\n",
              "  467,\n",
              "  467,\n",
              "  467,\n",
              "  367,\n",
              "  387,\n",
              "  387,\n",
              "  387,\n",
              "  387,\n",
              "  387,\n",
              "  367,\n",
              "  367,\n",
              "  467,\n",
              "  467,\n",
              "  467,\n",
              "  367,\n",
              "  267,\n",
              "  267,\n",
              "  247,\n",
              "  347,\n",
              "  447,\n",
              "  447,\n",
              "  447,\n",
              "  447,\n",
              "  427,\n",
              "  447,\n",
              "  427,\n",
              "  427,\n",
              "  427,\n",
              "  427,\n",
              "  447,\n",
              "  347,\n",
              "  347,\n",
              "  447,\n",
              "  447,\n",
              "  447,\n",
              "  447,\n",
              "  427,\n",
              "  327,\n",
              "  327,\n",
              "  347,\n",
              "  347,\n",
              "  347,\n",
              "  347,\n",
              "  347,\n",
              "  447,\n",
              "  447,\n",
              "  447,\n",
              "  347,\n",
              "  347,\n",
              "  347,\n",
              "  327,\n",
              "  327,\n",
              "  327,\n",
              "  227,\n",
              "  227,\n",
              "  127,\n",
              "  127,\n",
              "  127,\n",
              "  227,\n",
              "  327,\n",
              "  327,\n",
              "  227,\n",
              "  327,\n",
              "  327,\n",
              "  327,\n",
              "  327,\n",
              "  327,\n",
              "  327,\n",
              "  327,\n",
              "  327,\n",
              "  327,\n",
              "  227,\n",
              "  247,\n",
              "  247,\n",
              "  227,\n",
              "  327,\n",
              "  427,\n",
              "  447,\n",
              "  447,\n",
              "  447,\n",
              "  447,\n",
              "  447,\n",
              "  447,\n",
              "  447,\n",
              "  427,\n",
              "  427,\n",
              "  427,\n",
              "  427,\n",
              "  427,\n",
              "  427,\n",
              "  427,\n",
              "  427,\n",
              "  427,\n",
              "  427,\n",
              "  327,\n",
              "  327,\n",
              "  227,\n",
              "  207,\n",
              "  207,\n",
              "  207,\n",
              "  207,\n",
              "  307,\n",
              "  207,\n",
              "  107,\n",
              "  107,\n",
              "  7,\n",
              "  107,\n",
              "  107,\n",
              "  107,\n",
              "  207,\n",
              "  207,\n",
              "  227,\n",
              "  127,\n",
              "  27,\n",
              "  7,\n",
              "  7,\n",
              "  7,\n",
              "  27,\n",
              "  27,\n",
              "  27,\n",
              "  27,\n",
              "  7,\n",
              "  27,\n",
              "  127,\n",
              "  107,\n",
              "  207,\n",
              "  227,\n",
              "  127,\n",
              "  127,\n",
              "  27,\n",
              "  27,\n",
              "  27,\n",
              "  27,\n",
              "  27,\n",
              "  7,\n",
              "  7,\n",
              "  7,\n",
              "  7,\n",
              "  7,\n",
              "  7,\n",
              "  7,\n",
              "  7,\n",
              "  7,\n",
              "  107,\n",
              "  107,\n",
              "  7,\n",
              "  7,\n",
              "  7],\n",
              " [1,\n",
              "  5,\n",
              "  3,\n",
              "  0,\n",
              "  5,\n",
              "  3,\n",
              "  4,\n",
              "  0,\n",
              "  1,\n",
              "  5,\n",
              "  1,\n",
              "  4,\n",
              "  0,\n",
              "  4,\n",
              "  3,\n",
              "  3,\n",
              "  0,\n",
              "  2,\n",
              "  5,\n",
              "  3,\n",
              "  3,\n",
              "  5,\n",
              "  1,\n",
              "  4,\n",
              "  4,\n",
              "  0,\n",
              "  3,\n",
              "  2,\n",
              "  0,\n",
              "  1,\n",
              "  5,\n",
              "  5,\n",
              "  5,\n",
              "  4,\n",
              "  0,\n",
              "  1,\n",
              "  0,\n",
              "  4,\n",
              "  2,\n",
              "  1,\n",
              "  0,\n",
              "  2,\n",
              "  2,\n",
              "  0,\n",
              "  1,\n",
              "  0,\n",
              "  4,\n",
              "  0,\n",
              "  0,\n",
              "  2,\n",
              "  3,\n",
              "  5,\n",
              "  3,\n",
              "  4,\n",
              "  1,\n",
              "  2,\n",
              "  2,\n",
              "  4,\n",
              "  2,\n",
              "  2,\n",
              "  3,\n",
              "  4,\n",
              "  0,\n",
              "  3,\n",
              "  4,\n",
              "  1,\n",
              "  1,\n",
              "  4,\n",
              "  3,\n",
              "  0,\n",
              "  0,\n",
              "  5,\n",
              "  0,\n",
              "  0,\n",
              "  3,\n",
              "  2,\n",
              "  3,\n",
              "  4,\n",
              "  3,\n",
              "  4,\n",
              "  2,\n",
              "  1,\n",
              "  4,\n",
              "  0,\n",
              "  0,\n",
              "  5,\n",
              "  0,\n",
              "  3,\n",
              "  1,\n",
              "  5,\n",
              "  2,\n",
              "  4,\n",
              "  4,\n",
              "  2,\n",
              "  4,\n",
              "  0,\n",
              "  4,\n",
              "  0,\n",
              "  1,\n",
              "  2,\n",
              "  4,\n",
              "  3,\n",
              "  5,\n",
              "  4,\n",
              "  1,\n",
              "  5,\n",
              "  1,\n",
              "  5,\n",
              "  2,\n",
              "  0,\n",
              "  0,\n",
              "  4,\n",
              "  1,\n",
              "  0,\n",
              "  5,\n",
              "  5,\n",
              "  5,\n",
              "  5,\n",
              "  3,\n",
              "  4,\n",
              "  5,\n",
              "  3,\n",
              "  1,\n",
              "  2,\n",
              "  4,\n",
              "  3,\n",
              "  0,\n",
              "  0,\n",
              "  2,\n",
              "  2,\n",
              "  2,\n",
              "  5,\n",
              "  0,\n",
              "  4,\n",
              "  2,\n",
              "  3,\n",
              "  0,\n",
              "  5,\n",
              "  4,\n",
              "  0,\n",
              "  5,\n",
              "  3,\n",
              "  4,\n",
              "  5,\n",
              "  4,\n",
              "  1,\n",
              "  3,\n",
              "  1,\n",
              "  3,\n",
              "  5,\n",
              "  3,\n",
              "  4,\n",
              "  0,\n",
              "  1,\n",
              "  1,\n",
              "  3,\n",
              "  1,\n",
              "  0,\n",
              "  5,\n",
              "  4,\n",
              "  0,\n",
              "  3,\n",
              "  2,\n",
              "  1,\n",
              "  1,\n",
              "  3,\n",
              "  3,\n",
              "  5,\n",
              "  2,\n",
              "  4,\n",
              "  2,\n",
              "  4,\n",
              "  3,\n",
              "  2,\n",
              "  0,\n",
              "  3,\n",
              "  0,\n",
              "  2,\n",
              "  1,\n",
              "  5,\n",
              "  1,\n",
              "  4,\n",
              "  4,\n",
              "  4,\n",
              "  5,\n",
              "  3,\n",
              "  1,\n",
              "  4,\n",
              "  1,\n",
              "  1,\n",
              "  4,\n",
              "  5,\n",
              "  4,\n",
              "  1,\n",
              "  0,\n",
              "  3,\n",
              "  1,\n",
              "  3,\n",
              "  1,\n",
              "  1],\n",
              " -821.0)"
            ]
          },
          "metadata": {
            "tags": []
          },
          "execution_count": 6
        }
      ]
    },
    {
      "cell_type": "code",
      "metadata": {
        "id": "cA_wSnncHxMy"
      },
      "source": [
        "s, a, r = generate_session(env, policy)\n",
        "assert type(s) == type(a) == list\n",
        "assert len(s) == len(a)\n",
        "assert type(r) in [float, np.float]"
      ],
      "execution_count": 7,
      "outputs": []
    },
    {
      "cell_type": "code",
      "metadata": {
        "id": "AJf4TuKRHxM0",
        "outputId": "8160c993-900b-4a69-99aa-f34fdafe8591",
        "colab": {
          "base_uri": "https://localhost:8080/",
          "height": 282
        }
      },
      "source": [
        "# let's see the initial reward distribution\n",
        "import matplotlib.pyplot as plt\n",
        "%matplotlib inline\n",
        "\n",
        "sample_rewards = [generate_session(env, policy, t_max=1000)[-1] for _ in range(200)]\n",
        "\n",
        "plt.hist(sample_rewards, bins=20)\n",
        "plt.vlines([np.percentile(sample_rewards, 50)], [0], [100], label=\"50'th percentile\", color='green')\n",
        "plt.vlines([np.percentile(sample_rewards, 90)], [0], [100], label=\"90'th percentile\", color='red')\n",
        "plt.legend()"
      ],
      "execution_count": 8,
      "outputs": [
        {
          "output_type": "execute_result",
          "data": {
            "text/plain": [
              "<matplotlib.legend.Legend at 0x7f7ee5a68fd0>"
            ]
          },
          "metadata": {
            "tags": []
          },
          "execution_count": 8
        },
        {
          "output_type": "display_data",
          "data": {
            "image/png": "[encoded data removed]",
            "text/plain": [
              "<Figure size 432x288 with 1 Axes>"
            ]
          },
          "metadata": {
            "tags": [],
            "needs_background": "light"
          }
        }
      ]
    },
    {
      "cell_type": "markdown",
      "metadata": {
        "id": "yaRZm7MwHxM0"
      },
      "source": [
        "### Crossentropy method steps"
      ]
    },
    {
      "cell_type": "code",
      "metadata": {
        "id": "UQK1zNvWHxM1"
      },
      "source": [
        "def select_elites(states_batch, actions_batch, rewards_batch, percentile):\n",
        "    \"\"\"\n",
        "    Select states and actions from games that have rewards >= percentile\n",
        "    :param states_batch: list of lists of states, states_batch[session_i][t]\n",
        "    :param actions_batch: list of lists of actions, actions_batch[session_i][t]\n",
        "    :param rewards_batch: list of rewards, rewards_batch[session_i]\n",
        "\n",
        "    :returns: elite_states,elite_actions, both 1D lists of states and respective actions from elite sessions\n",
        "\n",
        "    Please return elite states and actions in their original order \n",
        "    [i.e. sorted by session number and timestep within session]\n",
        "\n",
        "    If you are confused, see examples below. Please don't assume that states are integers\n",
        "    (they will become different later).\n",
        "    \"\"\"\n",
        "\n",
        "    reward_threshold = np.percentile(rewards_batch,percentile)\n",
        "    #<YOUR CODE: compute minimum reward for elite sessions. Hint: use np.percentile()>\n",
        "\n",
        "    elite_states =[]\n",
        "    elite_actions =[]\n",
        "    n_of_episodes=len(rewards_batch)\n",
        "    for i in range(n_of_episodes):\n",
        "      if rewards_batch[i]>=reward_threshold:\n",
        "        elite_states+=states_batch[i]\n",
        "        elite_actions+=actions_batch[i]\n",
        "\n",
        "                             \n",
        "    return elite_states, elite_actions"
      ],
      "execution_count": 65,
      "outputs": []
    },
    {
      "cell_type": "code",
      "metadata": {
        "id": "rCjyG3P8HxM3",
        "outputId": "73131004-3728-42e7-d593-16871a5f1e8f",
        "colab": {
          "base_uri": "https://localhost:8080/"
        }
      },
      "source": [
        "states_batch = [\n",
        "    [1, 2, 3],     # game1\n",
        "    [4, 2, 0, 2],  # game2\n",
        "    [3, 1],        # game3\n",
        "]\n",
        "\n",
        "actions_batch = [\n",
        "    [0, 2, 4],     # game1\n",
        "    [3, 2, 0, 1],  # game2\n",
        "    [3, 3],        # game3\n",
        "]\n",
        "rewards_batch = [\n",
        "    3,  # game1\n",
        "    4,  # game2\n",
        "    5,  # game3\n",
        "]\n",
        "\n",
        "test_result_0 = select_elites(states_batch, actions_batch, rewards_batch, percentile=0)\n",
        "test_result_30 = select_elites(states_batch, actions_batch, rewards_batch, percentile=30)\n",
        "test_result_90 = select_elites(states_batch, actions_batch, rewards_batch, percentile=90)\n",
        "test_result_100 = select_elites(states_batch, actions_batch, rewards_batch, percentile=100)\n",
        "\n",
        "assert np.all(test_result_0[0] == [1, 2, 3, 4, 2, 0, 2, 3, 1])  \\\n",
        "    and np.all(test_result_0[1] == [0, 2, 4, 3, 2, 0, 1, 3, 3]), \\\n",
        "    \"For percentile 0 you should return all states and actions in chronological order\"\n",
        "assert np.all(test_result_30[0] == [4, 2, 0, 2, 3, 1]) and \\\n",
        "    np.all(test_result_30[1] == [3, 2, 0, 1, 3, 3]), \\\n",
        "    \"For percentile 30 you should only select states/actions from two first\"\n",
        "assert np.all(test_result_90[0] == [3, 1]) and \\\n",
        "    np.all(test_result_90[1] == [3, 3]), \\\n",
        "    \"For percentile 90 you should only select states/actions from one game\"\n",
        "assert np.all(test_result_100[0] == [3, 1]) and\\\n",
        "    np.all(test_result_100[1] == [3, 3]), \\\n",
        "    \"Please make sure you use >=, not >. Also double-check how you compute percentile.\"\n",
        "\n",
        "print(\"Ok!\")"
      ],
      "execution_count": 66,
      "outputs": [
        {
          "output_type": "stream",
          "text": [
            "Ok!\n"
          ],
          "name": "stdout"
        }
      ]
    },
    {
      "cell_type": "code",
      "metadata": {
        "id": "AxLX78wZHxM9"
      },
      "source": [
        "def get_new_policy(elite_states, elite_actions):\n",
        "    \"\"\"\n",
        "    Given a list of elite states/actions from select_elites,\n",
        "    return a new policy where each action probability is proportional to\n",
        "\n",
        "        policy[s_i,a_i] ~ #[occurrences of s_i and a_i in elite states/actions]\n",
        "\n",
        "    Don't forget to normalize the policy to get valid probabilities and handle the 0/0 case.\n",
        "    For states that you never visited, use a uniform distribution (1/n_actions for all states).\n",
        "\n",
        "    :param elite_states: 1D list of states from elite sessions\n",
        "    :param elite_actions: 1D list of actions from elite sessions\n",
        "\n",
        "    \"\"\"\n",
        "    state_action_pair={}\n",
        "    unique_states= list(set(elite_states))\n",
        "\n",
        "    for elem in unique_states:\n",
        "      indices = [i for i, x in enumerate(elite_states) if x == elem]\n",
        "      action_list=[]\n",
        "      for num in indices:\n",
        "        action_list.append(elite_actions[num])\n",
        "      state_action_pair[elem]=action_list\n",
        "    \n",
        "    unique, counts = np.unique(elite_states, return_counts=True)\n",
        "    was_at_si=dict(zip(unique, counts))\n",
        "    new_policy = np.zeros([n_states, n_actions])\n",
        "\n",
        "    for si in range(n_states):\n",
        "      all_si=was_at_si.get(si,0)\n",
        "      for ai in range(n_actions):\n",
        "        if all_si==0:\n",
        "          new_policy[si,ai]=1/n_actions\n",
        "        else:\n",
        "          act_list=state_action_pair[si]\n",
        "          unique_act, count = np.unique(act_list, return_counts=True)\n",
        "          took_ai_si=dict(zip(unique_act, count))\n",
        "          new_policy[si,ai]=took_ai_si.get(ai,0)/all_si\n",
        "    #<YOUR CODE: set probabilities for actions given elite states & actions>\n",
        "    # Don't forget to set 1/n_actions for all actions in unvisited states.\n",
        "\n",
        "    return new_policy"
      ],
      "execution_count": 67,
      "outputs": []
    },
    {
      "cell_type": "code",
      "metadata": {
        "id": "_KR0gIRnHxM-",
        "outputId": "559c8cf5-a527-42f2-afea-6eea402a4736",
        "colab": {
          "base_uri": "https://localhost:8080/"
        }
      },
      "source": [
        "elite_states = [1, 2, 3, 4, 2, 0, 2, 3, 1]\n",
        "elite_actions = [0, 2, 4, 3, 2, 0, 1, 3, 3]\n",
        "\n",
        "new_policy = get_new_policy(elite_states, elite_actions)\n",
        "\n",
        "assert np.isfinite(new_policy).all(), \\\n",
        "    \"Your new policy contains NaNs or +-inf. Make sure you don't divide by zero.\"\n",
        "assert np.all(new_policy >= 0), \\\n",
        "    \"Your new policy can't have negative action probabilities\"\n",
        "assert np.allclose(new_policy.sum(axis=-1), 1), \\\n",
        "    \"Your new policy should be a valid probability distribution over actions\"\n",
        "\n",
        "reference_answer = np.array([\n",
        "    [1.,  0.,  0.,  0.,  0.],\n",
        "    [0.5,  0.,  0.,  0.5,  0.],\n",
        "    [0.,  0.33333333,  0.66666667,  0.,  0.],\n",
        "    [0.,  0.,  0.,  0.5,  0.5]])\n",
        "assert np.allclose(new_policy[:4, :5], reference_answer)\n",
        "\n",
        "print(\"Ok!\")"
      ],
      "execution_count": 68,
      "outputs": [
        {
          "output_type": "stream",
          "text": [
            "Ok!\n"
          ],
          "name": "stdout"
        }
      ]
    },
    {
      "cell_type": "markdown",
      "metadata": {
        "id": "4p0bMmPIHxM-"
      },
      "source": [
        "# Training loop\n",
        "Generate sessions, select N best and fit to those."
      ]
    },
    {
      "cell_type": "code",
      "metadata": {
        "id": "5eMz5ZfUHxM-"
      },
      "source": [
        "from IPython.display import clear_output\n",
        "\n",
        "def show_progress(rewards_batch, log, percentile, reward_range=[-990, +10]):\n",
        "    \"\"\"\n",
        "    A convenience function that displays training progress. \n",
        "    No cool math here, just charts.\n",
        "    \"\"\"\n",
        "\n",
        "    mean_reward = np.mean(rewards_batch)\n",
        "    threshold = np.percentile(rewards_batch, percentile)\n",
        "    log.append([mean_reward, threshold])\n",
        "    \n",
        "    plt.figure(figsize=[8, 4])\n",
        "    plt.subplot(1, 2, 1)\n",
        "    plt.plot(list(zip(*log))[0], label='Mean rewards')\n",
        "    plt.plot(list(zip(*log))[1], label='Reward thresholds')\n",
        "    plt.legend()\n",
        "    plt.grid()\n",
        "\n",
        "    plt.subplot(1, 2, 2)\n",
        "    plt.hist(rewards_batch, range=reward_range)\n",
        "    plt.vlines([np.percentile(rewards_batch, percentile)],\n",
        "               [0], [100], label=\"percentile\", color='red')\n",
        "    plt.legend()\n",
        "    plt.grid()\n",
        "    clear_output(True)\n",
        "    print(\"mean reward = %.3f, threshold=%.3f\" % (mean_reward, threshold))\n",
        "    plt.show()"
      ],
      "execution_count": 69,
      "outputs": []
    },
    {
      "cell_type": "code",
      "metadata": {
        "id": "qbr516WzHxM_"
      },
      "source": [
        "# reset policy just in case\n",
        "policy = initialize_policy(n_states, n_actions)"
      ],
      "execution_count": 13,
      "outputs": []
    },
    {
      "cell_type": "code",
      "metadata": {
        "id": "tEA962guHxM_",
        "outputId": "0b329483-54c4-4e4f-8807-aabf5c94d40e",
        "colab": {
          "base_uri": "https://localhost:8080/",
          "height": 282
        }
      },
      "source": [
        "n_sessions = 250     # sample this many sessions\n",
        "percentile = 50      # take this percent of session with highest rewards\n",
        "learning_rate = 0.5  # how quickly the policy is updated, on a scale from 0 to 1\n",
        "\n",
        "log = []\n",
        "sessions = []\n",
        "for i in range(n_sessions):\n",
        "    s, a, r = generate_session(env, policy, t_max=1000)\n",
        "    #sessions=[(s,a,r)]\n",
        "    %time sessions.append((s,a,r))\n",
        "     #<YOUR CODE: generate a list of n_sessions new sessions>\n",
        "    \n",
        "    states_batch, actions_batch, rewards_batch = zip(*sessions)\n",
        "    elite_states, elite_actions = select_elites(states_batch, actions_batch, rewards_batch, percentile)\n",
        "    #<YOUR CODE: select elite states & actions>\n",
        "\n",
        "    new_policy = get_new_policy(elite_states, elite_actions)\n",
        "    #<YOUR CODE: compute new policy>\n",
        "\n",
        "    policy = learning_rate * new_policy + (1 - learning_rate) * policy\n",
        "\n",
        "    # display results on chart\n",
        "    show_progress(rewards_batch, log, percentile)"
      ],
      "execution_count": 89,
      "outputs": [
        {
          "output_type": "stream",
          "text": [
            "mean reward = -776.772, threshold=-776.000\n"
          ],
          "name": "stdout"
        },
        {
          "output_type": "display_data",
          "data": {
            "image/png": "[encoded data removed]",
            "text/plain": [
              "<Figure size 576x288 with 2 Axes>"
            ]
          },
          "metadata": {
            "tags": [],
            "needs_background": "light"
          }
        }
      ]
    },
    {
      "cell_type": "markdown",
      "metadata": {
        "id": "iRwmKTNDHxNA"
      },
      "source": [
        "### Reflecting on results\n",
        "\n",
        "You may have noticed that the taxi problem quickly converges from less than -1000 to a near-optimal score and then descends back into -50/-100. This is in part because the environment has some innate randomness. Namely, the starting points of passenger/driver change from episode to episode.\n",
        "\n",
        "In case CEM failed to learn how to win from one distinct starting point, it will simply discard it because no sessions from that starting point will make it into the \"elites\".\n",
        "\n",
        "To mitigate that problem, you can either reduce the threshold for elite sessions (duct tape way) or change the way you evaluate strategy (theoretically correct way). For each starting state, you can sample an action randomly, and then evaluate this action by running _several_ games starting from it and averaging the total reward. Choosing elite sessions with this kind of sampling (where each session's reward is counted as the average of the rewards of all sessions with the same starting state and action) should improve the performance of your policy."
      ]
    },
    {
      "cell_type": "markdown",
      "metadata": {
        "id": "usFtZzZ6HxNB"
      },
      "source": [
        "### Submit to coursera"
      ]
    },
    {
      "cell_type": "code",
      "metadata": {
        "id": "hhx0XlvtHxNC"
      },
      "source": [
        "from submit import submit_taxi\n",
        "submit_taxi(generate_session, policy, 'your.email@example.com', 'YourAssignmentToken')"
      ],
      "execution_count": null,
      "outputs": []
    }
  ]
}