{
  "nbformat": 4,
  "nbformat_minor": 0,
  "metadata": {
    "colab": {
      "name": "bandits.ipynb",
      "provenance": []
    },
    "language_info": {
      "name": "python"
    },
    "kernelspec": {
      "name": "python3",
      "display_name": "Python 3"
    }
  },
  "cells": [
    {
      "cell_type": "code",
      "metadata": {
        "id": "7EntTDl8f5kB"
      },
      "source": [
        "import sys, os\n",
        "if 'google.colab' in sys.modules and not os.path.exists('.setup_complete'):\n",
        "    !wget -q https://raw.githubusercontent.com/yandexdataschool/Practical_RL/master/setup_colab.sh -O- | bash\n",
        "\n",
        "    !wget -q https://raw.githubusercontent.com/yandexdataschool/Practical_RL/coursera/grading.py -O ../grading.py\n",
        "    !wget -q https://raw.githubusercontent.com/yandexdataschool/Practical_RL/coursera/week6_outro/submit.py\n",
        "\n",
        "    !touch .setup_complete\n",
        "\n",
        "# This code creates a virtual display to draw game images on.\n",
        "# It will have no effect if your machine has a monitor.\n",
        "if type(os.environ.get(\"DISPLAY\")) is not str or len(os.environ.get(\"DISPLAY\")) == 0:\n",
        "    !bash ../xvfb start\n",
        "    os.environ['DISPLAY'] = ':1'"
      ],
      "execution_count": 45,
      "outputs": []
    },
    {
      "cell_type": "code",
      "metadata": {
        "id": "kzS6XQiaf5kI"
      },
      "source": [
        "from abc import ABCMeta, abstractmethod, abstractproperty\n",
        "import enum\n",
        "\n",
        "import numpy as np\n",
        "np.set_printoptions(precision=3)\n",
        "np.set_printoptions(suppress=True)\n",
        "\n",
        "import pandas\n",
        "\n",
        "import matplotlib.pyplot as plt\n",
        "%matplotlib inline"
      ],
      "execution_count": 46,
      "outputs": []
    },
    {
      "cell_type": "markdown",
      "metadata": {
        "id": "k59ePxc2f5kK"
      },
      "source": [
        "## Bernoulli Bandit\n",
        "\n",
        "We are going to implement several exploration strategies for simplest problem - bernoulli bandit.\n",
        "\n",
        "The bandit has $K$ actions. Action produce 1.0 reward $r$ with probability $0 \\le \\theta_k \\le 1$ which is unknown to agent, but fixed over time. Agent's objective is to minimize regret over fixed number $T$ of action selections:\n",
        "\n",
        "$$\\rho = T\\theta^* - \\sum_{t=1}^T r_t$$\n",
        "\n",
        "Where $\\theta^* = \\max_k\\{\\theta_k\\}$\n",
        "\n",
        "**Real-world analogy:**\n",
        "\n",
        "Clinical trials - we have $K$ pills and $T$ ill patient. After taking pill, patient is cured with probability $\\theta_k$. Task is to find most efficient pill.\n",
        "\n",
        "A research on clinical trials - https://arxiv.org/pdf/1507.08025.pdf"
      ]
    },
    {
      "cell_type": "code",
      "metadata": {
        "id": "QztQZ91lf5kP"
      },
      "source": [
        "class BernoulliBandit:\n",
        "    def __init__(self, n_actions=5):\n",
        "        self._probs = np.random.random(n_actions)\n",
        "\n",
        "    @property\n",
        "    def action_count(self):\n",
        "        return len(self._probs)\n",
        "\n",
        "    def pull(self, action):\n",
        "        if np.any(np.random.random() > self._probs[action]):\n",
        "            return 0.0\n",
        "        return 1.0\n",
        "\n",
        "    def optimal_reward(self):\n",
        "        \"\"\" Used for regret calculation\n",
        "        \"\"\"\n",
        "        return np.max(self._probs)\n",
        "\n",
        "    def step(self):\n",
        "        \"\"\" Used in nonstationary version\n",
        "        \"\"\"\n",
        "        pass\n",
        "\n",
        "    def reset(self):\n",
        "        \"\"\" Used in nonstationary version\n",
        "        \"\"\""
      ],
      "execution_count": 47,
      "outputs": []
    },
    {
      "cell_type": "code",
      "metadata": {
        "id": "DZEK3P5jf5kQ"
      },
      "source": [
        "class AbstractAgent(metaclass=ABCMeta):\n",
        "    def init_actions(self, n_actions):\n",
        "        self._successes = np.zeros(n_actions)\n",
        "        self._failures = np.zeros(n_actions)\n",
        "        self._total_pulls = 0\n",
        "\n",
        "    @abstractmethod\n",
        "    def get_action(self):\n",
        "        \"\"\"\n",
        "        Get current best action\n",
        "        :rtype: int\n",
        "        \"\"\"\n",
        "        pass\n",
        "\n",
        "    def update(self, action, reward):\n",
        "        \"\"\"\n",
        "        Observe reward from action and update agent's internal parameters\n",
        "        :type action: int\n",
        "        :type reward: int\n",
        "        \"\"\"\n",
        "        self._total_pulls += 1\n",
        "        if reward == 1:\n",
        "            self._successes[action] += 1\n",
        "        else:\n",
        "            self._failures[action] += 1\n",
        "\n",
        "    @property\n",
        "    def name(self):\n",
        "        return self.__class__.__name__\n",
        "\n",
        "\n",
        "class RandomAgent(AbstractAgent):\n",
        "    def get_action(self):\n",
        "        return np.random.randint(0, len(self._successes))"
      ],
      "execution_count": 48,
      "outputs": []
    },
    {
      "cell_type": "markdown",
      "metadata": {
        "id": "C_CRH6Prf5kS"
      },
      "source": [
        "### Epsilon-greedy agent\n",
        "\n",
        "**for** $t = 1,2,...$ **do**\n",
        "\n",
        "&nbsp;&nbsp; **for** $k = 1,...,K$ **do**\n",
        "\n",
        "&nbsp;&nbsp;&nbsp;&nbsp;&nbsp;&nbsp; $\\hat\\theta_k \\leftarrow \\alpha_k / (\\alpha_k + \\beta_k)$\n",
        "\n",
        "&nbsp;&nbsp; **end for** \n",
        "\n",
        "&nbsp;&nbsp; $x_t \\leftarrow argmax_{k}\\hat\\theta$ with probability $1 - \\epsilon$ or random action with probability $\\epsilon$\n",
        "\n",
        "&nbsp;&nbsp; Apply $x_t$ and observe $r_t$\n",
        "\n",
        "&nbsp;&nbsp; $(\\alpha_{x_t}, \\beta_{x_t}) \\leftarrow (\\alpha_{x_t}, \\beta_{x_t}) + (r_t, 1-r_t)$\n",
        "\n",
        "**end for**\n",
        "\n",
        "Implement the algorithm above in the cell below:"
      ]
    },
    {
      "cell_type": "code",
      "metadata": {
        "id": "hPdJI4bjf5kT"
      },
      "source": [
        "class EpsilonGreedyAgent(AbstractAgent):\n",
        "    def __init__(self, epsilon=0.01):\n",
        "        self._epsilon = epsilon\n",
        "\n",
        "    def get_action(self):\n",
        "        thetak=self._successes/(self._successes+self._failures)\n",
        "        prob=np.random.random()\n",
        "        if prob>=self._epsilon:\n",
        "          action=np.argmax(thetak)\n",
        "        else:\n",
        "          action=np.random.choice(len(thetak))\n",
        "        \n",
        "        return action\n",
        "\n",
        "\n",
        "    @property\n",
        "    def name(self):\n",
        "        return self.__class__.__name__ + \"(epsilon={})\".format(self._epsilon)"
      ],
      "execution_count": 57,
      "outputs": []
    },
    {
      "cell_type": "markdown",
      "metadata": {
        "id": "mz6tG59kf5kV"
      },
      "source": [
        "### UCB Agent\n",
        "Epsilon-greedy strategy heve no preference for actions. It would be better to select among actions that are uncertain or have potential to be optimal. One can come up with idea of index for each action that represents otimality and uncertainty at the same time. One efficient way to do it is to use UCB1 algorithm:\n",
        "\n",
        "**for** $t = 1,2,...$ **do**\n",
        "\n",
        "&nbsp;&nbsp; **for** $k = 1,...,K$ **do**\n",
        "\n",
        "&nbsp;&nbsp;&nbsp;&nbsp;&nbsp;&nbsp; $w_k \\leftarrow \\alpha_k / (\\alpha_k + \\beta_k) + \\sqrt{2log\\ t \\ / \\ (\\alpha_k + \\beta_k)}$\n",
        "\n",
        "&nbsp;&nbsp; **end for** \n",
        "\n",
        "&nbsp;&nbsp; **end for** \n",
        " $x_t \\leftarrow argmax_{k}w$\n",
        "\n",
        "&nbsp;&nbsp; Apply $x_t$ and observe $r_t$\n",
        "\n",
        "&nbsp;&nbsp; $(\\alpha_{x_t}, \\beta_{x_t}) \\leftarrow (\\alpha_{x_t}, \\beta_{x_t}) + (r_t, 1-r_t)$\n",
        "\n",
        "**end for**\n",
        "\n",
        "__Note:__ in practice, one can multiply $\\sqrt{2log\\ t \\ / \\ (\\alpha_k + \\beta_k)}$ by some tunable parameter to regulate agent's optimism and wilingness to abandon non-promising actions.\n",
        "\n",
        "More versions and optimality analysis - https://homes.di.unimi.it/~cesabian/Pubblicazioni/ml-02.pdf"
      ]
    },
    {
      "cell_type": "code",
      "metadata": {
        "id": "2G_45Farf5kW"
      },
      "source": [
        "class UCBAgent(AbstractAgent):\n",
        "    def get_action(self):\n",
        "        successfail=(self._successes+self._failures)\n",
        "        omegak = self._successes/(successfail+np.sqrt(2*np.log(self._total_pulls+1e-19)/(successfail)))\n",
        "        action = np.argmax(omegak)\n",
        "        return action\n"
      ],
      "execution_count": 51,
      "outputs": []
    },
    {
      "cell_type": "markdown",
      "metadata": {
        "id": "N-BYtCmUf5kX"
      },
      "source": [
        "### Thompson sampling\n",
        "\n",
        "UCB1 algorithm does not take into account actual distribution of rewards. If we know the distribution - we can do much better by using Thompson sampling:\n",
        "\n",
        "**for** $t = 1,2,...$ **do**\n",
        "\n",
        "&nbsp;&nbsp; **for** $k = 1,...,K$ **do**\n",
        "\n",
        "&nbsp;&nbsp;&nbsp;&nbsp;&nbsp;&nbsp; Sample $\\hat\\theta_k \\sim beta(\\alpha_k, \\beta_k)$\n",
        "\n",
        "&nbsp;&nbsp; **end for** \n",
        "\n",
        "&nbsp;&nbsp; $x_t \\leftarrow argmax_{k}\\hat\\theta$\n",
        "\n",
        "&nbsp;&nbsp; Apply $x_t$ and observe $r_t$\n",
        "\n",
        "&nbsp;&nbsp; $(\\alpha_{x_t}, \\beta_{x_t}) \\leftarrow (\\alpha_{x_t}, \\beta_{x_t}) + (r_t, 1-r_t)$\n",
        "\n",
        "**end for**\n",
        " \n",
        "\n",
        "More on Thompson Sampling:\n",
        "https://web.stanford.edu/~bvr/pubs/TS_Tutorial.pdf"
      ]
    },
    {
      "cell_type": "code",
      "metadata": {
        "id": "QpMw4vTpf5kZ"
      },
      "source": [
        "class ThompsonSamplingAgent(AbstractAgent):\n",
        "    def get_action(self):\n",
        "         thetak = np.array([np.random.beta((self._successes+1)[i], (self._failures+1)[i]) for i in range(len(self._successes))])\n",
        "         action=np.argmax(thetak)\n",
        "\n",
        "         return action\n"
      ],
      "execution_count": 53,
      "outputs": []
    },
    {
      "cell_type": "code",
      "metadata": {
        "id": "DTfwaYCTf5ka"
      },
      "source": [
        "from collections import OrderedDict\n",
        "\n",
        "def get_regret(env, agents, n_steps=5000, n_trials=50):\n",
        "    scores = OrderedDict({\n",
        "        agent.name: [0.0 for step in range(n_steps)] for agent in agents\n",
        "    })\n",
        "\n",
        "    for trial in range(n_trials):\n",
        "        env.reset()\n",
        "\n",
        "        for a in agents:\n",
        "            a.init_actions(env.action_count)\n",
        "\n",
        "        for i in range(n_steps):\n",
        "            optimal_reward = env.optimal_reward()\n",
        "\n",
        "            for agent in agents:\n",
        "                action = agent.get_action()\n",
        "                reward = env.pull(action)\n",
        "                agent.update(action, reward)\n",
        "                scores[agent.name][i] += optimal_reward - reward\n",
        "\n",
        "            env.step()  # change bandit's state if it is unstationary\n",
        "\n",
        "    for agent in agents:\n",
        "        scores[agent.name] = np.cumsum(scores[agent.name]) / n_trials\n",
        "\n",
        "    return scores\n",
        "\n",
        "def plot_regret(agents, scores):\n",
        "    for agent in agents:\n",
        "        plt.plot(scores[agent.name])\n",
        "\n",
        "    plt.legend([agent.name for agent in agents])\n",
        "\n",
        "    plt.ylabel(\"regret\")\n",
        "    plt.xlabel(\"steps\")\n",
        "\n",
        "    plt.show()"
      ],
      "execution_count": 54,
      "outputs": []
    },
    {
      "cell_type": "code",
      "metadata": {
        "id": "3yqdNilNf5kb",
        "outputId": "d22f8961-17b5-4286-b0df-e679c22e5d11",
        "colab": {
          "base_uri": "https://localhost:8080/",
          "height": 421
        }
      },
      "source": [
        "# Uncomment agents\n",
        "agents = [\n",
        "         EpsilonGreedyAgent(),\n",
        "         UCBAgent(),\n",
        "         ThompsonSamplingAgent()\n",
        "]\n",
        "\n",
        "regret = get_regret(BernoulliBandit(), agents, n_steps=10000, n_trials=10)\n",
        "plot_regret(agents, regret)"
      ],
      "execution_count": 59,
      "outputs": [
        {
          "output_type": "stream",
          "name": "stderr",
          "text": [
            "/usr/local/lib/python3.7/dist-packages/ipykernel_launcher.py:6: RuntimeWarning: invalid value encountered in true_divide\n",
            "  \n",
            "/usr/local/lib/python3.7/dist-packages/ipykernel_launcher.py:4: RuntimeWarning: divide by zero encountered in true_divide\n",
            "  after removing the cwd from sys.path.\n",
            "/usr/local/lib/python3.7/dist-packages/ipykernel_launcher.py:4: RuntimeWarning: invalid value encountered in sqrt\n",
            "  after removing the cwd from sys.path.\n",
            "/usr/local/lib/python3.7/dist-packages/ipykernel_launcher.py:4: RuntimeWarning: invalid value encountered in true_divide\n",
            "  after removing the cwd from sys.path.\n"
          ]
        },
        {
          "output_type": "display_data",
          "data": {
            "image/png": "[encoded data removed]",
            "text/plain": [
              "<Figure size 432x288 with 1 Axes>"
            ]
          },
          "metadata": {
            "needs_background": "light"
          }
        }
      ]
    },
    {
      "cell_type": "markdown",
      "metadata": {
        "id": "35VsTDg2f5kf"
      },
      "source": [
        "### Submit to coursera"
      ]
    },
    {
      "cell_type": "code",
      "metadata": {
        "id": "2J3X1spdf5kg"
      },
      "source": [
        "from submit import submit_bandits\n",
        "\n",
        "submit_bandits(agents, regret, 'arezoo.alipanah@gmail.com', 'YourAssignmentToken')"
      ],
      "execution_count": null,
      "outputs": []
    }
  ]
}