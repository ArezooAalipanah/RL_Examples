{
  "nbformat": 4,
  "nbformat_minor": 0,
  "metadata": {
    "colab": {
      "name": "practice_tf.ipynb",
      "provenance": []
    },
    "language_info": {
      "name": "python"
    },
    "kernelspec": {
      "name": "python3",
      "display_name": "Python 3"
    }
  },
  "cells": [
    {
      "cell_type": "code",
      "metadata": {
        "id": "E1xpjTE7arqU",
        "outputId": "dcb27e59-de90-4d9e-e0b8-d0ad80c9d997",
        "colab": {
          "base_uri": "https://localhost:8080/"
        }
      },
      "source": [
        "import sys, os\n",
        "if 'google.colab' in sys.modules and not os.path.exists('.setup_complete'):\n",
        "    !pip install tensorflow-gpu==2.6\n",
        "    \n",
        "    !wget -q https://raw.githubusercontent.com/yandexdataschool/Practical_RL/master/setup_colab.sh -O- | bash\n",
        "\n",
        "    !wget -q https://raw.githubusercontent.com/yandexdataschool/Practical_RL/coursera/grading.py -O ../grading.py\n",
        "    !wget -q https://raw.githubusercontent.com/yandexdataschool/Practical_RL/coursera/week6_outro/seq2seq/submit.py\n",
        "    !wget -q https://raw.githubusercontent.com/yandexdataschool/Practical_RL/coursera/week6_outro/seq2seq/basic_model_tf.py\n",
        "    !wget -q https://raw.githubusercontent.com/yandexdataschool/Practical_RL/coursera/week6_outro/seq2seq/he-pron-wiktionary.txt\n",
        "    !wget -q https://raw.githubusercontent.com/yandexdataschool/Practical_RL/coursera/week6_outro/seq2seq/main_dataset.txt\n",
        "    !wget -q https://raw.githubusercontent.com/yandexdataschool/Practical_RL/coursera/week6_outro/seq2seq/voc.py\n",
        "\n",
        "    !touch .setup_complete\n",
        "\n",
        "# This code creates a virtual display to draw game images on.\n",
        "# It will have no effect if your machine has a monitor.\n",
        "if type(os.environ.get(\"DISPLAY\")) is not str or len(os.environ.get(\"DISPLAY\")) == 0:\n",
        "    !bash ../xvfb start\n",
        "    os.environ['DISPLAY'] = ':1'"
      ],
      "execution_count": 1,
      "outputs": [
        {
          "output_type": "stream",
          "name": "stdout",
          "text": [
            "Collecting tensorflow-gpu==2.6\n",
            "  Downloading tensorflow_gpu-2.6.0-cp37-cp37m-manylinux2010_x86_64.whl (458.3 MB)\n",
            "\u001b[K     |████████████████████████████████| 458.3 MB 10 kB/s \n",
            "\u001b[?25hRequirement already satisfied: six~=1.15.0 in /usr/local/lib/python3.7/dist-packages (from tensorflow-gpu==2.6) (1.15.0)\n",
            "Requirement already satisfied: keras~=2.6 in /usr/local/lib/python3.7/dist-packages (from tensorflow-gpu==2.6) (2.6.0)\n",
            "Requirement already satisfied: gast==0.4.0 in /usr/local/lib/python3.7/dist-packages (from tensorflow-gpu==2.6) (0.4.0)\n",
            "Requirement already satisfied: absl-py~=0.10 in /usr/local/lib/python3.7/dist-packages (from tensorflow-gpu==2.6) (0.12.0)\n",
            "Requirement already satisfied: opt-einsum~=3.3.0 in /usr/local/lib/python3.7/dist-packages (from tensorflow-gpu==2.6) (3.3.0)\n",
            "Requirement already satisfied: tensorboard~=2.6 in /usr/local/lib/python3.7/dist-packages (from tensorflow-gpu==2.6) (2.6.0)\n",
            "Requirement already satisfied: tensorflow-estimator~=2.6 in /usr/local/lib/python3.7/dist-packages (from tensorflow-gpu==2.6) (2.6.0)\n",
            "Requirement already satisfied: termcolor~=1.1.0 in /usr/local/lib/python3.7/dist-packages (from tensorflow-gpu==2.6) (1.1.0)\n",
            "Requirement already satisfied: grpcio<2.0,>=1.37.0 in /usr/local/lib/python3.7/dist-packages (from tensorflow-gpu==2.6) (1.41.0)\n",
            "Requirement already satisfied: clang~=5.0 in /usr/local/lib/python3.7/dist-packages (from tensorflow-gpu==2.6) (5.0)\n",
            "Requirement already satisfied: wheel~=0.35 in /usr/local/lib/python3.7/dist-packages (from tensorflow-gpu==2.6) (0.37.0)\n",
            "Requirement already satisfied: h5py~=3.1.0 in /usr/local/lib/python3.7/dist-packages (from tensorflow-gpu==2.6) (3.1.0)\n",
            "Requirement already satisfied: typing-extensions~=3.7.4 in /usr/local/lib/python3.7/dist-packages (from tensorflow-gpu==2.6) (3.7.4.3)\n",
            "Requirement already satisfied: astunparse~=1.6.3 in /usr/local/lib/python3.7/dist-packages (from tensorflow-gpu==2.6) (1.6.3)\n",
            "Requirement already satisfied: keras-preprocessing~=1.1.2 in /usr/local/lib/python3.7/dist-packages (from tensorflow-gpu==2.6) (1.1.2)\n",
            "Requirement already satisfied: numpy~=1.19.2 in /usr/local/lib/python3.7/dist-packages (from tensorflow-gpu==2.6) (1.19.5)\n",
            "Requirement already satisfied: flatbuffers~=1.12.0 in /usr/local/lib/python3.7/dist-packages (from tensorflow-gpu==2.6) (1.12)\n",
            "Requirement already satisfied: google-pasta~=0.2 in /usr/local/lib/python3.7/dist-packages (from tensorflow-gpu==2.6) (0.2.0)\n",
            "Requirement already satisfied: protobuf>=3.9.2 in /usr/local/lib/python3.7/dist-packages (from tensorflow-gpu==2.6) (3.17.3)\n",
            "Requirement already satisfied: wrapt~=1.12.1 in /usr/local/lib/python3.7/dist-packages (from tensorflow-gpu==2.6) (1.12.1)\n",
            "Requirement already satisfied: cached-property in /usr/local/lib/python3.7/dist-packages (from h5py~=3.1.0->tensorflow-gpu==2.6) (1.5.2)\n",
            "Requirement already satisfied: google-auth<2,>=1.6.3 in /usr/local/lib/python3.7/dist-packages (from tensorboard~=2.6->tensorflow-gpu==2.6) (1.35.0)\n",
            "Requirement already satisfied: tensorboard-data-server<0.7.0,>=0.6.0 in /usr/local/lib/python3.7/dist-packages (from tensorboard~=2.6->tensorflow-gpu==2.6) (0.6.1)\n",
            "Requirement already satisfied: markdown>=2.6.8 in /usr/local/lib/python3.7/dist-packages (from tensorboard~=2.6->tensorflow-gpu==2.6) (3.3.4)\n",
            "Requirement already satisfied: setuptools>=41.0.0 in /usr/local/lib/python3.7/dist-packages (from tensorboard~=2.6->tensorflow-gpu==2.6) (57.4.0)\n",
            "Requirement already satisfied: werkzeug>=0.11.15 in /usr/local/lib/python3.7/dist-packages (from tensorboard~=2.6->tensorflow-gpu==2.6) (1.0.1)\n",
            "Requirement already satisfied: tensorboard-plugin-wit>=1.6.0 in /usr/local/lib/python3.7/dist-packages (from tensorboard~=2.6->tensorflow-gpu==2.6) (1.8.0)\n",
            "Requirement already satisfied: requests<3,>=2.21.0 in /usr/local/lib/python3.7/dist-packages (from tensorboard~=2.6->tensorflow-gpu==2.6) (2.23.0)\n",
            "Requirement already satisfied: google-auth-oauthlib<0.5,>=0.4.1 in /usr/local/lib/python3.7/dist-packages (from tensorboard~=2.6->tensorflow-gpu==2.6) (0.4.6)\n",
            "Requirement already satisfied: pyasn1-modules>=0.2.1 in /usr/local/lib/python3.7/dist-packages (from google-auth<2,>=1.6.3->tensorboard~=2.6->tensorflow-gpu==2.6) (0.2.8)\n",
            "Requirement already satisfied: rsa<5,>=3.1.4 in /usr/local/lib/python3.7/dist-packages (from google-auth<2,>=1.6.3->tensorboard~=2.6->tensorflow-gpu==2.6) (4.7.2)\n",
            "Requirement already satisfied: cachetools<5.0,>=2.0.0 in /usr/local/lib/python3.7/dist-packages (from google-auth<2,>=1.6.3->tensorboard~=2.6->tensorflow-gpu==2.6) (4.2.4)\n",
            "Requirement already satisfied: requests-oauthlib>=0.7.0 in /usr/local/lib/python3.7/dist-packages (from google-auth-oauthlib<0.5,>=0.4.1->tensorboard~=2.6->tensorflow-gpu==2.6) (1.3.0)\n",
            "Requirement already satisfied: importlib-metadata in /usr/local/lib/python3.7/dist-packages (from markdown>=2.6.8->tensorboard~=2.6->tensorflow-gpu==2.6) (4.8.1)\n",
            "Requirement already satisfied: pyasn1<0.5.0,>=0.4.6 in /usr/local/lib/python3.7/dist-packages (from pyasn1-modules>=0.2.1->google-auth<2,>=1.6.3->tensorboard~=2.6->tensorflow-gpu==2.6) (0.4.8)\n",
            "Requirement already satisfied: idna<3,>=2.5 in /usr/local/lib/python3.7/dist-packages (from requests<3,>=2.21.0->tensorboard~=2.6->tensorflow-gpu==2.6) (2.10)\n",
            "Requirement already satisfied: certifi>=2017.4.17 in /usr/local/lib/python3.7/dist-packages (from requests<3,>=2.21.0->tensorboard~=2.6->tensorflow-gpu==2.6) (2021.5.30)\n",
            "Requirement already satisfied: chardet<4,>=3.0.2 in /usr/local/lib/python3.7/dist-packages (from requests<3,>=2.21.0->tensorboard~=2.6->tensorflow-gpu==2.6) (3.0.4)\n",
            "Requirement already satisfied: urllib3!=1.25.0,!=1.25.1,<1.26,>=1.21.1 in /usr/local/lib/python3.7/dist-packages (from requests<3,>=2.21.0->tensorboard~=2.6->tensorflow-gpu==2.6) (1.24.3)\n",
            "Requirement already satisfied: oauthlib>=3.0.0 in /usr/local/lib/python3.7/dist-packages (from requests-oauthlib>=0.7.0->google-auth-oauthlib<0.5,>=0.4.1->tensorboard~=2.6->tensorflow-gpu==2.6) (3.1.1)\n",
            "Requirement already satisfied: zipp>=0.5 in /usr/local/lib/python3.7/dist-packages (from importlib-metadata->markdown>=2.6.8->tensorboard~=2.6->tensorflow-gpu==2.6) (3.6.0)\n",
            "Installing collected packages: tensorflow-gpu\n",
            "Successfully installed tensorflow-gpu-2.6.0\n",
            "Selecting previously unselected package xvfb.\n",
            "(Reading database ... 155047 files and directories currently installed.)\n",
            "Preparing to unpack .../xvfb_2%3a1.19.6-1ubuntu4.9_amd64.deb ...\n",
            "Unpacking xvfb (2:1.19.6-1ubuntu4.9) ...\n",
            "Setting up xvfb (2:1.19.6-1ubuntu4.9) ...\n",
            "Processing triggers for man-db (2.8.3-2ubuntu0.1) ...\n",
            "Starting virtual X frame buffer: Xvfb.\n"
          ]
        }
      ]
    },
    {
      "cell_type": "markdown",
      "metadata": {
        "id": "8llukEMWarqf"
      },
      "source": [
        "## Reinforcement Learning for seq2seq\n",
        "\n",
        "This time we'll solve a problem of transribing hebrew words in english, also known as g2p (grapheme2phoneme)\n",
        "\n",
        " * word (sequence of letters in source language) -> translation (sequence of letters in target language)\n",
        "\n",
        "Unlike what most deep learning practitioners do, we won't only train it to maximize likelihood of correct translation, but also employ reinforcement learning to actually teach it to translate with as few errors as possible.\n",
        "\n",
        "\n",
        "### About the task\n",
        "\n",
        "One notable property of Hebrew is that it's consonant language. That is, there are no wovels in the written language. One could represent wovels with diacritics above consonants, but you don't expect people to do that in everyay life.\n",
        "\n",
        "Therefore, some hebrew characters will correspond to several english letters and others - to none, so we should use encoder-decoder architecture to figure that out.\n",
        "\n",
        "![img](https://esciencegroup.files.wordpress.com/2016/03/seq2seq.jpg)\n",
        "_(img: esciencegroup.files.wordpress.com)_\n",
        "\n",
        "Encoder-decoder architectures are about converting anything to anything, including\n",
        " * Machine translation and spoken dialogue systems\n",
        " * [Image captioning](http://mscoco.org/dataset/#captions-challenge2015) and [image2latex](https://openai.com/requests-for-research/#im2latex) (convolutional encoder, recurrent decoder)\n",
        " * Generating [images by captions](https://arxiv.org/abs/1511.02793) (recurrent encoder, convolutional decoder)\n",
        " * Grapheme2phoneme - convert words to transcripts\n",
        "  \n",
        "We chose simplified __Hebrew->English__ machine translation for words and short phrases (character-level), as it is relatively quick to train even without a gpu cluster."
      ]
    },
    {
      "cell_type": "code",
      "metadata": {
        "id": "E9GXaUVZarqm"
      },
      "source": [
        "# If True, only translates phrases shorter than 20 characters (way easier).\n",
        "EASY_MODE = True\n",
        "# Useful for initial coding.\n",
        "# If false, works with all phrases (please switch to this mode for homework assignment)\n",
        "\n",
        "MODE = \"he-to-en\"  # way we translate. Either \"he-to-en\" or \"en-to-he\"\n",
        "# maximal length of _generated_ output, does not affect training\n",
        "MAX_OUTPUT_LENGTH = 50 if not EASY_MODE else 20\n",
        "REPORT_FREQ = 100  # how often to evaluate validation score"
      ],
      "execution_count": 2,
      "outputs": []
    },
    {
      "cell_type": "markdown",
      "metadata": {
        "id": "40iQ7xKTarqp"
      },
      "source": [
        "### Step 1: preprocessing\n",
        "\n",
        "We shall store dataset as a dictionary\n",
        "`{ word1:[translation1,translation2,...], word2:[...],...}`.\n",
        "\n",
        "This is mostly due to the fact that many words have several correct translations.\n",
        "\n",
        "We have implemented this thing for you so that you can focus on more interesting parts.\n",
        "\n",
        "\n",
        "__Attention python2 users!__ You may want to cast everything to unicode later during homework phase, just make sure you do it _everywhere_."
      ]
    },
    {
      "cell_type": "code",
      "metadata": {
        "id": "cSLRdCGjarqs",
        "outputId": "0ee53d75-2dce-41a8-f2c6-bbacd8fe6fd7",
        "colab": {
          "base_uri": "https://localhost:8080/"
        }
      },
      "source": [
        "import numpy as np\n",
        "from collections import defaultdict\n",
        "word_to_translation = defaultdict(list)  # our dictionary\n",
        "\n",
        "bos = '_'\n",
        "eos = ';'\n",
        "\n",
        "with open(\"main_dataset.txt\") as fin:\n",
        "    for line in fin:\n",
        "\n",
        "        en, he = line[:-1].lower().replace(bos, ' ').replace(eos,\n",
        "                                                             ' ').split('\\t')\n",
        "        word, trans = (he, en) if MODE == 'he-to-en' else (en, he)\n",
        "\n",
        "        if len(word) < 3:\n",
        "            continue\n",
        "        if EASY_MODE:\n",
        "            if max(len(word), len(trans)) > 20:\n",
        "                continue\n",
        "\n",
        "        word_to_translation[word].append(trans)\n",
        "\n",
        "print(\"size = \", len(word_to_translation))"
      ],
      "execution_count": 3,
      "outputs": [
        {
          "output_type": "stream",
          "name": "stdout",
          "text": [
            "size =  130113\n"
          ]
        }
      ]
    },
    {
      "cell_type": "code",
      "metadata": {
        "id": "ZUjtjMLoarqu"
      },
      "source": [
        "# get all unique lines in source language\n",
        "all_words = np.array(list(word_to_translation.keys()))\n",
        "# get all unique lines in translation language\n",
        "all_translations = np.array(\n",
        "    [ts for all_ts in word_to_translation.values() for ts in all_ts])"
      ],
      "execution_count": 4,
      "outputs": []
    },
    {
      "cell_type": "markdown",
      "metadata": {
        "id": "mPTORBxParqv"
      },
      "source": [
        "### split the dataset\n",
        "\n",
        "We hold out 10% of all words to be used for validation.\n"
      ]
    },
    {
      "cell_type": "code",
      "metadata": {
        "id": "27r6Mafrarqw"
      },
      "source": [
        "from sklearn.model_selection import train_test_split\n",
        "train_words, test_words = train_test_split(\n",
        "    all_words, test_size=0.1, random_state=42)"
      ],
      "execution_count": 5,
      "outputs": []
    },
    {
      "cell_type": "markdown",
      "metadata": {
        "id": "UomIH4sjarqy"
      },
      "source": [
        "### Building vocabularies\n",
        "\n",
        "We now need to build vocabularies that map strings to token ids and vice versa. We're gonna need these fellas when we feed training data into model or convert output matrices into english words."
      ]
    },
    {
      "cell_type": "code",
      "metadata": {
        "id": "VY_9eEN9arqz"
      },
      "source": [
        "from voc import Vocab\n",
        "inp_voc = Vocab.from_lines(''.join(all_words), bos=bos, eos=eos, sep='')\n",
        "out_voc = Vocab.from_lines(''.join(all_translations), bos=bos, eos=eos, sep='')"
      ],
      "execution_count": 6,
      "outputs": []
    },
    {
      "cell_type": "code",
      "metadata": {
        "id": "uHg7BVg3arq1",
        "outputId": "9f8c931b-d80b-4b4e-f26c-e6bce3b5376e",
        "colab": {
          "base_uri": "https://localhost:8080/"
        }
      },
      "source": [
        "# Here's how you cast lines into ids and backwards.\n",
        "batch_lines = all_words[:5]\n",
        "batch_ids = inp_voc.to_matrix(batch_lines)\n",
        "batch_lines_restored = inp_voc.to_lines(batch_ids)\n",
        "\n",
        "print(\"lines\")\n",
        "print(batch_lines)\n",
        "print(\"\\nwords to ids (0 = bos, 1 = eos):\")\n",
        "print(batch_ids)\n",
        "print(\"\\nback to words\")\n",
        "print(batch_lines_restored)"
      ],
      "execution_count": 7,
      "outputs": [
        {
          "output_type": "stream",
          "name": "stdout",
          "text": [
            "lines\n",
            "['אנרכיזם' 'אוטיזם קלאסי' 'אלבדו' 'אלבמה' 'אכילס']\n",
            "\n",
            "words to ids (0 = bos, 1 = eos):\n",
            "[[  0 113 129 137 124 122 119 126   1   1   1   1   1   1]\n",
            " [  0 113 118 121 122 119 126   2 136 125 113 130 122   1]\n",
            " [  0 113 125 114 116 118   1   1   1   1   1   1   1   1]\n",
            " [  0 113 125 114 127 117   1   1   1   1   1   1   1   1]\n",
            " [  0 113 124 122 125 130   1   1   1   1   1   1   1   1]]\n",
            "\n",
            "back to words\n",
            "['אנרכיזם', 'אוטיזם קלאסי', 'אלבדו', 'אלבמה', 'אכילס']\n"
          ]
        }
      ]
    },
    {
      "cell_type": "markdown",
      "metadata": {
        "id": "_Lgf0atrarq2"
      },
      "source": [
        "Draw word/translation length distributions to estimate the scope of the task."
      ]
    },
    {
      "cell_type": "code",
      "metadata": {
        "id": "JPiRbBYsarq4",
        "outputId": "e27fa192-3647-49f8-b320-0dc9ec70aefb",
        "colab": {
          "base_uri": "https://localhost:8080/",
          "height": 405
        }
      },
      "source": [
        "import matplotlib.pyplot as plt\n",
        "%matplotlib inline\n",
        "plt.figure(figsize=[8, 4])\n",
        "plt.subplot(1, 2, 1)\n",
        "plt.title(\"words\")\n",
        "plt.hist(list(map(len, all_words)), bins=20)\n",
        "\n",
        "plt.subplot(1, 2, 2)\n",
        "plt.title('translations')\n",
        "plt.hist(list(map(len, all_translations)), bins=20)"
      ],
      "execution_count": 8,
      "outputs": [
        {
          "output_type": "execute_result",
          "data": {
            "text/plain": [
              "(array([   21.,   112.,  3098.,  8157., 11482., 12556., 11430.,  9568.,\n",
              "         9254.,  9755., 10299., 11123., 11203., 10840.,  9316.,  7873.,\n",
              "         6527.,  5523.,  4505.,  3684.]),\n",
              " array([ 1.  ,  1.95,  2.9 ,  3.85,  4.8 ,  5.75,  6.7 ,  7.65,  8.6 ,\n",
              "         9.55, 10.5 , 11.45, 12.4 , 13.35, 14.3 , 15.25, 16.2 , 17.15,\n",
              "        18.1 , 19.05, 20.  ]),\n",
              " <a list of 20 Patch objects>)"
            ]
          },
          "metadata": {},
          "execution_count": 8
        },
        {
          "output_type": "display_data",
          "data": {
            "image/png": "[encoded data removed]",
            "text/plain": [
              "<Figure size 576x288 with 2 Axes>"
            ]
          },
          "metadata": {
            "needs_background": "light"
          }
        }
      ]
    },
    {
      "cell_type": "markdown",
      "metadata": {
        "id": "2cY8yOg8arq5"
      },
      "source": [
        "### Step 3: deploy encoder-decoder\n",
        "\n",
        "__assignment starts here__\n",
        "\n",
        "Our architecture consists of two main blocks:\n",
        "* Encoder reads words character by character and outputs code vector (usually a function of last RNN state)\n",
        "* Decoder takes that code vector and produces translations character by character\n",
        "\n",
        "Than it gets fed into a model that follows this simple interface:\n",
        "* __`model.symbolic_translate(inp, **flags) -> out, logp`__ - takes symbolic int32 matrix of hebrew words, produces output tokens sampled from the model and output log-probabilities for all possible tokens at each tick.\n",
        "   * if given flag __`greedy=True`__, takes most likely next token at each iteration. Otherwise samples with next token probabilities predicted by model.\n",
        "* __`model.symbolic_score(inp, out, **flags) -> logp`__ - takes symbolic int32 matrices of hebrew words and their english translations. Computes the log-probabilities of all possible english characters given english prefices and hebrew word.\n",
        "* __`model.weights`__ - weights from all model layers [a list of variables]\n",
        "\n",
        "That's all! It's as hard as it gets. With those two methods alone you can implement all kinds of prediction and training."
      ]
    },
    {
      "cell_type": "code",
      "metadata": {
        "id": "ovJloss2arq6"
      },
      "source": [
        "import tensorflow.compat.v1 as tf\n",
        "tf.disable_eager_execution()\n",
        "tf.reset_default_graph()\n",
        "s = tf.InteractiveSession()\n",
        "\n",
        "# ^^^ if you get \"variable *** already exists\": re-run this cell again"
      ],
      "execution_count": 9,
      "outputs": []
    },
    {
      "cell_type": "code",
      "metadata": {
        "id": "TfpvURolarq8",
        "outputId": "4be359c6-4cc1-45c3-aa7c-d85144a0fc92",
        "colab": {
          "base_uri": "https://localhost:8080/"
        }
      },
      "source": [
        "from basic_model_tf import BasicTranslationModel\n",
        "model = BasicTranslationModel('model', inp_voc, out_voc,\n",
        "                              emb_size=64, hid_size=128)\n",
        "\n",
        "s.run(tf.global_variables_initializer())"
      ],
      "execution_count": 10,
      "outputs": [
        {
          "output_type": "stream",
          "name": "stdout",
          "text": [
            "WARNING:tensorflow:From /content/basic_model_tf.py:53: dynamic_rnn (from tensorflow.python.ops.rnn) is deprecated and will be removed in a future version.\n",
            "Instructions for updating:\n",
            "Please use `keras.layers.RNN(cell)`, which is equivalent to this API\n",
            "WARNING:tensorflow:From /usr/local/lib/python3.7/dist-packages/keras/layers/legacy_rnn/rnn_cell_impl.py:572: calling Constant.__init__ (from tensorflow.python.ops.init_ops) with dtype is deprecated and will be removed in a future version.\n",
            "Instructions for updating:\n",
            "Call initializer instance with the dtype argument instead of passing it to the constructor\n",
            "WARNING:tensorflow:From /usr/local/lib/python3.7/dist-packages/keras/layers/legacy_rnn/rnn_cell_impl.py:582: calling Zeros.__init__ (from tensorflow.python.ops.init_ops) with dtype is deprecated and will be removed in a future version.\n",
            "Instructions for updating:\n",
            "Call initializer instance with the dtype argument instead of passing it to the constructor\n"
          ]
        },
        {
          "output_type": "stream",
          "name": "stderr",
          "text": [
            "/usr/local/lib/python3.7/dist-packages/keras/layers/legacy_rnn/rnn_cell_impl.py:524: UserWarning: `tf.nn.rnn_cell.GRUCell` is deprecated and will be removed in a future version. This class is equivalent as `tf.keras.layers.GRUCell`, and will be replaced by that in Tensorflow 2.0.\n",
            "  warnings.warn(\"`tf.nn.rnn_cell.GRUCell` is deprecated and will be removed \"\n",
            "/usr/local/lib/python3.7/dist-packages/keras/engine/base_layer_v1.py:1684: UserWarning: `layer.add_variable` is deprecated and will be removed in a future version. Please use `layer.add_weight` method instead.\n",
            "  warnings.warn('`layer.add_variable` is deprecated and '\n"
          ]
        }
      ]
    },
    {
      "cell_type": "code",
      "metadata": {
        "id": "pnu0vjaCarq9",
        "outputId": "ad647bec-5e39-4d02-93c3-d2bcdb4ab95a",
        "colab": {
          "base_uri": "https://localhost:8080/"
        }
      },
      "source": [
        "# Play around with symbolic_translate and symbolic_score\n",
        "inp = tf.placeholder_with_default(np.random.randint(\n",
        "    0, 10, [3, 5], dtype='int32'), [None, None])\n",
        "out = tf.placeholder_with_default(np.random.randint(\n",
        "    0, 10, [3, 5], dtype='int32'), [None, None])\n",
        "\n",
        "# translate inp (with untrained model)\n",
        "sampled_out, logp = model.symbolic_translate(inp, greedy=False)\n",
        "print(\"\\nSymbolic_translate output:\\n\", sampled_out, logp)\n",
        "print(\"\\nSample translations:\\n\", s.run(sampled_out))"
      ],
      "execution_count": 11,
      "outputs": [
        {
          "output_type": "stream",
          "name": "stdout",
          "text": [
            "WARNING:tensorflow:From /usr/local/lib/python3.7/dist-packages/tensorflow/python/util/dispatch.py:206: multinomial (from tensorflow.python.ops.random_ops) is deprecated and will be removed in a future version.\n",
            "Instructions for updating:\n",
            "Use `tf.random.categorical` instead.\n",
            "\n",
            "Symbolic_translate output:\n",
            " Tensor(\"transpose_1:0\", shape=(None, None), dtype=int32) Tensor(\"LogSoftmax:0\", shape=(None, None, 283), dtype=float32)\n",
            "\n",
            "Sample translations:\n",
            " [[  0  62 148 221 107 273  82  65 143 170  74]\n",
            " [  0 123 201 132  86 274  27  56 259  27   7]\n",
            " [  0 270 145 280 174 122 268 260  37  79  90]]\n"
          ]
        }
      ]
    },
    {
      "cell_type": "code",
      "metadata": {
        "id": "BHQw4lgIarq_",
        "outputId": "149fdc5b-8de5-4dea-af31-2859185c7a94",
        "colab": {
          "base_uri": "https://localhost:8080/"
        }
      },
      "source": [
        "# score logp(out | inp) with untrained input\n",
        "logp = model.symbolic_score(inp, out)\n",
        "print(\"\\nSymbolic_score output:\\n\", logp)\n",
        "print(\"\\nLog-probabilities (clipped):\\n\", s.run(logp)[:, :2, :5])"
      ],
      "execution_count": 12,
      "outputs": [
        {
          "output_type": "stream",
          "name": "stdout",
          "text": [
            "\n",
            "Symbolic_score output:\n",
            " Tensor(\"LogSoftmax_1:0\", shape=(None, None, 283), dtype=float32)\n",
            "\n",
            "Log-probabilities (clipped):\n",
            " [[[  0.        -69.07755   -69.07755   -69.07755   -69.07755  ]\n",
            "  [ -5.6435184  -5.645311   -5.6492763  -5.6431127  -5.631569 ]]\n",
            "\n",
            " [[  0.        -69.07755   -69.07755   -69.07755   -69.07755  ]\n",
            "  [ -5.6515355  -5.64181    -5.6606364  -5.6514783  -5.6320524]]\n",
            "\n",
            " [[  0.        -69.07755   -69.07755   -69.07755   -69.07755  ]\n",
            "  [ -5.6426563  -5.652763   -5.6433983  -5.6503253  -5.634729 ]]]\n"
          ]
        }
      ]
    },
    {
      "cell_type": "code",
      "metadata": {
        "id": "5O2L-YIYarq_"
      },
      "source": [
        "# Prepare any operations you want here\n",
        "input_sequence = tf.placeholder('int32', [None, None])\n",
        "#greedy_translations, logp = <YOUR CODE: build symbolic translations with greedy = True>\n",
        "greedy_translations, logp = model.symbolic_translate(input_sequence, greedy=True)\n",
        "\n",
        "\n",
        "def translate(lines):\n",
        "    \"\"\"\n",
        "    You are given a list of input lines. \n",
        "    Make your neural network translate them.\n",
        "    :return: a list of output lines\n",
        "    \"\"\"\n",
        "    # Convert lines to a matrix of indices\n",
        "    lines_ix = inp_voc.to_matrix(lines)\n",
        "\n",
        "\n",
        "    # Compute translations in form of indices\n",
        "    #trans_ix = s.run(greedy_translations, { <YOUR CODE: feed_dict> })\n",
        "    trans_ix = s.run(greedy_translations, feed_dict={input_sequence: lines_ix})\n",
        "\n",
        "    # Convert translations back into strings\n",
        "    return out_voc.to_lines(trans_ix)"
      ],
      "execution_count": 14,
      "outputs": []
    },
    {
      "cell_type": "code",
      "metadata": {
        "id": "G4Mc4kTsarrA",
        "outputId": "c2fbe58e-306c-465a-cb36-2a43768f2193",
        "colab": {
          "base_uri": "https://localhost:8080/"
        }
      },
      "source": [
        "print(\"Sample inputs:\", all_words[:3])\n",
        "print(\"Dummy translations:\", translate(all_words[:3]))\n",
        "\n",
        "assert isinstance(greedy_translations,\n",
        "                  tf.Tensor) and greedy_translations.dtype.is_integer, \"trans must be a tensor of integers (token ids)\"\n",
        "assert translate(all_words[:3]) == translate(\n",
        "    all_words[:3]), \"make sure translation is deterministic (use greedy=True and disable any noise layers)\"\n",
        "assert type(translate(all_words[:3])) is list and (type(translate(all_words[:1])[0]) is str or type(\n",
        "    translate(all_words[:1])[0]) is unicode), \"translate(lines) must return a sequence of strings!\"\n",
        "print(\"Tests passed!\")"
      ],
      "execution_count": 15,
      "outputs": [
        {
          "output_type": "stream",
          "name": "stdout",
          "text": [
            "Sample inputs: ['אנרכיזם' 'אוטיזם קלאסי' 'אלבדו']\n",
            "Dummy translations: ['7ṇあיæṇ5ųřяàè’’ןỏķ¡нęδףyυυرùù', 'ìuưjạxṇあżżŏiרר̇ррấấɱɱղ⋯фú7½ę', 'əタ白白ě白ṇ55ل’’’’’’ķ3¡野野野野野lll¡']\n",
            "Tests passed!\n"
          ]
        }
      ]
    },
    {
      "cell_type": "markdown",
      "metadata": {
        "id": "qUbBBSBEarrB"
      },
      "source": [
        "### Scoring function\n",
        "\n",
        "LogLikelihood is a poor estimator of model performance.\n",
        "* If we predict zero probability once, it shouldn't ruin entire model.\n",
        "* It is enough to learn just one translation if there are several correct ones.\n",
        "* What matters is how many mistakes model's gonna make when it translates!\n",
        "\n",
        "Therefore, we will use minimal Levenshtein distance. It measures how many characters do we need to add/remove/replace from model translation to make it perfect. Alternatively, one could use character-level BLEU/RougeL or other similar metrics.\n",
        "\n",
        "The catch here is that Levenshtein distance is not differentiable: it isn't even continuous. We can't train our neural network to maximize it by gradient descent."
      ]
    },
    {
      "cell_type": "code",
      "metadata": {
        "id": "XaAInkWbarrB"
      },
      "source": [
        "import editdistance  # !pip install editdistance\n",
        "\n",
        "\n",
        "def get_distance(word, trans):\n",
        "    \"\"\"\n",
        "    A function that takes word and predicted translation\n",
        "    and evaluates (Levenshtein's) edit distance to closest correct translation\n",
        "    \"\"\"\n",
        "    references = word_to_translation[word]\n",
        "    assert len(references) != 0, \"wrong/unknown word\"\n",
        "    return min(editdistance.eval(trans, ref) for ref in references)\n",
        "\n",
        "\n",
        "def score(words, bsize=100):\n",
        "    \"\"\"a function that computes levenshtein distance for bsize random samples\"\"\"\n",
        "    assert isinstance(words, np.ndarray)\n",
        "\n",
        "    batch_words = np.random.choice(words, size=bsize, replace=False)\n",
        "    batch_trans = translate(batch_words)\n",
        "\n",
        "    distances = list(map(get_distance, batch_words, batch_trans))\n",
        "\n",
        "    return np.array(distances, dtype='float32')"
      ],
      "execution_count": 16,
      "outputs": []
    },
    {
      "cell_type": "code",
      "metadata": {
        "id": "ygf1HOiFarrD",
        "outputId": "9faab4e8-10e3-4e70-808c-3b7304ec04e4",
        "colab": {
          "base_uri": "https://localhost:8080/"
        }
      },
      "source": [
        "# should be around 5-50 and decrease rapidly after training :)\n",
        "[score(test_words, 10).mean() for _ in range(5)]"
      ],
      "execution_count": 17,
      "outputs": [
        {
          "output_type": "execute_result",
          "data": {
            "text/plain": [
              "[37.7, 43.2, 40.2, 39.4, 33.4]"
            ]
          },
          "metadata": {},
          "execution_count": 17
        }
      ]
    },
    {
      "cell_type": "markdown",
      "metadata": {
        "id": "--emqvlxarrD"
      },
      "source": [
        "## Step 2: Supervised pre-training\n",
        "\n",
        "Here we define a function that trains our model through maximizing log-likelihood a.k.a. minimizing crossentropy."
      ]
    },
    {
      "cell_type": "code",
      "metadata": {
        "id": "sybOobwLarrE"
      },
      "source": [
        "# import utility functions\n",
        "from basic_model_tf import initialize_uninitialized, infer_length, infer_mask, select_values_over_last_axis\n",
        "\n",
        "\n",
        "class supervised_training:\n",
        "\n",
        "    # variable for inputs and correct answers\n",
        "    input_sequence = tf.placeholder('int32', [None, None])\n",
        "    reference_answers = tf.placeholder('int32', [None, None])\n",
        "\n",
        "    # Compute log-probabilities of all possible tokens at each step. Use model interface.\n",
        "    \"<YOUR CODE>\"\n",
        "    logprobs_seq = model.symbolic_score(input_sequence, reference_answers)\n",
        "\n",
        "    # compute mean crossentropy\n",
        "    crossentropy = - select_values_over_last_axis(logprobs_seq, reference_answers)\n",
        "\n",
        "    mask = infer_mask(reference_answers, out_voc.eos_ix)\n",
        "\n",
        "    loss = tf.reduce_sum(crossentropy * mask)/tf.reduce_sum(mask)\n",
        "\n",
        "    # Build weights optimizer. Use model.weights to get all trainable params.\n",
        "    train_step = tf.train.AdamOptimizer().minimize(loss, var_list=model.weights)\n",
        "\n",
        "\n",
        "# intialize optimizer params while keeping model intact\n",
        "initialize_uninitialized(s)"
      ],
      "execution_count": 21,
      "outputs": []
    },
    {
      "cell_type": "markdown",
      "metadata": {
        "id": "8S0kem3xarrF"
      },
      "source": [
        "Actually run training on minibatches"
      ]
    },
    {
      "cell_type": "code",
      "metadata": {
        "id": "_GPLtSDCarrF"
      },
      "source": [
        "import random\n",
        "\n",
        "\n",
        "def sample_batch(words, word_to_translation, batch_size):\n",
        "    \"\"\"\n",
        "    sample random batch of words and random correct translation for each word\n",
        "    example usage:\n",
        "    batch_x,batch_y = sample_batch(train_words, word_to_translations,10)\n",
        "    \"\"\"\n",
        "    # choose words\n",
        "    batch_words = np.random.choice(words, size=batch_size)\n",
        "\n",
        "    # choose translations\n",
        "    batch_trans_candidates = list(map(word_to_translation.get, batch_words))\n",
        "    batch_trans = list(map(random.choice, batch_trans_candidates))\n",
        "\n",
        "    return inp_voc.to_matrix(batch_words), out_voc.to_matrix(batch_trans)"
      ],
      "execution_count": 22,
      "outputs": []
    },
    {
      "cell_type": "code",
      "metadata": {
        "id": "_4qUfxoTarrG",
        "outputId": "dc34bc98-0e3f-400e-8495-a6953d0d9e2b",
        "colab": {
          "base_uri": "https://localhost:8080/"
        }
      },
      "source": [
        "bx, by = sample_batch(train_words, word_to_translation, batch_size=3)\n",
        "print(\"Source:\")\n",
        "print(bx)\n",
        "print(\"Target:\")\n",
        "print(by)"
      ],
      "execution_count": 23,
      "outputs": [
        {
          "output_type": "stream",
          "name": "stdout",
          "text": [
            "Source:\n",
            "[[  0 127 124 118 129 122 139   2 127 122 129 122   1]\n",
            " [  0 122 118 130 122   2 124 117 128   1   1   1   1]\n",
            " [  0 113 125 122 117 118   2 136 118 137 128   1   1]]\n",
            "Target:\n",
            "[[ 0 35 41 52 57  2 35 33 50  1  1  1  1  1  1]\n",
            " [ 0 57 47 51 51 41  2 35 47 40 37 46  1  1  1]\n",
            " [ 0 37 44 41 57 33 40 53  2 43 47 50 37 46  1]]\n"
          ]
        }
      ]
    },
    {
      "cell_type": "code",
      "metadata": {
        "id": "KAkagGp5arrG",
        "outputId": "69d42576-7d6e-4001-9868-c0765adc5373",
        "colab": {
          "base_uri": "https://localhost:8080/",
          "height": 316
        }
      },
      "source": [
        "from IPython.display import clear_output\n",
        "from tqdm import tqdm, trange  # or use tqdm_notebook,tnrange\n",
        "\n",
        "loss_history = []\n",
        "editdist_history = []\n",
        "\n",
        "for i in trange(25000):\n",
        "    bx, by = sample_batch(train_words, word_to_translation, 32)\n",
        "\n",
        "    feed_dict = {\n",
        "        supervised_training.input_sequence: bx,\n",
        "        supervised_training.reference_answers: by\n",
        "    }\n",
        "\n",
        "    loss, _ = s.run([supervised_training.loss,\n",
        "                     supervised_training.train_step], feed_dict)\n",
        "    loss_history.append(loss)\n",
        "\n",
        "    if (i+1) % REPORT_FREQ == 0:\n",
        "        clear_output(True)\n",
        "        current_scores = score(test_words)\n",
        "        editdist_history.append(current_scores.mean())\n",
        "        plt.figure(figsize=(12, 4))\n",
        "        plt.subplot(131)\n",
        "        plt.title('train loss / traning time')\n",
        "        plt.plot(loss_history)\n",
        "        plt.grid()\n",
        "        plt.subplot(132)\n",
        "        plt.title('val score distribution')\n",
        "        plt.hist(current_scores, bins=20)\n",
        "        plt.subplot(133)\n",
        "        plt.title('val score / traning time')\n",
        "        plt.plot(editdist_history)\n",
        "        plt.grid()\n",
        "        plt.show()\n",
        "        print(\"llh=%.3f, mean score=%.3f\" %\n",
        "              (np.mean(loss_history[-10:]), np.mean(editdist_history[-10:])))\n",
        "\n",
        "# Note: it's okay if loss oscillates up and down as long as it gets better on average over long term (e.g. 5k batches)"
      ],
      "execution_count": 24,
      "outputs": [
        {
          "output_type": "display_data",
          "data": {
            "image/png": "[encoded data removed]",
            "text/plain": [
              "<Figure size 864x288 with 3 Axes>"
            ]
          },
          "metadata": {
            "needs_background": "light"
          }
        },
        {
          "output_type": "stream",
          "name": "stderr",
          "text": [
            "\r100%|██████████| 25000/25000 [30:46<00:00, 13.54it/s]"
          ]
        },
        {
          "output_type": "stream",
          "name": "stdout",
          "text": [
            "llh=1.336, mean score=6.658\n"
          ]
        },
        {
          "output_type": "stream",
          "name": "stderr",
          "text": [
            "\n"
          ]
        }
      ]
    },
    {
      "cell_type": "code",
      "metadata": {
        "id": "kSD0rOn6arrH",
        "outputId": "e9e531e1-a9b2-4e6a-a9f2-8243935c4cc0",
        "colab": {
          "base_uri": "https://localhost:8080/"
        }
      },
      "source": [
        "for word in train_words[:10]:\n",
        "    print(\"%s -> %s\" % (word, translate([word])[0]))"
      ],
      "execution_count": 25,
      "outputs": [
        {
          "output_type": "stream",
          "name": "stdout",
          "text": [
            "כל אנשי סמיילי -> seal in marica\n",
            "קטגוריה:ערוץ 2 -> man 20\n",
            "עבודה מהבית -> amban diaration\n",
            "פראליה -> pralia\n",
            "קפלר 42 -> kapler 47\n",
            "קטגוריה:מתאסלמים -> mattelemism\n",
            "בושמי -> boshmi\n",
            "לאונרדו -> launerod\n",
            "שאמה -> shama\n",
            "עכברה -> azharov\n"
          ]
        }
      ]
    },
    {
      "cell_type": "code",
      "metadata": {
        "id": "BvT3ceCcarrH",
        "outputId": "2f300485-825d-4d60-aab2-c1cb0a1c158b",
        "colab": {
          "base_uri": "https://localhost:8080/"
        }
      },
      "source": [
        "test_scores = []\n",
        "for start_i in trange(0, len(test_words), 32):\n",
        "    batch_words = test_words[start_i:start_i+32]\n",
        "    batch_trans = translate(batch_words)\n",
        "    distances = list(map(get_distance, batch_words, batch_trans))\n",
        "    test_scores.extend(distances)\n",
        "\n",
        "print(\"Supervised test score:\", np.mean(test_scores))"
      ],
      "execution_count": 26,
      "outputs": [
        {
          "output_type": "stream",
          "name": "stderr",
          "text": [
            "100%|██████████| 407/407 [00:12<00:00, 32.35it/s]"
          ]
        },
        {
          "output_type": "stream",
          "name": "stdout",
          "text": [
            "Supervised test score: 6.7952659083922535\n"
          ]
        },
        {
          "output_type": "stream",
          "name": "stderr",
          "text": [
            "\n"
          ]
        }
      ]
    },
    {
      "cell_type": "markdown",
      "metadata": {
        "id": "4q9CekbjarrJ"
      },
      "source": [
        "## Preparing for reinforcement learning\n",
        "\n",
        "First we need to define loss function as a custom tf operation.\n",
        "\n",
        "The simple way to do so is through `tensorflow.py_func` wrapper.\n",
        "```\n",
        "def my_func(x):\n",
        "  # x will be a numpy array with the contents of the placeholder below\n",
        "  return np.sinh(x)\n",
        "inp = tf.placeholder(tf.float32)\n",
        "y = tf.py_func(my_func, [inp], tf.float32)\n",
        "```\n",
        "\n",
        "\n",
        "__Your task__ is to implement `_compute_levenshtein` function that takes matrices of words and translations, along with input masks, then converts those to actual words and phonemes and computes min-levenshtein via __get_distance__ function above.\n"
      ]
    },
    {
      "cell_type": "code",
      "metadata": {
        "id": "WQDBD5NaarrJ"
      },
      "source": [
        "def _compute_levenshtein(words_ix, trans_ix):\n",
        "    \"\"\"\n",
        "    A custom tensorflow operation that computes levenshtein loss for predicted trans.\n",
        "\n",
        "    Params:\n",
        "    - words_ix - a matrix of letter indices, shape=[batch_size,word_length]\n",
        "    - words_mask - a matrix of zeros/ones, \n",
        "       1 means \"word is still not finished\"\n",
        "       0 means \"word has already finished and this is padding\"\n",
        "\n",
        "    - trans_mask - a matrix of output letter indices, shape=[batch_size,translation_length]\n",
        "    - trans_mask - a matrix of zeros/ones, similar to words_mask but for trans_ix\n",
        "\n",
        "\n",
        "    Please implement the function and make sure it passes tests from the next cell.\n",
        "\n",
        "    \"\"\"\n",
        "\n",
        "    # convert words to strings\n",
        "    #<YOUR CODE: restore words (a list of strings) from words_ix. Use vocab>\n",
        "    words = inp_voc.to_lines(words_ix)\n",
        "\n",
        "    assert type(words) is list and type(\n",
        "        words[0]) is str and len(words) == len(words_ix)\n",
        "\n",
        "    # convert translations to lists\n",
        "    #<YOUR CODE: restore trans (a list of lists of phonemes) from trans_ix>\n",
        "    translations = out_voc.to_lines(trans_ix)\n",
        "\n",
        "    assert type(translations) is list and type(\n",
        "        translations[0]) is str and len(translations) == len(trans_ix)\n",
        "\n",
        "    # computes levenstein distances. can be arbitrary python code.\n",
        "    #<YOUR CODE: apply get_distance to each pair of [words, translations]>\n",
        "    distances = [get_distance(words[i], translations[i]) for i in range(len(words))]\n",
        "\n",
        "    assert type(distances) in (list, tuple, np.ndarray) and len(\n",
        "        distances) == len(words_ix)\n",
        "\n",
        "    distances = np.array(list(distances), dtype='float32')\n",
        "    return distances\n",
        "\n",
        "def compute_levenshtein(words_ix, trans_ix):\n",
        "    out = tf.py_func(_compute_levenshtein, [words_ix, trans_ix, ], tf.float32)\n",
        "    out.set_shape([None])\n",
        "\n",
        "    return tf.stop_gradient(out)"
      ],
      "execution_count": 28,
      "outputs": []
    },
    {
      "cell_type": "markdown",
      "metadata": {
        "id": "Ayjw1aMzarrK"
      },
      "source": [
        "Simple test suite to make sure your implementation is correct. Hint: if you run into any bugs, feel free to use print from inside _compute_levenshtein."
      ]
    },
    {
      "cell_type": "code",
      "metadata": {
        "id": "lcVg5e0garrK"
      },
      "source": [
        "# test suite\n",
        "# sample random batch of (words, correct trans, wrong trans)\n",
        "batch_words = np.random.choice(train_words, size=100)\n",
        "batch_trans = list(map(random.choice, map(\n",
        "    word_to_translation.get, batch_words)))\n",
        "batch_trans_wrong = np.random.choice(all_translations, size=100)\n",
        "\n",
        "batch_words_ix = tf.constant(inp_voc.to_matrix(batch_words))\n",
        "batch_trans_ix = tf.constant(out_voc.to_matrix(batch_trans))\n",
        "batch_trans_wrong_ix = tf.constant(out_voc.to_matrix(batch_trans_wrong))"
      ],
      "execution_count": 29,
      "outputs": []
    },
    {
      "cell_type": "code",
      "metadata": {
        "id": "Jowj1fvuarrK",
        "outputId": "0f7b60a3-9e98-4757-e536-249cbd10df3e",
        "colab": {
          "base_uri": "https://localhost:8080/"
        }
      },
      "source": [
        "# assert compute_levenshtein is zero for ideal translations\n",
        "correct_answers_score = compute_levenshtein(\n",
        "    batch_words_ix, batch_trans_ix).eval()\n",
        "\n",
        "assert np.all(correct_answers_score ==\n",
        "              0), \"a perfect translation got nonzero levenshtein score!\"\n",
        "\n",
        "print(\"Everything seems alright!\")"
      ],
      "execution_count": 30,
      "outputs": [
        {
          "output_type": "stream",
          "name": "stdout",
          "text": [
            "WARNING:tensorflow:From <ipython-input-28-1d89368564a2>:44: py_func (from tensorflow.python.ops.script_ops) is deprecated and will be removed in a future version.\n",
            "Instructions for updating:\n",
            "tf.py_func is deprecated in TF V2. Instead, there are two\n",
            "    options available in V2.\n",
            "    - tf.py_function takes a python function which manipulates tf eager\n",
            "    tensors instead of numpy arrays. It's easy to convert a tf eager tensor to\n",
            "    an ndarray (just call tensor.numpy()) but having access to eager tensors\n",
            "    means `tf.py_function`s can use accelerators such as GPUs as well as\n",
            "    being differentiable using a gradient tape.\n",
            "    - tf.numpy_function maintains the semantics of the deprecated tf.py_func\n",
            "    (it is not differentiable, and manipulates numpy arrays). It drops the\n",
            "    stateful argument making all functions stateful.\n",
            "    \n",
            "Everything seems alright!\n"
          ]
        }
      ]
    },
    {
      "cell_type": "code",
      "metadata": {
        "id": "WVJ4FdNMarrO",
        "outputId": "b299d43a-b3e1-494e-d39e-d081183e5fc4",
        "colab": {
          "base_uri": "https://localhost:8080/"
        }
      },
      "source": [
        "# assert compute_levenshtein matches actual scoring function\n",
        "wrong_answers_score = compute_levenshtein(\n",
        "    batch_words_ix, batch_trans_wrong_ix).eval()\n",
        "\n",
        "true_wrong_answers_score = np.array(\n",
        "    list(map(get_distance, batch_words, batch_trans_wrong)))\n",
        "\n",
        "assert np.all(wrong_answers_score ==\n",
        "              true_wrong_answers_score), \"for some word symbolic levenshtein is different from actual levenshtein distance\"\n",
        "\n",
        "print(\"Everything seems alright!\")"
      ],
      "execution_count": 31,
      "outputs": [
        {
          "output_type": "stream",
          "name": "stdout",
          "text": [
            "Everything seems alright!\n"
          ]
        }
      ]
    },
    {
      "cell_type": "markdown",
      "metadata": {
        "id": "ZieYvO4tarrP"
      },
      "source": [
        "Once you got it working...\n",
        "\n",
        "\n",
        "* You may now want to __remove/comment asserts__ from function code for a slight speed-up.\n",
        "\n",
        "* There's a more detailed tutorial on custom tensorflow ops: [`py_func`](https://www.tensorflow.org/api_docs/python/tf/py_func), [`low-level`](https://www.tensorflow.org/api_docs/python/tf/py_func)."
      ]
    },
    {
      "cell_type": "markdown",
      "metadata": {
        "id": "fxQPHXm3arrQ"
      },
      "source": [
        "## 3. Self-critical policy gradient\n",
        "\n",
        "In this section you'll implement algorithm called self-critical sequence training (here's an [article](https://arxiv.org/abs/1612.00563)).\n",
        "\n",
        "The algorithm is a vanilla policy gradient with a special baseline. \n",
        "\n",
        "$$ \\nabla J = E_{x \\sim p(s)} E_{y \\sim \\pi(y|x)} \\nabla log \\pi(y|x) \\cdot (R(x,y) - b(x)) $$\n",
        "\n",
        "Here reward R(x,y) is a __negative levenshtein distance__ (since we minimize it). The baseline __b(x)__ represents how well model fares on word __x__.\n",
        "\n",
        "In practice, this means that we compute baseline as a score of greedy translation, $b(x) = R(x,y_{greedy}(x)) $.\n",
        "\n",
        "![img](https://github.com/yandexdataschool/Practical_RL/raw/master/yet_another_week/_resource/scheme.png)\n",
        "Luckily, we already obtained the required outputs: `model.greedy_translations, model.greedy_mask` and we only need to compute levenshtein using `compute_levenshtein` function.\n"
      ]
    },
    {
      "cell_type": "code",
      "metadata": {
        "id": "UzEarOjwarrQ"
      },
      "source": [
        "class trainer:\n",
        "\n",
        "    input_sequence = tf.placeholder('int32', [None, None])\n",
        "\n",
        "    # use model to __sample__ symbolic translations given input_sequence\n",
        "    sample_translations, sample_logp = model.symbolic_translate(input_sequence, greedy=False)\n",
        "    # use model to __greedy__ symbolic translations given input_sequence\n",
        "    greedy_translations, greedy_logp =model.symbolic_translate(input_sequence, greedy=True)\n",
        "\n",
        "    rewards = - compute_levenshtein(input_sequence, sample_translations)\n",
        "\n",
        "    # compute __negative__ levenshtein for greedy mode\n",
        "    baseline =- compute_levenshtein(input_sequence, greedy_translations)\n",
        "\n",
        "    # compute advantage using rewards and baseline\n",
        "    advantage = rewards - baseline\n",
        "    assert advantage.shape.ndims == 1, \"advantage must be of shape [batch_size]\"\n",
        "\n",
        "    # compute log_pi(a_t|s_t), shape = [batch, seq_length]\n",
        "    logprobs_phoneme = select_values_over_last_axis(sample_logp, sample_translations)\n",
        "    # ^-- hint: look at how crossentropy is implemented in supervised learning loss above\n",
        "    # mind the sign - this one should not be multiplied by -1 :)\n",
        "\n",
        "\n",
        "    # Compute policy gradient\n",
        "    # or rather surrogate function who's gradient is policy gradient\n",
        "    J = logprobs_phoneme*advantage[:, None]\n",
        "\n",
        "    mask = infer_mask(sample_translations, out_voc.eos_ix)\n",
        "    loss = - tf.reduce_sum(J*mask) / tf.reduce_sum(mask)\n",
        "\n",
        "    # regularize with negative entropy. Don't forget the sign!\n",
        "    # note: for entropy you need probabilities for all tokens (sample_logp), not just phoneme_logprobs\n",
        "    entropy = -tf.reduce_sum(sample_logp * tf.exp(sample_logp), axis=-1)\n",
        "    #<compute entropy matrix of shape[batch, seq_length], H = -sum(p*log_p), don't forget the sign!>\n",
        "    # hint: you can get sample probabilities from sample_logp using math :)\n",
        "\n",
        "\n",
        "    assert entropy.shape.ndims == 2, \"please make sure elementwise entropy is of shape [batch,time]\"\n",
        "\n",
        "    loss -= 0.01*tf.reduce_sum(entropy*mask) / tf.reduce_sum(mask)\n",
        "\n",
        "    # compute weight updates, clip by norm\n",
        "    grads = tf.gradients(loss, model.weights)\n",
        "    grads = tf.clip_by_global_norm(grads, 50)[0]\n",
        "\n",
        "    train_step = tf.train.AdamOptimizer(\n",
        "        learning_rate=1e-5).apply_gradients(zip(grads, model.weights,))\n",
        "\n",
        "\n",
        "initialize_uninitialized()"
      ],
      "execution_count": 35,
      "outputs": []
    },
    {
      "cell_type": "markdown",
      "metadata": {
        "id": "sLKUz85RarrQ"
      },
      "source": [
        "# Policy gradient training\n"
      ]
    },
    {
      "cell_type": "code",
      "metadata": {
        "id": "ukh0fxvgarrR",
        "outputId": "75dfe334-cc22-4bed-fae7-3ca179ad0450",
        "colab": {
          "base_uri": "https://localhost:8080/",
          "height": 687
        }
      },
      "source": [
        "for i in trange(100000):\n",
        "    bx = sample_batch(train_words, word_to_translation, 32)[0]\n",
        "    pseudo_loss, _ = s.run([trainer.loss, trainer.train_step], {\n",
        "                           trainer.input_sequence: bx})\n",
        "\n",
        "    loss_history.append(\n",
        "        pseudo_loss\n",
        "    )\n",
        "\n",
        "    if (i+1) % REPORT_FREQ == 0:\n",
        "        clear_output(True)\n",
        "        current_scores = score(test_words)\n",
        "        editdist_history.append(current_scores.mean())\n",
        "        plt.figure(figsize=(8, 4))\n",
        "        plt.subplot(121)\n",
        "        plt.title('val score distribution')\n",
        "        plt.hist(current_scores, bins=20)\n",
        "        plt.subplot(122)\n",
        "        plt.title('val score / traning time')\n",
        "        plt.plot(editdist_history)\n",
        "        plt.grid()\n",
        "        plt.show()\n",
        "        print(\"J=%.3f, mean score=%.3f\" %\n",
        "              (np.mean(loss_history[-10:]), np.mean(editdist_history[-10:])))"
      ],
      "execution_count": 36,
      "outputs": [
        {
          "output_type": "display_data",
          "data": {
            "image/png": "[encoded data removed]",
            "text/plain": [
              "<Figure size 576x288 with 2 Axes>"
            ]
          },
          "metadata": {
            "needs_background": "light"
          }
        },
        {
          "output_type": "stream",
          "name": "stderr",
          "text": [
            "  8%|▊         | 8401/100000 [19:40<5:47:07,  4.40it/s]"
          ]
        },
        {
          "output_type": "stream",
          "name": "stdout",
          "text": [
            "J=-1.150, mean score=6.560\n"
          ]
        },
        {
          "output_type": "stream",
          "name": "stderr",
          "text": [
            "  8%|▊         | 8411/100000 [19:42<3:34:32,  7.11it/s]\n"
          ]
        },
        {
          "output_type": "error",
          "ename": "KeyboardInterrupt",
          "evalue": "ignored",
          "traceback": [
            "\u001b[0;31m---------------------------------------------------------------------------\u001b[0m",
            "\u001b[0;31mKeyboardInterrupt\u001b[0m                         Traceback (most recent call last)",
            "\u001b[0;32m<ipython-input-36-c7c374e761d1>\u001b[0m in \u001b[0;36m<module>\u001b[0;34m()\u001b[0m\n\u001b[1;32m      2\u001b[0m     \u001b[0mbx\u001b[0m \u001b[0;34m=\u001b[0m \u001b[0msample_batch\u001b[0m\u001b[0;34m(\u001b[0m\u001b[0mtrain_words\u001b[0m\u001b[0;34m,\u001b[0m \u001b[0mword_to_translation\u001b[0m\u001b[0;34m,\u001b[0m \u001b[0;36m32\u001b[0m\u001b[0;34m)\u001b[0m\u001b[0;34m[\u001b[0m\u001b[0;36m0\u001b[0m\u001b[0;34m]\u001b[0m\u001b[0;34m\u001b[0m\u001b[0;34m\u001b[0m\u001b[0m\n\u001b[1;32m      3\u001b[0m     pseudo_loss, _ = s.run([trainer.loss, trainer.train_step], {\n\u001b[0;32m----> 4\u001b[0;31m                            trainer.input_sequence: bx})\n\u001b[0m\u001b[1;32m      5\u001b[0m \u001b[0;34m\u001b[0m\u001b[0m\n\u001b[1;32m      6\u001b[0m     loss_history.append(\n",
            "\u001b[0;32m/usr/local/lib/python3.7/dist-packages/tensorflow/python/client/session.py\u001b[0m in \u001b[0;36mrun\u001b[0;34m(self, fetches, feed_dict, options, run_metadata)\u001b[0m\n\u001b[1;32m    966\u001b[0m     \u001b[0;32mtry\u001b[0m\u001b[0;34m:\u001b[0m\u001b[0;34m\u001b[0m\u001b[0;34m\u001b[0m\u001b[0m\n\u001b[1;32m    967\u001b[0m       result = self._run(None, fetches, feed_dict, options_ptr,\n\u001b[0;32m--> 968\u001b[0;31m                          run_metadata_ptr)\n\u001b[0m\u001b[1;32m    969\u001b[0m       \u001b[0;32mif\u001b[0m \u001b[0mrun_metadata\u001b[0m\u001b[0;34m:\u001b[0m\u001b[0;34m\u001b[0m\u001b[0;34m\u001b[0m\u001b[0m\n\u001b[1;32m    970\u001b[0m         \u001b[0mproto_data\u001b[0m \u001b[0;34m=\u001b[0m \u001b[0mtf_session\u001b[0m\u001b[0;34m.\u001b[0m\u001b[0mTF_GetBuffer\u001b[0m\u001b[0;34m(\u001b[0m\u001b[0mrun_metadata_ptr\u001b[0m\u001b[0;34m)\u001b[0m\u001b[0;34m\u001b[0m\u001b[0;34m\u001b[0m\u001b[0m\n",
            "\u001b[0;32m/usr/local/lib/python3.7/dist-packages/tensorflow/python/client/session.py\u001b[0m in \u001b[0;36m_run\u001b[0;34m(self, handle, fetches, feed_dict, options, run_metadata)\u001b[0m\n\u001b[1;32m   1189\u001b[0m     \u001b[0;32mif\u001b[0m \u001b[0mfinal_fetches\u001b[0m \u001b[0;32mor\u001b[0m \u001b[0mfinal_targets\u001b[0m \u001b[0;32mor\u001b[0m \u001b[0;34m(\u001b[0m\u001b[0mhandle\u001b[0m \u001b[0;32mand\u001b[0m \u001b[0mfeed_dict_tensor\u001b[0m\u001b[0;34m)\u001b[0m\u001b[0;34m:\u001b[0m\u001b[0;34m\u001b[0m\u001b[0;34m\u001b[0m\u001b[0m\n\u001b[1;32m   1190\u001b[0m       results = self._do_run(handle, final_targets, final_fetches,\n\u001b[0;32m-> 1191\u001b[0;31m                              feed_dict_tensor, options, run_metadata)\n\u001b[0m\u001b[1;32m   1192\u001b[0m     \u001b[0;32melse\u001b[0m\u001b[0;34m:\u001b[0m\u001b[0;34m\u001b[0m\u001b[0;34m\u001b[0m\u001b[0m\n\u001b[1;32m   1193\u001b[0m       \u001b[0mresults\u001b[0m \u001b[0;34m=\u001b[0m \u001b[0;34m[\u001b[0m\u001b[0;34m]\u001b[0m\u001b[0;34m\u001b[0m\u001b[0;34m\u001b[0m\u001b[0m\n",
            "\u001b[0;32m/usr/local/lib/python3.7/dist-packages/tensorflow/python/client/session.py\u001b[0m in \u001b[0;36m_do_run\u001b[0;34m(self, handle, target_list, fetch_list, feed_dict, options, run_metadata)\u001b[0m\n\u001b[1;32m   1367\u001b[0m     \u001b[0;32mif\u001b[0m \u001b[0mhandle\u001b[0m \u001b[0;32mis\u001b[0m \u001b[0;32mNone\u001b[0m\u001b[0;34m:\u001b[0m\u001b[0;34m\u001b[0m\u001b[0;34m\u001b[0m\u001b[0m\n\u001b[1;32m   1368\u001b[0m       return self._do_call(_run_fn, feeds, fetches, targets, options,\n\u001b[0;32m-> 1369\u001b[0;31m                            run_metadata)\n\u001b[0m\u001b[1;32m   1370\u001b[0m     \u001b[0;32melse\u001b[0m\u001b[0;34m:\u001b[0m\u001b[0;34m\u001b[0m\u001b[0;34m\u001b[0m\u001b[0m\n\u001b[1;32m   1371\u001b[0m       \u001b[0;32mreturn\u001b[0m \u001b[0mself\u001b[0m\u001b[0;34m.\u001b[0m\u001b[0m_do_call\u001b[0m\u001b[0;34m(\u001b[0m\u001b[0m_prun_fn\u001b[0m\u001b[0;34m,\u001b[0m \u001b[0mhandle\u001b[0m\u001b[0;34m,\u001b[0m \u001b[0mfeeds\u001b[0m\u001b[0;34m,\u001b[0m \u001b[0mfetches\u001b[0m\u001b[0;34m)\u001b[0m\u001b[0;34m\u001b[0m\u001b[0;34m\u001b[0m\u001b[0m\n",
            "\u001b[0;32m/usr/local/lib/python3.7/dist-packages/tensorflow/python/client/session.py\u001b[0m in \u001b[0;36m_do_call\u001b[0;34m(self, fn, *args)\u001b[0m\n\u001b[1;32m   1373\u001b[0m   \u001b[0;32mdef\u001b[0m \u001b[0m_do_call\u001b[0m\u001b[0;34m(\u001b[0m\u001b[0mself\u001b[0m\u001b[0;34m,\u001b[0m \u001b[0mfn\u001b[0m\u001b[0;34m,\u001b[0m \u001b[0;34m*\u001b[0m\u001b[0margs\u001b[0m\u001b[0;34m)\u001b[0m\u001b[0;34m:\u001b[0m\u001b[0;34m\u001b[0m\u001b[0;34m\u001b[0m\u001b[0m\n\u001b[1;32m   1374\u001b[0m     \u001b[0;32mtry\u001b[0m\u001b[0;34m:\u001b[0m\u001b[0;34m\u001b[0m\u001b[0;34m\u001b[0m\u001b[0m\n\u001b[0;32m-> 1375\u001b[0;31m       \u001b[0;32mreturn\u001b[0m \u001b[0mfn\u001b[0m\u001b[0;34m(\u001b[0m\u001b[0;34m*\u001b[0m\u001b[0margs\u001b[0m\u001b[0;34m)\u001b[0m\u001b[0;34m\u001b[0m\u001b[0;34m\u001b[0m\u001b[0m\n\u001b[0m\u001b[1;32m   1376\u001b[0m     \u001b[0;32mexcept\u001b[0m \u001b[0merrors\u001b[0m\u001b[0;34m.\u001b[0m\u001b[0mOpError\u001b[0m \u001b[0;32mas\u001b[0m \u001b[0me\u001b[0m\u001b[0;34m:\u001b[0m\u001b[0;34m\u001b[0m\u001b[0;34m\u001b[0m\u001b[0m\n\u001b[1;32m   1377\u001b[0m       \u001b[0mmessage\u001b[0m \u001b[0;34m=\u001b[0m \u001b[0mcompat\u001b[0m\u001b[0;34m.\u001b[0m\u001b[0mas_text\u001b[0m\u001b[0;34m(\u001b[0m\u001b[0me\u001b[0m\u001b[0;34m.\u001b[0m\u001b[0mmessage\u001b[0m\u001b[0;34m)\u001b[0m\u001b[0;34m\u001b[0m\u001b[0;34m\u001b[0m\u001b[0m\n",
            "\u001b[0;32m/usr/local/lib/python3.7/dist-packages/tensorflow/python/client/session.py\u001b[0m in \u001b[0;36m_run_fn\u001b[0;34m(feed_dict, fetch_list, target_list, options, run_metadata)\u001b[0m\n\u001b[1;32m   1358\u001b[0m       \u001b[0mself\u001b[0m\u001b[0;34m.\u001b[0m\u001b[0m_extend_graph\u001b[0m\u001b[0;34m(\u001b[0m\u001b[0;34m)\u001b[0m\u001b[0;34m\u001b[0m\u001b[0;34m\u001b[0m\u001b[0m\n\u001b[1;32m   1359\u001b[0m       return self._call_tf_sessionrun(options, feed_dict, fetch_list,\n\u001b[0;32m-> 1360\u001b[0;31m                                       target_list, run_metadata)\n\u001b[0m\u001b[1;32m   1361\u001b[0m \u001b[0;34m\u001b[0m\u001b[0m\n\u001b[1;32m   1362\u001b[0m     \u001b[0;32mdef\u001b[0m \u001b[0m_prun_fn\u001b[0m\u001b[0;34m(\u001b[0m\u001b[0mhandle\u001b[0m\u001b[0;34m,\u001b[0m \u001b[0mfeed_dict\u001b[0m\u001b[0;34m,\u001b[0m \u001b[0mfetch_list\u001b[0m\u001b[0;34m)\u001b[0m\u001b[0;34m:\u001b[0m\u001b[0;34m\u001b[0m\u001b[0;34m\u001b[0m\u001b[0m\n",
            "\u001b[0;32m/usr/local/lib/python3.7/dist-packages/tensorflow/python/client/session.py\u001b[0m in \u001b[0;36m_call_tf_sessionrun\u001b[0;34m(self, options, feed_dict, fetch_list, target_list, run_metadata)\u001b[0m\n\u001b[1;32m   1451\u001b[0m     return tf_session.TF_SessionRun_wrapper(self._session, options, feed_dict,\n\u001b[1;32m   1452\u001b[0m                                             \u001b[0mfetch_list\u001b[0m\u001b[0;34m,\u001b[0m \u001b[0mtarget_list\u001b[0m\u001b[0;34m,\u001b[0m\u001b[0;34m\u001b[0m\u001b[0;34m\u001b[0m\u001b[0m\n\u001b[0;32m-> 1453\u001b[0;31m                                             run_metadata)\n\u001b[0m\u001b[1;32m   1454\u001b[0m \u001b[0;34m\u001b[0m\u001b[0m\n\u001b[1;32m   1455\u001b[0m   \u001b[0;32mdef\u001b[0m \u001b[0m_call_tf_sessionprun\u001b[0m\u001b[0;34m(\u001b[0m\u001b[0mself\u001b[0m\u001b[0;34m,\u001b[0m \u001b[0mhandle\u001b[0m\u001b[0;34m,\u001b[0m \u001b[0mfeed_dict\u001b[0m\u001b[0;34m,\u001b[0m \u001b[0mfetch_list\u001b[0m\u001b[0;34m)\u001b[0m\u001b[0;34m:\u001b[0m\u001b[0;34m\u001b[0m\u001b[0;34m\u001b[0m\u001b[0m\n",
            "\u001b[0;31mKeyboardInterrupt\u001b[0m: "
          ]
        }
      ]
    },
    {
      "cell_type": "markdown",
      "metadata": {
        "id": "rkOrTnK9arrR"
      },
      "source": [
        "### Results"
      ]
    },
    {
      "cell_type": "code",
      "metadata": {
        "id": "5e5UM8_WarrR",
        "outputId": "0ba8e0ca-8b95-40e6-c8bc-c8b8c6cf3821",
        "colab": {
          "base_uri": "https://localhost:8080/"
        }
      },
      "source": [
        "for word in train_words[:10]:\n",
        "    print(\"%s -> %s\" % (word, translate([word])[0]))"
      ],
      "execution_count": 37,
      "outputs": [
        {
          "output_type": "stream",
          "name": "stdout",
          "text": [
            "כל אנשי סמיילי -> san ailiami\n",
            "קטגוריה:ערוץ 2 -> man 2\n",
            "עבודה מהבית -> abit ami\n",
            "פראליה -> pralia\n",
            "קפלר 42 -> capler 4\n",
            "קטגוריה:מתאסלמים -> matalemas\n",
            "בושמי -> bosmi\n",
            "לאונרדו -> laonardo\n",
            "שאמה -> shama\n",
            "עכברה -> acharov\n"
          ]
        }
      ]
    },
    {
      "cell_type": "code",
      "metadata": {
        "id": "FfXVTeCLarrS",
        "outputId": "13b4d7e7-0472-4b51-dd46-e6009f2feea3",
        "colab": {
          "base_uri": "https://localhost:8080/"
        }
      },
      "source": [
        "test_scores = []\n",
        "for start_i in trange(0, len(test_words), 32):\n",
        "    batch_words = test_words[start_i:start_i+32]\n",
        "    batch_trans = translate(batch_words)\n",
        "    distances = list(map(get_distance, batch_words, batch_trans))\n",
        "    test_scores.extend(distances)\n",
        "print(\"Supervised test score:\", np.mean(test_scores))\n",
        "\n",
        "# ^^ If you get Out Of Memory, please replace this with batched computation"
      ],
      "execution_count": 38,
      "outputs": [
        {
          "output_type": "stream",
          "name": "stderr",
          "text": [
            "100%|██████████| 407/407 [00:12<00:00, 32.62it/s]"
          ]
        },
        {
          "output_type": "stream",
          "name": "stdout",
          "text": [
            "Supervised test score: 6.323393790347372\n"
          ]
        },
        {
          "output_type": "stream",
          "name": "stderr",
          "text": [
            "\n"
          ]
        }
      ]
    },
    {
      "cell_type": "markdown",
      "metadata": {
        "id": "2OVrq3f7arrS"
      },
      "source": [
        "### Grader"
      ]
    },
    {
      "cell_type": "code",
      "metadata": {
        "id": "h4gWeI56arrS",
        "outputId": "1bfd1bd7-516b-4559-9150-7f509f241d84",
        "colab": {
          "base_uri": "https://localhost:8080/"
        }
      },
      "source": [
        "from submit import submit_seq2seq\n",
        "\n",
        "submit_seq2seq(test_scores, 'arezoo.alip@gmail.com', 'O0vhKCKcd6rq7FCs')"
      ],
      "execution_count": 41,
      "outputs": [
        {
          "output_type": "stream",
          "name": "stdout",
          "text": [
            "Your average reward is 6.323393790347372\n",
            "Submitted to Coursera platform. See results on assignment page!\n"
          ]
        }
      ]
    },
    {
      "cell_type": "markdown",
      "metadata": {
        "id": "zwWSzm5JarrS"
      },
      "source": [
        "## Step 6: Make it actually work (5++ pts)\n",
        "<img src=https://github.com/yandexdataschool/Practical_RL/raw/master/yet_another_week/_resource/do_something_scst.png width=400>\n",
        "\n",
        "In this section we want you to finally __restart with EASY_MODE=False__ and experiment to find a good model/curriculum for that task.\n",
        "\n",
        "We recommend you to start with the following architecture\n",
        "\n",
        "```\n",
        "encoder---decoder\n",
        "\n",
        "           P(y|h)\n",
        "             ^\n",
        " LSTM  ->   LSTM\n",
        "  ^          ^\n",
        " biLSTM  ->   LSTM\n",
        "  ^          ^\n",
        "input       y_prev\n",
        "```\n",
        "\n",
        "__Note:__ you can fit all 4 state tensors of both LSTMs into a in a single state - just assume that it contains, for example, [h0, c0, h1, c1] - pack it in encode and update in decode.\n",
        "\n",
        "\n",
        "Here are some cool ideas on what you can do then.\n",
        "\n",
        "__General tips & tricks:__\n",
        "* In some tensorflow versions and for some layers, it is required that each rnn/gru/lstm cell gets it's own `tf.variable_scope(unique_name, reuse=False)`.\n",
        "  * Otherwise it will complain about wrong tensor sizes because it tries to reuse weights from one rnn to the other.\n",
        "* You will likely need to adjust pre-training time for such a network.\n",
        "* Supervised pre-training may benefit from clipping gradients somehow.\n",
        "* SCST may indulge a higher learning rate in some cases and changing entropy regularizer over time.\n",
        "* It's often useful to save pre-trained model parameters to not re-train it every time you want new policy gradient parameters. \n",
        "* When leaving training for nighttime, try setting REPORT_FREQ to a larger value (e.g. 500) not to waste time on it.\n",
        "\n",
        "\n",
        "### Attention\n",
        "There's more than one way to connect decoder to encoder\n",
        "  * __Vanilla:__ layer_i of encoder last state goes to layer_i of decoder initial state\n",
        "  * __Every tick:__ feed encoder last state _on every iteration_ of decoder.\n",
        "  * __Attention:__ allow decoder to \"peek\" at one (or several) positions of encoded sequence on every tick.\n",
        "  \n",
        "The most effective (and cool) of those is, of course, attention.\n",
        "You can read more about attention [in this nice blog post](https://distill.pub/2016/augmented-rnns/). The easiest way to begin is to use \"soft\" attention with \"additive\" or \"dot-product\" intermediate layers.\n",
        "\n",
        "__Tips__\n",
        "* Model usually generalizes better if you no longer allow decoder to see final encoder state\n",
        "* Once your model made it through several epochs, it is a good idea to visualize attention maps to understand what your model has actually learned\n",
        "\n",
        "* If you opted for hard attention, we recommend [gumbel-softmax](https://blog.evjang.com/2016/11/tutorial-categorical-variational.html) instead of sampling. Also please make sure soft attention works fine before you switch to hard.\n",
        "\n",
        "### UREX\n",
        "* This is a way to improve exploration in policy-based settings. The main idea is that you find and upweight under-appreciated actions.\n",
        "* Here's [video](https://www.youtube.com/watch?v=fZNyHoXgV7M&feature=youtu.be&t=3444)\n",
        " and an [article](https://arxiv.org/abs/1611.09321).\n",
        "* You may want to reduce batch size 'cuz UREX requires you to sample multiple times per source sentence.\n",
        "* Once you got it working, try using experience replay with importance sampling instead of (in addition to) basic UREX.\n",
        "\n",
        "### Some additional ideas:\n",
        "* (advanced deep learning) It may be a good idea to first train on small phrases and then adapt to larger ones (a.k.a. training curriculum).\n",
        "* (advanced nlp) You may want to switch from raw utf8 to something like unicode or even syllables to make task easier.\n",
        "* (advanced nlp) Since hebrew words are written __with vowels omitted__, you may want to use a small Hebrew vowel markup dataset at `he-pron-wiktionary.txt`."
      ]
    },
    {
      "cell_type": "markdown",
      "metadata": {
        "id": "XiNofTpaarrT"
      },
      "source": [
        "__Contributions:__ This notebook is brought to you by\n",
        "* Yandex [MT team](https://tech.yandex.com/translate/)\n",
        "* Denis Mazur ([DeniskaMazur](https://github.com/DeniskaMazur)), Oleg Vasilev ([Omrigan](https://github.com/Omrigan/)), Dmitry Emelyanenko ([TixFeniks](https://github.com/tixfeniks)) and Fedor Ratnikov ([justheuristic](https://github.com/justheuristic/))\n",
        "* Dataset is parsed from [Wiktionary](https://en.wiktionary.org), which is under CC-BY-SA and GFDL licenses.\n"
      ]
    }
  ]
}