{
  "nbformat": 4,
  "nbformat_minor": 0,
  "metadata": {
    "colab": {
      "name": "experience_replay.ipynb",
      "provenance": []
    },
    "language_info": {
      "name": "python"
    },
    "kernelspec": {
      "name": "python3",
      "display_name": "Python 3"
    }
  },
  "cells": [
    {
      "cell_type": "markdown",
      "metadata": {
        "id": "WJmBf_I0RzgK"
      },
      "source": [
        "### Honor Track: experience replay\n",
        "\n",
        "There's a powerful technique that you can use to improve sample efficiency for off-policy algorithms: [spoiler] Experience replay :)\n",
        "\n",
        "The catch is that you can train Q-learning and EV-SARSA on `<s,a,r,s'>` tuples even if they aren't sampled under current agent's policy. So here's what we're gonna do:\n",
        "\n",
        "<img src=https://github.com/yandexdataschool/Practical_RL/raw/master/yet_another_week/_resource/exp_replay.png width=480>\n",
        "\n",
        "#### Training with experience replay\n",
        "1. Play game, sample `<s,a,r,s'>`.\n",
        "2. Update q-values based on `<s,a,r,s'>`.\n",
        "3. Store `<s,a,r,s'>` transition in a buffer. \n",
        " 3. If buffer is full, delete earliest data.\n",
        "4. Sample K such transitions from that buffer and update q-values based on them.\n",
        "\n",
        "\n",
        "To enable such training, first we must implement a memory structure that would act like such a buffer."
      ]
    },
    {
      "cell_type": "code",
      "metadata": {
        "colab": {
          "base_uri": "https://localhost:8080/"
        },
        "id": "_ss3fqNDRzgS",
        "outputId": "6ef97886-abc9-4f13-ef0b-c22253a7e683"
      },
      "source": [
        "import sys, os\n",
        "if 'google.colab' in sys.modules and not os.path.exists('.setup_complete'):\n",
        "    !wget -q https://raw.githubusercontent.com/yandexdataschool/Practical_RL/master/setup_colab.sh -O- | bash\n",
        "\n",
        "    !wget -q https://raw.githubusercontent.com/yandexdataschool/Practical_RL/coursera/grading.py -O ../grading.py\n",
        "    !wget -q https://raw.githubusercontent.com/yandexdataschool/Practical_RL/coursera/week3_model_free/submit.py\n",
        "\n",
        "    !touch .setup_complete\n",
        "\n",
        "# This code creates a virtual display to draw game images on.\n",
        "# It will have no effect if your machine has a monitor.\n",
        "if type(os.environ.get(\"DISPLAY\")) is not str or len(os.environ.get(\"DISPLAY\")) == 0:\n",
        "    !bash ../xvfb start\n",
        "    os.environ['DISPLAY'] = ':1'"
      ],
      "execution_count": 1,
      "outputs": [
        {
          "output_type": "stream",
          "name": "stdout",
          "text": [
            "Selecting previously unselected package xvfb.\n",
            "(Reading database ... 155047 files and directories currently installed.)\n",
            "Preparing to unpack .../xvfb_2%3a1.19.6-1ubuntu4.9_amd64.deb ...\n",
            "Unpacking xvfb (2:1.19.6-1ubuntu4.9) ...\n",
            "Setting up xvfb (2:1.19.6-1ubuntu4.9) ...\n",
            "Processing triggers for man-db (2.8.3-2ubuntu0.1) ...\n",
            "Starting virtual X frame buffer: Xvfb.\n"
          ]
        }
      ]
    },
    {
      "cell_type": "code",
      "metadata": {
        "id": "rbqXk2QvRzgW"
      },
      "source": [
        "import numpy as np\n",
        "import matplotlib.pyplot as plt\n",
        "%matplotlib inline\n",
        "\n",
        "from IPython.display import clear_output"
      ],
      "execution_count": 2,
      "outputs": []
    },
    {
      "cell_type": "code",
      "metadata": {
        "id": "a9JgXOzBRzgY"
      },
      "source": [
        "from collections import defaultdict\n",
        "import random\n",
        "import math\n",
        "import numpy as np\n",
        "\n",
        "class QLearningAgent:\n",
        "    def __init__(self, alpha, epsilon, discount, get_legal_actions):\n",
        "        \"\"\"\n",
        "        Q-Learning Agent\n",
        "        based on https://inst.eecs.berkeley.edu/~cs188/sp19/projects.html\n",
        "        Instance variables you have access to\n",
        "          - self.epsilon (exploration prob)\n",
        "          - self.alpha (learning rate)\n",
        "          - self.discount (discount rate aka gamma)\n",
        "\n",
        "        Functions you should use\n",
        "          - self.get_legal_actions(state) {state, hashable -> list of actions, each is hashable}\n",
        "            which returns legal actions for a state\n",
        "          - self.get_qvalue(state,action)\n",
        "            which returns Q(state,action)\n",
        "          - self.set_qvalue(state,action,value)\n",
        "            which sets Q(state,action) := value\n",
        "        !!!Important!!!\n",
        "        Note: please avoid using self._qValues directly. \n",
        "            There's a special self.get_qvalue/set_qvalue for that.\n",
        "        \"\"\"\n",
        "\n",
        "        self.get_legal_actions = get_legal_actions\n",
        "        self._qvalues = defaultdict(lambda: defaultdict(lambda: 0))\n",
        "        self.alpha = alpha\n",
        "        self.epsilon = epsilon\n",
        "        self.discount = discount\n",
        "\n",
        "    def get_qvalue(self, state, action):\n",
        "        \"\"\" Returns Q(state,action) \"\"\"\n",
        "        return self._qvalues[state][action]\n",
        "\n",
        "    def set_qvalue(self, state, action, value):\n",
        "        \"\"\" Sets the Qvalue for [state,action] to the given value \"\"\"\n",
        "        self._qvalues[state][action] = value\n",
        "\n",
        "    #---------------------START OF YOUR CODE---------------------#\n",
        "\n",
        "    def get_value(self, state):\n",
        "        \"\"\"\n",
        "        Compute your agent's estimate of V(s) using current q-values\n",
        "        V(s) = max_over_action Q(state,action) over possible actions.\n",
        "        Note: please take into account that q-values can be negative.\n",
        "        \"\"\"\n",
        "        possible_actions = self.get_legal_actions(state)\n",
        "\n",
        "        # If there are no legal actions, return 0.0\n",
        "        if len(possible_actions) == 0:\n",
        "            return 0.0\n",
        "\n",
        "        value=np.max([self.get_qvalue(state,action) for action in possible_actions])\n",
        "\n",
        "        return value\n",
        "\n",
        "    def update(self, state, action, reward, next_state):\n",
        "        \"\"\"\n",
        "        You should do your Q-Value update here:\n",
        "           Q(s,a) := (1 - alpha) * Q(s,a) + alpha * (r + gamma * V(s'))\n",
        "        \"\"\"\n",
        "\n",
        "        # agent parameters\n",
        "        gamma = self.discount\n",
        "        learning_rate = self.alpha\n",
        "\n",
        "        new_qvalue=(1-learning_rate)* self.get_qvalue( state, action)+ learning_rate * (reward + gamma * self.get_value(next_state))\n",
        "\n",
        "        self.set_qvalue(state, action, new_qvalue )\n",
        "\n",
        "    def get_best_action(self, state):\n",
        "        \"\"\"\n",
        "        Compute the best action to take in a state (using current q-values). \n",
        "        \"\"\"\n",
        "        possible_actions = self.get_legal_actions(state)\n",
        "\n",
        "        # If there are no legal actions, return None\n",
        "        if len(possible_actions) == 0:\n",
        "            return None\n",
        "\n",
        "        my_qvalue=[self.get_qvalue(state,action) for action in possible_actions]\n",
        "        best_action_arg=np.argmax(my_qvalue)\n",
        "        best_action=possible_actions[best_action_arg]\n",
        "\n",
        "        return best_action\n",
        "\n",
        "    def get_action(self, state):\n",
        "        \"\"\"\n",
        "        Compute the action to take in the current state, including exploration.  \n",
        "        With probability self.epsilon, we should take a random action.\n",
        "            otherwise - the best policy action (self.get_best_action).\n",
        "\n",
        "        Note: To pick randomly from a list, use random.choice(list). \n",
        "              To pick True or False with a given probablity, generate uniform number in [0, 1]\n",
        "              and compare it with your probability\n",
        "        \"\"\"\n",
        "\n",
        "        # Pick Action\n",
        "        possible_actions = self.get_legal_actions(state)\n",
        "        action = None\n",
        "\n",
        "        # If there are no legal actions, return None\n",
        "        if len(possible_actions) == 0:\n",
        "            return None\n",
        "\n",
        "        # agent parameters:\n",
        "        epsilon = self.epsilon\n",
        "\n",
        "        probability=np.random.uniform(0.0,1.0,None)\n",
        "       \n",
        "        if probability <= epsilon:\n",
        "          chosen_action = np.random.choice(possible_actions)\n",
        "        else:\n",
        "          chosen_action=self.get_best_action(state)\n",
        "         \n",
        "        \n",
        "\n",
        "        return chosen_action"
      ],
      "execution_count": 17,
      "outputs": []
    },
    {
      "cell_type": "code",
      "metadata": {
        "id": "Vo8Cc60pRzgZ"
      },
      "source": [
        "import random\n",
        "\n",
        "\n",
        "class ReplayBuffer(object):\n",
        "    def __init__(self, size):\n",
        "        \"\"\"\n",
        "        Create Replay buffer.\n",
        "        Parameters\n",
        "        ----------\n",
        "        size: int\n",
        "            Max number of transitions to store in the buffer. When the buffer\n",
        "            overflows the old memories are dropped.\n",
        "\n",
        "        Note: for this assignment you can pick any data structure you want.\n",
        "              If you want to keep it simple, you can store a list of tuples of (s, a, r, s') in self._storage\n",
        "              However you may find out there are faster and/or more memory-efficient ways to do so.\n",
        "        \"\"\"\n",
        "        self._storage = []\n",
        "        self._maxsize = size\n",
        "\n",
        "        # OPTIONAL: YOUR CODE\n",
        "\n",
        "    def __len__(self):\n",
        "        return len(self._storage)\n",
        "\n",
        "    def add(self, obs_t, action, reward, obs_tp1, done):\n",
        "        '''\n",
        "        Make sure, _storage will not exceed _maxsize. \n",
        "        Make sure, FIFO rule is being followed: the oldest examples has to be removed earlier\n",
        "        '''\n",
        "        data = (obs_t, action, reward, obs_tp1, done)\n",
        "\n",
        "        # add data to storage\n",
        "        self._storage.append(data)\n",
        "        if self.__len__()>self._maxsize:\n",
        "          del self._storage[0]\n",
        "          \n",
        "    def sample(self, batch_size):\n",
        "        \"\"\"Sample a batch of experiences.\n",
        "        Parameters\n",
        "        ----------\n",
        "        batch_size: int\n",
        "            How many transitions to sample.\n",
        "        Returns\n",
        "        -------\n",
        "        obs_batch: np.array\n",
        "            batch of observations\n",
        "        act_batch: np.array\n",
        "            batch of actions executed given obs_batch\n",
        "        rew_batch: np.array\n",
        "            rewards received as results of executing act_batch\n",
        "        next_obs_batch: np.array\n",
        "            next set of observations seen after executing act_batch\n",
        "        done_mask: np.array\n",
        "            done_mask[i] = 1 if executing act_batch[i] resulted in\n",
        "            the end of an episode and 0 otherwise.\n",
        "        \"\"\"\n",
        "        # <YOUR CODE: randomly generate batch_size integers to be used as indexes of samples>\n",
        "        idxes = np.random.choice([i for i in range(len(self._storage))],size=batch_size)\n",
        "\n",
        "        # collect <s,a,r,s',done> for each index\n",
        "        sample=[self._storage[i] for i in range(len(self._storage)) if i in idxes]\n",
        "    \n",
        "\n",
        "        return (\n",
        "            np.array( [tpl[0] for tpl in sample] ),#<YOUR CODE: states>\n",
        "            np.array( [tpl[1] for tpl in sample] ),#<YOUR CODE: actions>\n",
        "            np.array( [tpl[2] for tpl in sample] ),#<YOUR CODE: rewards>\n",
        "            np.array( [tpl[3] for tpl in sample] ),#<YOUR CODE: next_states>\n",
        "            np.array( [tpl[4] for tpl in sample] )#<YOUR CODE: is_done>\n",
        "        )"
      ],
      "execution_count": null,
      "outputs": []
    },
    {
      "cell_type": "markdown",
      "metadata": {
        "id": "OuLo_BBwRzgb"
      },
      "source": [
        "Some tests to make sure your buffer works right"
      ]
    },
    {
      "cell_type": "code",
      "metadata": {
        "id": "hQkUj7JNRzgc"
      },
      "source": [
        "def obj2arrays(obj):\n",
        "    for x in obj:\n",
        "        yield np.array([x])\n",
        "\n",
        "def obj2sampled(obj):\n",
        "    return tuple(obj2arrays(obj))\n",
        "\n",
        "replay = ReplayBuffer(2)\n",
        "obj1 = (0, 1, 2, 3, True)\n",
        "obj2 = (4, 5, 6, 7, False)\n",
        "replay.add(*obj1)\n",
        "assert replay.sample(1) == obj2sampled(obj1), \\\n",
        "    \"If there's just one object in buffer, it must be retrieved by buf.sample(1)\"\n",
        "replay.add(*obj2)\n",
        "assert len(replay) == 2, \"Please make sure __len__ methods works as intended.\"\n",
        "replay.add(*obj2)\n",
        "assert len(replay) == 2, \"When buffer is at max capacity, replace objects instead of adding new ones.\"\n",
        "assert tuple(np.unique(a) for a in replay.sample(100)) == obj2sampled(obj2)\n",
        "replay.add(*obj1)\n",
        "assert max(len(np.unique(a)) for a in replay.sample(100)) == 2\n",
        "replay.add(*obj1)\n",
        "assert tuple(np.unique(a) for a in replay.sample(100)) == obj2sampled(obj1)\n",
        "print(\"Success!\")"
      ],
      "execution_count": null,
      "outputs": []
    },
    {
      "cell_type": "markdown",
      "metadata": {
        "id": "n0WJFfOdRzgd"
      },
      "source": [
        "Now let's use this buffer to improve training:"
      ]
    },
    {
      "cell_type": "code",
      "metadata": {
        "id": "PF0Ob4WURzge"
      },
      "source": [
        "import gym\n",
        "env = gym.make(\"Taxi-v3\")\n",
        "n_actions = env.action_space.n"
      ],
      "execution_count": null,
      "outputs": []
    },
    {
      "cell_type": "code",
      "metadata": {
        "id": "sYKWfWP4Rzgf"
      },
      "source": [
        "def play_and_train_with_replay(env, agent, replay=None,\n",
        "                               t_max=10**4, replay_batch_size=32):\n",
        "    \"\"\"\n",
        "    This function should \n",
        "    - run a full game, actions given by agent.getAction(s)\n",
        "    - train agent using agent.update(...) whenever possible\n",
        "    - return total reward\n",
        "    :param replay: ReplayBuffer where agent can store and sample (s,a,r,s',done) tuples.\n",
        "        If None, do not use experience replay\n",
        "    \"\"\"\n",
        "    total_reward = 0.0\n",
        "    s = env.reset()\n",
        "\n",
        "    for t in range(t_max):\n",
        "        # get agent to pick action given state s\n",
        "        a =agent.get_action(s)\n",
        "\n",
        "        next_s, r, done, _ = env.step(a)\n",
        "\n",
        "        # update agent on current transition. Use agent.update\n",
        "        agent.update(s,a,r,next_s)\n",
        "\n",
        "        if replay is not None:\n",
        "            # store current <s,a,r,s'> transition in buffer\n",
        "            replay.add(s,a,r,next_s,done)\n",
        "\n",
        "            # sample replay_batch_size random transitions from replay,\n",
        "            # then update agent on each of them in a loop\n",
        "            s_, a_, r_, next_s_, done_ = replay.sample(replay_batch_size)\n",
        "            \n",
        "            #for i in range(replay_batch_size):\n",
        "            for i in range(len(s_)):\n",
        "              # <YOUR CODE>\n",
        "              agent.update(s_[i], a_[i], r_[i], next_s_[i])\n",
        "              \n",
        "        s = next_s\n",
        "        total_reward += r\n",
        "        if done:\n",
        "            break\n",
        "\n",
        "    return total_reward"
      ],
      "execution_count": null,
      "outputs": []
    },
    {
      "cell_type": "code",
      "metadata": {
        "id": "FdREBNLwRzgg"
      },
      "source": [
        "# Create two agents: first will use experience replay, second will not.\n",
        "\n",
        "agent_baseline = QLearningAgent(\n",
        "    alpha=0.5, epsilon=0.25, discount=0.99,\n",
        "    get_legal_actions=lambda s: range(n_actions))\n",
        "\n",
        "agent_replay = QLearningAgent(\n",
        "    alpha=0.5, epsilon=0.25, discount=0.99,\n",
        "    get_legal_actions=lambda s: range(n_actions))\n",
        "\n",
        "replay = ReplayBuffer(1000)"
      ],
      "execution_count": 48,
      "outputs": []
    },
    {
      "cell_type": "code",
      "metadata": {
        "colab": {
          "base_uri": "https://localhost:8080/",
          "height": 1000
        },
        "id": "dFSoq72PRzgh",
        "outputId": "d7c4b424-e0cf-46b2-b6d1-6c0dc2e8ec34"
      },
      "source": [
        "from IPython.display import clear_output\n",
        "import pandas as pd\n",
        "\n",
        "def moving_average(x, span=100):\n",
        "    return pd.DataFrame({'x': np.asarray(x)}).x.ewm(span=span).mean().values\n",
        "\n",
        "rewards_replay, rewards_baseline = [], []\n",
        "\n",
        "for i in range(1000):\n",
        "    rewards_replay.append(\n",
        "        play_and_train_with_replay(env, agent_replay, replay))\n",
        "    rewards_baseline.append(\n",
        "        play_and_train_with_replay(env, agent_baseline, replay=None))\n",
        "\n",
        "    agent_replay.epsilon *= 0.99\n",
        "    agent_baseline.epsilon *= 0.99\n",
        "\n",
        "    if i % 100 == 0:\n",
        "        clear_output(True)\n",
        "        print('Baseline : eps =', agent_replay.epsilon,\n",
        "              'mean reward =', np.mean(rewards_baseline[-10:]))\n",
        "        print('ExpReplay: eps =', agent_baseline.epsilon,\n",
        "              'mean reward =', np.mean(rewards_replay[-10:]))\n",
        "        plt.plot(moving_average(rewards_replay), label='exp. replay')\n",
        "        plt.plot(moving_average(rewards_baseline), label='baseline')\n",
        "        plt.grid()\n",
        "        plt.legend()\n",
        "        plt.show()"
      ],
      "execution_count": 49,
      "outputs": [
        {
          "output_type": "stream",
          "name": "stdout",
          "text": [
            "Baseline : eps = 0.09059300446512424 mean reward = -150.3\n",
            "ExpReplay: eps = 0.09059300446512424 mean reward = 0.7\n"
          ]
        },
        {
          "output_type": "display_data",
          "data": {
            "image/png": "[encoded data removed]",
            "text/plain": [
              "<Figure size 432x288 with 1 Axes>"
            ]
          },
          "metadata": {
            "needs_background": "light"
          }
        },
        {
          "output_type": "stream",
          "name": "stdout",
          "text": [
            "[(412, 1, -1, 312, False), (312, 2, -1, 312, False), (72, 0, -1, 172, False), (239, 3, -1, 219, False), (219, 2, -1, 239, False), (408, 4, -1, 416, False), (16, 5, 20, 0, True), (72, 1, -1, 72, False), (272, 2, -1, 292, False), (392, 3, -1, 372, False), (217, 2, -1, 237, False), (214, 1, -1, 114, False), (114, 0, -1, 214, False), (138, 3, -1, 118, False), (452, 1, -1, 352, False), (452, 3, -1, 432, False), (231, 3, -1, 211, False), (378, 5, -10, 378, False), (307, 5, -10, 307, False), (407, 1, -1, 307, False), (243, 3, -1, 223, False), (119, 0, -1, 219, False), (244, 1, -1, 144, False), (99, 0, -1, 199, False), (372, 0, -1, 472, False), (236, 1, -1, 136, False), (157, 2, -1, 177, False), (162, 3, -1, 142, False), (2, 4, -1, 18, False), (497, 1, -1, 397, False), (222, 3, -1, 202, False), (2, 4, -1, 18, False)]\n",
            "[(412, 2, -1, 412, False), (112, 0, -1, 212, False), (412, 0, -1, 412, False), (92, 1, -1, 92, False), (92, 0, -1, 192, False), (98, 1, -1, 98, False), (361, 1, -1, 261, False), (292, 2, -1, 292, False), (52, 2, -1, 72, False), (476, 0, -1, 476, False), (396, 0, -1, 496, False), (398, 1, -1, 298, False), (218, 3, -1, 218, False), (473, 4, -1, 477, False), (352, 0, -1, 452, False), (452, 0, -1, 452, False), (432, 1, -1, 332, False), (252, 2, -1, 272, False), (476, 1, -1, 376, False), (376, 1, -1, 276, False), (107, 5, -10, 107, False), (479, 5, 20, 475, True), (278, 3, -1, 258, False), (259, 2, -1, 279, False), (199, 0, -1, 299, False), (319, 1, -1, 219, False), (246, 3, -1, 226, False), (318, 0, -1, 418, False), (22, 3, -1, 2, False), (197, 1, -1, 97, False), (243, 3, -1, 223, False), (318, 0, -1, 418, False)]\n",
            "[(32, 0, -1, 132, False), (92, 2, -1, 92, False), (474, 4, -1, 478, False), (292, 3, -1, 272, False), (476, 3, -1, 476, False), (237, 2, -1, 257, False), (86, 4, -1, 98, False), (477, 2, -1, 497, False), (307, 5, -10, 307, False), (243, 3, -1, 223, False), (123, 1, -1, 23, False), (19, 0, -1, 119, False), (187, 4, -10, 187, False), (431, 0, -1, 431, False), (259, 2, -1, 279, False), (391, 1, -1, 291, False), (72, 2, -1, 92, False), (192, 0, -1, 292, False), (136, 0, -1, 236, False), (236, 1, -1, 136, False), (124, 0, -1, 224, False), (256, 3, -1, 236, False), (236, 1, -1, 136, False), (317, 0, -1, 417, False), (278, 3, -1, 258, False), (293, 3, -1, 273, False), (297, 1, -1, 197, False), (2, 4, -1, 18, False), (477, 2, -1, 497, False), (297, 1, -1, 197, False), (19, 0, -1, 119, False), (282, 1, -1, 182, False)]\n",
            "[(312, 2, -1, 312, False), (72, 2, -1, 92, False), (72, 1, -1, 72, False), (126, 0, -1, 226, False), (97, 5, 20, 85, True), (208, 0, -1, 308, False), (72, 3, -1, 52, False), (476, 3, -1, 476, False), (36, 3, -1, 16, False), (399, 4, -10, 399, False), (232, 2, -1, 252, False), (352, 0, -1, 452, False), (352, 0, -1, 452, False), (298, 3, -1, 278, False), (407, 0, -1, 407, False), (87, 4, -1, 99, False), (118, 0, -1, 218, False), (138, 3, -1, 118, False), (218, 0, -1, 318, False), (223, 1, -1, 123, False), (16, 5, 20, 0, True), (472, 4, -1, 476, False), (236, 1, -1, 136, False), (136, 0, -1, 236, False), (2, 4, -1, 18, False), (298, 3, -1, 278, False), (222, 3, -1, 202, False), (2, 4, -1, 18, False), (177, 2, -1, 197, False), (162, 3, -1, 142, False), (258, 3, -1, 238, False), (418, 5, 20, 410, True)]\n",
            "[(132, 3, -1, 112, False), (112, 0, -1, 212, False), (412, 1, -1, 312, False), (92, 3, -1, 72, False), (92, 5, -10, 92, False), (178, 3, -1, 158, False), (52, 2, -1, 72, False), (254, 2, -1, 274, False), (258, 3, -1, 238, False), (238, 1, -1, 138, False), (16, 5, 20, 0, True), (432, 3, -1, 432, False), (452, 3, -1, 432, False), (218, 0, -1, 318, False), (307, 1, -1, 207, False), (374, 0, -1, 474, False), (99, 0, -1, 199, False), (96, 0, -1, 196, False), (376, 1, -1, 276, False), (162, 3, -1, 142, False), (2, 4, -1, 18, False), (22, 3, -1, 2, False), (318, 0, -1, 418, False), (226, 2, -1, 246, False), (397, 1, -1, 297, False), (197, 1, -1, 97, False), (262, 4, -10, 262, False), (418, 5, 20, 410, True), (261, 3, -1, 241, False), (257, 1, -1, 157, False), (474, 4, -1, 478, False)]\n",
            "[(212, 0, -1, 312, False), (332, 1, -1, 232, False), (172, 1, -1, 72, False), (258, 3, -1, 238, False), (101, 1, -1, 1, False), (292, 2, -1, 292, False), (292, 3, -1, 272, False), (52, 2, -1, 72, False), (52, 1, -1, 52, False), (496, 0, -1, 496, False), (149, 0, -1, 249, False), (214, 1, -1, 114, False), (118, 0, -1, 218, False), (212, 2, -1, 232, False), (452, 1, -1, 352, False), (432, 2, -1, 452, False), (378, 5, -10, 378, False), (258, 3, -1, 238, False), (407, 0, -1, 407, False), (254, 2, -1, 274, False), (378, 1, -1, 278, False), (19, 0, -1, 119, False), (256, 3, -1, 236, False), (267, 1, -1, 167, False), (491, 1, -1, 391, False), (391, 1, -1, 291, False), (24, 0, -1, 124, False), (224, 2, -1, 244, False), (122, 1, -1, 22, False), (342, 3, -1, 322, False), (318, 0, -1, 418, False), (314, 1, -1, 214, False)]\n",
            "[(32, 0, -1, 132, False), (212, 5, -10, 212, False), (412, 1, -1, 312, False), (132, 0, -1, 232, False), (37, 0, -1, 137, False), (292, 2, -1, 292, False), (272, 3, -1, 252, False), (476, 0, -1, 476, False), (476, 3, -1, 476, False), (499, 3, -1, 479, False), (86, 4, -1, 98, False), (452, 3, -1, 432, False), (134, 0, -1, 234, False), (254, 2, -1, 274, False), (307, 3, -1, 307, False), (207, 2, -1, 227, False), (274, 0, -1, 374, False), (19, 0, -1, 119, False), (128, 0, -1, 228, False), (256, 3, -1, 236, False), (479, 5, 20, 475, True), (279, 0, -1, 379, False), (164, 2, -1, 184, False), (157, 4, -10, 157, False), (282, 1, -1, 182, False), (142, 2, -1, 162, False), (22, 3, -1, 2, False), (118, 0, -1, 218, False), (218, 0, -1, 318, False), (333, 2, -1, 353, False), (97, 5, 20, 85, True), (162, 3, -1, 142, False)]\n",
            "[(212, 2, -1, 232, False), (412, 2, -1, 412, False), (192, 1, -1, 92, False), (192, 2, -1, 192, False), (186, 1, -1, 86, False), (138, 3, -1, 118, False), (292, 2, -1, 292, False), (249, 3, -1, 229, False), (237, 2, -1, 257, False), (238, 1, -1, 138, False), (284, 1, -1, 184, False), (352, 0, -1, 452, False), (352, 3, -1, 332, False), (292, 0, -1, 392, False), (256, 3, -1, 236, False), (136, 1, -1, 36, False), (318, 0, -1, 418, False), (407, 2, -1, 407, False), (299, 0, -1, 399, False), (287, 1, -1, 187, False), (199, 1, -1, 99, False), (304, 1, -1, 204, False), (84, 4, -1, 96, False), (136, 1, -1, 36, False), (124, 0, -1, 224, False), (122, 1, -1, 22, False), (162, 3, -1, 142, False), (222, 1, -1, 122, False), (2, 4, -1, 18, False), (362, 1, -1, 262, False), (97, 5, 20, 85, True), (154, 0, -1, 254, False)]\n",
            "[(412, 1, -1, 312, False), (312, 1, -1, 212, False), (112, 4, -10, 112, False), (192, 0, -1, 292, False), (258, 3, -1, 238, False), (97, 5, 20, 85, True), (252, 5, -10, 252, False), (252, 2, -1, 272, False), (476, 3, -1, 476, False), (474, 4, -1, 478, False), (473, 4, -1, 477, False), (332, 2, -1, 352, False), (378, 5, -10, 378, False), (107, 0, -1, 207, False), (87, 4, -1, 99, False), (414, 1, -1, 314, False), (478, 1, -1, 378, False), (398, 1, -1, 298, False), (238, 1, -1, 138, False), (3, 4, -1, 19, False), (199, 0, -1, 299, False), (376, 1, -1, 276, False), (72, 2, -1, 92, False), (276, 0, -1, 376, False), (2, 4, -1, 18, False), (86, 4, -1, 98, False), (98, 0, -1, 198, False), (102, 1, -1, 2, False), (408, 4, -1, 416, False), (23, 3, -1, 3, False), (3, 4, -1, 19, False), (382, 1, -1, 282, False)]\n",
            "[(212, 0, -1, 312, False), (352, 3, -1, 332, False), (166, 2, -1, 186, False), (198, 3, -1, 178, False), (379, 0, -1, 479, False), (137, 0, -1, 237, False), (97, 5, 20, 85, True), (52, 3, -1, 52, False), (496, 0, -1, 496, False), (496, 1, -1, 396, False), (376, 0, -1, 476, False), (237, 1, -1, 137, False), (477, 2, -1, 497, False), (497, 1, -1, 397, False), (232, 2, -1, 252, False), (452, 3, -1, 432, False), (307, 0, -1, 407, False), (46, 0, -1, 146, False), (238, 1, -1, 138, False), (279, 0, -1, 379, False), (36, 3, -1, 16, False), (499, 3, -1, 479, False), (219, 2, -1, 239, False), (239, 2, -1, 259, False), (256, 3, -1, 236, False), (244, 1, -1, 144, False), (476, 1, -1, 376, False), (262, 3, -1, 242, False), (18, 0, -1, 118, False), (477, 2, -1, 497, False), (378, 1, -1, 278, False)]\n",
            "[(212, 0, -1, 312, False), (192, 2, -1, 192, False), (318, 0, -1, 418, False), (274, 0, -1, 374, False), (16, 5, 20, 0, True), (52, 2, -1, 72, False), (52, 3, -1, 52, False), (376, 0, -1, 476, False), (149, 0, -1, 249, False), (218, 3, -1, 218, False), (284, 1, -1, 184, False), (196, 3, -1, 176, False), (218, 0, -1, 318, False), (307, 3, -1, 307, False), (99, 2, -1, 99, False), (299, 0, -1, 399, False), (223, 1, -1, 123, False), (499, 3, -1, 479, False), (419, 1, -1, 319, False), (219, 2, -1, 239, False), (244, 1, -1, 144, False), (472, 4, -1, 476, False), (242, 1, -1, 142, False), (222, 1, -1, 122, False), (318, 0, -1, 418, False), (473, 4, -1, 477, False), (318, 0, -1, 418, False), (297, 1, -1, 197, False), (122, 1, -1, 22, False), (474, 4, -1, 478, False), (378, 1, -1, 278, False), (254, 2, -1, 274, False)]\n",
            "[(212, 0, -1, 312, False), (232, 0, -1, 332, False), (92, 5, -10, 92, False), (101, 1, -1, 1, False), (496, 2, -1, 496, False), (476, 5, -1, 472, False), (236, 1, -1, 136, False), (299, 0, -1, 399, False), (86, 4, -1, 98, False), (218, 0, -1, 318, False), (497, 3, -1, 477, False), (212, 2, -1, 232, False), (478, 1, -1, 378, False), (254, 2, -1, 274, False), (418, 5, 20, 410, True), (274, 0, -1, 374, False), (416, 4, -10, 416, False), (331, 1, -1, 231, False), (372, 1, -1, 272, False), (376, 1, -1, 276, False), (52, 2, -1, 72, False), (372, 0, -1, 472, False), (164, 2, -1, 184, False), (36, 3, -1, 16, False), (257, 1, -1, 157, False), (242, 1, -1, 142, False), (118, 0, -1, 218, False), (18, 0, -1, 118, False), (477, 2, -1, 497, False), (97, 5, 20, 85, True), (316, 4, -10, 316, False), (37, 0, -1, 137, False)]\n",
            "[(112, 0, -1, 212, False), (412, 3, -1, 412, False), (112, 4, -10, 112, False), (252, 1, -1, 152, False), (92, 2, -1, 92, False), (172, 1, -1, 72, False), (86, 4, -1, 98, False), (374, 0, -1, 474, False), (278, 3, -1, 258, False), (316, 1, -1, 216, False), (252, 2, -1, 272, False), (392, 3, -1, 372, False), (476, 2, -1, 496, False), (496, 0, -1, 496, False), (237, 3, -1, 217, False), (236, 1, -1, 136, False), (259, 2, -1, 279, False), (258, 3, -1, 238, False), (474, 4, -1, 478, False), (239, 2, -1, 259, False), (304, 1, -1, 204, False), (431, 1, -1, 331, False), (379, 0, -1, 479, False), (376, 1, -1, 276, False), (36, 3, -1, 16, False), (136, 1, -1, 36, False), (2, 4, -1, 18, False), (118, 0, -1, 218, False), (197, 0, -1, 297, False), (342, 3, -1, 322, False), (18, 0, -1, 118, False), (197, 4, -10, 197, False)]\n",
            "[(92, 3, -1, 72, False), (374, 0, -1, 474, False), (52, 2, -1, 72, False), (16, 5, 20, 0, True), (157, 2, -1, 177, False), (114, 0, -1, 214, False), (254, 2, -1, 274, False), (374, 0, -1, 474, False), (232, 2, -1, 252, False), (432, 2, -1, 452, False), (307, 0, -1, 407, False), (407, 1, -1, 307, False), (374, 0, -1, 474, False), (259, 2, -1, 279, False), (96, 0, -1, 196, False), (319, 1, -1, 219, False), (376, 1, -1, 276, False), (392, 3, -1, 372, False), (157, 4, -10, 157, False), (177, 2, -1, 197, False), (376, 1, -1, 276, False), (236, 1, -1, 136, False), (26, 0, -1, 126, False), (266, 2, -1, 286, False), (138, 5, -10, 138, False), (273, 0, -1, 373, False), (242, 3, -1, 222, False), (218, 0, -1, 318, False), (416, 1, -1, 316, False), (241, 0, -1, 341, False), (97, 5, 20, 85, True)]\n",
            "[(412, 0, -1, 412, False), (312, 2, -1, 312, False), (198, 5, -10, 198, False), (238, 1, -1, 138, False), (218, 0, -1, 318, False), (259, 2, -1, 279, False), (118, 0, -1, 218, False), (157, 2, -1, 177, False), (72, 3, -1, 52, False), (258, 3, -1, 238, False), (236, 1, -1, 136, False), (352, 0, -1, 452, False), (134, 0, -1, 234, False), (258, 3, -1, 238, False), (227, 2, -1, 247, False), (267, 1, -1, 167, False), (383, 1, -1, 283, False), (258, 3, -1, 238, False), (287, 1, -1, 187, False), (231, 3, -1, 211, False), (392, 3, -1, 372, False), (476, 1, -1, 376, False), (244, 1, -1, 144, False), (417, 1, -1, 317, False), (22, 3, -1, 2, False), (22, 3, -1, 2, False), (262, 3, -1, 242, False), (333, 2, -1, 353, False), (19, 3, -1, 19, False), (219, 2, -1, 239, False), (258, 3, -1, 238, False)]\n",
            "[(252, 0, -1, 352, False), (92, 2, -1, 92, False), (72, 2, -1, 92, False), (219, 2, -1, 239, False), (152, 0, -1, 252, False), (52, 0, -1, 152, False), (392, 3, -1, 372, False), (136, 1, -1, 36, False), (298, 3, -1, 278, False), (497, 1, -1, 397, False), (97, 5, 20, 85, True), (412, 1, -1, 312, False), (432, 0, -1, 432, False), (432, 0, -1, 432, False), (231, 3, -1, 211, False), (407, 1, -1, 307, False), (307, 5, -10, 307, False), (207, 2, -1, 227, False), (214, 2, -1, 234, False), (238, 1, -1, 138, False), (119, 0, -1, 219, False), (479, 4, -10, 479, False), (228, 3, -1, 208, False), (431, 1, -1, 331, False), (259, 2, -1, 279, False), (222, 1, -1, 122, False), (162, 3, -1, 142, False), (218, 0, -1, 318, False), (242, 3, -1, 222, False), (408, 4, -1, 416, False), (241, 0, -1, 341, False), (282, 1, -1, 182, False)]\n",
            "[(312, 2, -1, 312, False), (112, 4, -10, 112, False), (332, 3, -1, 332, False), (332, 2, -1, 352, False), (471, 1, -1, 371, False), (319, 1, -1, 219, False), (479, 5, 20, 475, True), (52, 1, -1, 52, False), (476, 2, -1, 496, False), (237, 2, -1, 257, False), (254, 2, -1, 274, False), (258, 4, -10, 258, False), (232, 2, -1, 252, False), (374, 0, -1, 474, False), (407, 2, -1, 407, False), (399, 0, -1, 499, False), (198, 0, -1, 298, False), (298, 2, -1, 298, False), (3, 4, -1, 19, False), (128, 3, -1, 108, False), (99, 0, -1, 199, False), (292, 0, -1, 392, False), (144, 2, -1, 164, False), (16, 5, 20, 0, True), (149, 0, -1, 249, False), (2, 4, -1, 18, False), (22, 3, -1, 2, False), (318, 0, -1, 418, False), (182, 3, -1, 162, False), (2, 4, -1, 18, False), (374, 0, -1, 474, False)]\n",
            "[(212, 0, -1, 312, False), (212, 1, -1, 112, False), (92, 1, -1, 92, False), (172, 5, -10, 172, False), (219, 2, -1, 239, False), (361, 1, -1, 261, False), (1, 4, -1, 17, False), (37, 0, -1, 137, False), (128, 0, -1, 228, False), (216, 1, -1, 116, False), (52, 3, -1, 52, False), (496, 3, -1, 476, False), (376, 1, -1, 276, False), (236, 1, -1, 136, False), (118, 0, -1, 218, False), (307, 5, -10, 307, False), (374, 0, -1, 474, False), (259, 2, -1, 279, False), (278, 3, -1, 258, False), (499, 3, -1, 479, False), (247, 2, -1, 267, False), (491, 1, -1, 391, False), (236, 1, -1, 136, False), (96, 0, -1, 196, False), (142, 0, -1, 242, False), (2, 4, -1, 18, False), (26, 0, -1, 126, False), (246, 3, -1, 226, False), (2, 4, -1, 18, False), (341, 1, -1, 241, False), (237, 2, -1, 257, False), (462, 1, -1, 362, False)]\n",
            "[(332, 0, -1, 432, False), (92, 5, -10, 92, False), (292, 1, -1, 192, False), (238, 1, -1, 138, False), (241, 3, -1, 221, False), (152, 1, -1, 52, False), (36, 3, -1, 16, False), (409, 4, -1, 417, False), (417, 1, -1, 317, False), (97, 5, 20, 85, True), (214, 2, -1, 234, False), (186, 1, -1, 86, False), (412, 4, -10, 412, False), (352, 2, -1, 352, False), (432, 2, -1, 452, False), (452, 3, -1, 432, False), (259, 2, -1, 279, False), (307, 2, -1, 307, False), (407, 0, -1, 407, False), (118, 0, -1, 218, False), (259, 2, -1, 279, False), (199, 0, -1, 299, False), (316, 1, -1, 216, False), (16, 5, 20, 0, True), (236, 1, -1, 136, False), (276, 3, -1, 256, False), (229, 3, -1, 209, False), (136, 0, -1, 236, False), (18, 0, -1, 118, False), (222, 1, -1, 122, False), (137, 0, -1, 237, False), (318, 0, -1, 418, False)]\n",
            "[(112, 0, -1, 212, False), (252, 3, -1, 232, False), (318, 0, -1, 418, False), (418, 5, 20, 410, True), (251, 3, -1, 231, False), (252, 2, -1, 272, False), (152, 1, -1, 52, False), (52, 0, -1, 152, False), (292, 0, -1, 392, False), (392, 3, -1, 372, False), (496, 0, -1, 496, False), (476, 5, -1, 472, False), (217, 2, -1, 237, False), (114, 5, -10, 114, False), (254, 2, -1, 274, False), (256, 3, -1, 236, False), (452, 3, -1, 432, False), (332, 0, -1, 432, False), (278, 3, -1, 258, False), (236, 1, -1, 136, False), (479, 5, 20, 475, True), (411, 4, -1, 419, False), (409, 4, -1, 417, False), (282, 1, -1, 182, False), (497, 1, -1, 397, False), (202, 1, -1, 102, False), (2, 4, -1, 18, False), (2, 4, -1, 18, False), (241, 0, -1, 341, False), (221, 1, -1, 121, False), (101, 1, -1, 1, False), (238, 1, -1, 138, False)]\n",
            "[(132, 1, -1, 32, False), (212, 3, -1, 212, False), (72, 2, -1, 92, False), (152, 0, -1, 252, False), (372, 0, -1, 472, False), (496, 0, -1, 496, False), (157, 2, -1, 177, False), (114, 4, -10, 114, False), (352, 2, -1, 352, False), (452, 2, -1, 452, False), (352, 1, -1, 252, False), (476, 1, -1, 376, False), (211, 0, -1, 311, False), (378, 2, -1, 398, False), (259, 2, -1, 279, False), (279, 0, -1, 379, False), (274, 0, -1, 374, False), (87, 4, -1, 99, False), (316, 1, -1, 216, False), (204, 2, -1, 224, False), (164, 2, -1, 184, False), (84, 4, -1, 96, False), (176, 3, -1, 156, False), (36, 3, -1, 16, False), (331, 1, -1, 231, False), (373, 0, -1, 473, False), (297, 1, -1, 197, False), (122, 1, -1, 22, False), (318, 0, -1, 418, False), (418, 5, 20, 410, True), (43, 0, -1, 143, False), (218, 0, -1, 318, False)]\n",
            "[(212, 5, -10, 212, False), (312, 1, -1, 212, False), (192, 1, -1, 92, False), (192, 2, -1, 192, False), (98, 1, -1, 98, False), (138, 3, -1, 118, False), (1, 4, -1, 17, False), (308, 0, -1, 408, False), (72, 3, -1, 52, False), (52, 1, -1, 52, False), (152, 0, -1, 252, False), (372, 0, -1, 472, False), (274, 0, -1, 374, False), (258, 4, -10, 258, False), (299, 0, -1, 399, False), (352, 2, -1, 352, False), (278, 3, -1, 258, False), (239, 2, -1, 259, False), (479, 5, 20, 475, True), (474, 4, -1, 478, False), (28, 0, -1, 128, False), (84, 4, -1, 96, False), (479, 5, 20, 475, True), (392, 3, -1, 372, False), (236, 1, -1, 136, False), (224, 2, -1, 244, False), (142, 0, -1, 242, False), (26, 0, -1, 126, False), (186, 1, -1, 86, False), (119, 0, -1, 219, False), (474, 5, -10, 474, False)]\n",
            "[(212, 3, -1, 212, False), (198, 3, -1, 178, False), (158, 0, -1, 258, False), (471, 1, -1, 371, False), (52, 1, -1, 52, False), (496, 2, -1, 496, False), (36, 3, -1, 16, False), (97, 5, 20, 85, True), (114, 0, -1, 214, False), (254, 2, -1, 274, False), (312, 1, -1, 212, False), (239, 3, -1, 219, False), (243, 3, -1, 223, False), (278, 3, -1, 258, False), (118, 0, -1, 218, False), (223, 1, -1, 123, False), (87, 4, -1, 99, False), (99, 0, -1, 199, False), (164, 2, -1, 184, False), (167, 2, -1, 187, False), (372, 1, -1, 272, False), (72, 2, -1, 92, False), (256, 3, -1, 236, False), (22, 3, -1, 2, False), (162, 3, -1, 142, False), (318, 0, -1, 418, False), (318, 0, -1, 418, False), (473, 4, -1, 477, False), (297, 1, -1, 197, False), (242, 3, -1, 222, False), (318, 0, -1, 418, False), (274, 0, -1, 374, False)]\n",
            "[(98, 0, -1, 198, False), (221, 1, -1, 121, False), (52, 3, -1, 52, False), (152, 0, -1, 252, False), (149, 0, -1, 249, False), (137, 0, -1, 237, False), (352, 0, -1, 452, False), (254, 2, -1, 274, False), (218, 0, -1, 318, False), (407, 5, -10, 407, False), (307, 5, -10, 307, False), (267, 1, -1, 167, False), (146, 1, -1, 46, False), (198, 0, -1, 298, False), (118, 0, -1, 218, False), (474, 4, -1, 478, False), (223, 1, -1, 123, False), (219, 2, -1, 239, False), (187, 1, -1, 87, False), (308, 0, -1, 408, False), (416, 4, -10, 416, False), (216, 1, -1, 116, False), (211, 0, -1, 311, False), (92, 0, -1, 192, False), (246, 2, -1, 266, False), (138, 5, -10, 138, False), (218, 5, -10, 218, False), (218, 0, -1, 318, False), (281, 3, -1, 261, False), (382, 1, -1, 282, False), (54, 0, -1, 154, False)]\n",
            "[(412, 1, -1, 312, False), (92, 1, -1, 92, False), (92, 0, -1, 192, False), (198, 3, -1, 178, False), (172, 2, -1, 192, False), (52, 3, -1, 52, False), (52, 3, -1, 52, False), (252, 1, -1, 152, False), (152, 0, -1, 252, False), (496, 4, -10, 496, False), (496, 3, -1, 476, False), (476, 1, -1, 376, False), (157, 2, -1, 177, False), (136, 1, -1, 36, False), (418, 5, 20, 410, True), (477, 2, -1, 497, False), (352, 2, -1, 352, False), (499, 3, -1, 479, False), (138, 3, -1, 118, False), (408, 4, -1, 416, False), (116, 1, -1, 16, False), (291, 3, -1, 271, False), (251, 3, -1, 231, False), (476, 1, -1, 376, False), (24, 0, -1, 124, False), (16, 5, 20, 0, True), (182, 3, -1, 162, False), (2, 4, -1, 18, False), (118, 0, -1, 218, False), (237, 2, -1, 257, False), (118, 4, -10, 118, False), (258, 3, -1, 238, False)]\n",
            "[(232, 1, -1, 132, False), (92, 4, -10, 92, False), (419, 1, -1, 319, False), (379, 4, -10, 379, False), (378, 2, -1, 398, False), (381, 3, -1, 361, False), (28, 0, -1, 128, False), (292, 3, -1, 272, False), (396, 0, -1, 496, False), (249, 3, -1, 229, False), (217, 2, -1, 237, False), (418, 5, 20, 410, True), (118, 0, -1, 218, False), (197, 1, -1, 97, False), (352, 2, -1, 352, False), (307, 0, -1, 407, False), (138, 3, -1, 118, False), (474, 4, -1, 478, False), (204, 2, -1, 224, False), (136, 2, -1, 136, False), (392, 3, -1, 372, False), (136, 1, -1, 36, False), (144, 2, -1, 164, False), (209, 0, -1, 309, False), (317, 1, -1, 217, False), (97, 5, 20, 85, True), (282, 1, -1, 182, False), (22, 3, -1, 2, False), (118, 0, -1, 218, False), (218, 0, -1, 318, False), (2, 4, -1, 18, False), (318, 0, -1, 418, False)]\n",
            "[(192, 2, -1, 192, False), (496, 2, -1, 496, False), (114, 5, -10, 114, False), (478, 1, -1, 378, False), (278, 3, -1, 258, False), (136, 1, -1, 36, False), (186, 1, -1, 86, False), (412, 4, -10, 412, False), (452, 1, -1, 352, False), (452, 1, -1, 352, False), (236, 1, -1, 136, False), (136, 1, -1, 36, False), (479, 5, 20, 475, True), (118, 0, -1, 218, False), (239, 2, -1, 259, False), (128, 0, -1, 228, False), (96, 0, -1, 196, False), (72, 2, -1, 92, False), (309, 0, -1, 409, False), (318, 2, -1, 318, False), (418, 5, 20, 410, True), (238, 1, -1, 138, False), (293, 3, -1, 273, False), (473, 4, -1, 477, False), (297, 1, -1, 197, False), (362, 1, -1, 262, False), (18, 0, -1, 118, False), (308, 0, -1, 408, False), (241, 0, -1, 341, False), (22, 3, -1, 2, False), (478, 1, -1, 378, False)]\n",
            "[(412, 3, -1, 412, False), (252, 3, -1, 232, False), (252, 1, -1, 152, False), (192, 1, -1, 92, False), (374, 0, -1, 474, False), (1, 4, -1, 17, False), (308, 0, -1, 408, False), (292, 2, -1, 292, False), (52, 0, -1, 152, False), (249, 3, -1, 229, False), (309, 0, -1, 409, False), (214, 1, -1, 114, False), (284, 1, -1, 184, False), (36, 3, -1, 16, False), (477, 2, -1, 497, False), (477, 2, -1, 497, False), (352, 2, -1, 352, False), (352, 0, -1, 452, False), (318, 0, -1, 418, False), (407, 2, -1, 407, False), (123, 1, -1, 23, False), (347, 1, -1, 247, False), (231, 3, -1, 211, False), (231, 3, -1, 211, False), (376, 1, -1, 276, False), (473, 4, -1, 477, False), (497, 1, -1, 397, False), (243, 3, -1, 223, False), (418, 5, 20, 410, True), (54, 0, -1, 154, False), (314, 1, -1, 214, False), (478, 1, -1, 378, False)]\n",
            "[(132, 0, -1, 232, False), (332, 1, -1, 232, False), (352, 1, -1, 252, False), (152, 2, -1, 172, False), (92, 1, -1, 92, False), (379, 4, -10, 379, False), (298, 3, -1, 278, False), (128, 0, -1, 228, False), (252, 1, -1, 152, False), (52, 2, -1, 72, False), (52, 3, -1, 52, False), (309, 0, -1, 409, False), (217, 2, -1, 237, False), (177, 2, -1, 197, False), (16, 5, 20, 0, True), (418, 5, 20, 410, True), (211, 0, -1, 311, False), (207, 1, -1, 107, False), (383, 1, -1, 283, False), (146, 2, -1, 166, False), (259, 2, -1, 279, False), (187, 1, -1, 87, False), (391, 1, -1, 291, False), (319, 1, -1, 219, False), (36, 3, -1, 16, False), (392, 3, -1, 372, False), (236, 1, -1, 136, False), (124, 0, -1, 224, False), (197, 1, -1, 97, False), (2, 4, -1, 18, False), (418, 5, 20, 410, True), (143, 0, -1, 243, False)]\n",
            "[(332, 1, -1, 232, False), (92, 5, -10, 92, False), (192, 1, -1, 92, False), (231, 4, -10, 231, False), (374, 0, -1, 474, False), (197, 1, -1, 97, False), (196, 3, -1, 176, False), (273, 0, -1, 373, False), (407, 2, -1, 407, False), (238, 1, -1, 138, False), (46, 0, -1, 146, False), (186, 1, -1, 86, False), (223, 1, -1, 123, False), (316, 1, -1, 216, False), (224, 2, -1, 244, False), (136, 2, -1, 136, False), (491, 1, -1, 391, False), (272, 2, -1, 292, False), (184, 1, -1, 84, False), (317, 1, -1, 217, False), (282, 1, -1, 182, False), (118, 0, -1, 218, False), (26, 0, -1, 126, False), (226, 2, -1, 246, False), (362, 1, -1, 262, False), (242, 0, -1, 342, False), (18, 0, -1, 118, False), (416, 1, -1, 316, False), (223, 1, -1, 123, False), (54, 0, -1, 154, False), (118, 0, -1, 218, False)]\n",
            "[(152, 2, -1, 172, False), (92, 5, -10, 92, False), (72, 0, -1, 172, False), (192, 2, -1, 192, False), (378, 2, -1, 398, False), (52, 1, -1, 52, False), (476, 1, -1, 376, False), (258, 4, -10, 258, False), (118, 0, -1, 218, False), (218, 3, -1, 218, False), (184, 1, -1, 84, False), (86, 4, -1, 98, False), (273, 0, -1, 373, False), (452, 3, -1, 432, False), (252, 2, -1, 272, False), (307, 4, -10, 307, False), (107, 0, -1, 207, False), (218, 0, -1, 318, False), (399, 0, -1, 499, False), (499, 3, -1, 479, False), (176, 3, -1, 156, False), (36, 3, -1, 16, False), (276, 3, -1, 256, False), (52, 2, -1, 72, False), (177, 2, -1, 197, False), (142, 0, -1, 242, False), (242, 3, -1, 222, False), (142, 0, -1, 242, False), (246, 3, -1, 226, False), (218, 0, -1, 318, False), (341, 1, -1, 241, False), (221, 1, -1, 121, False)]\n",
            "[(92, 1, -1, 92, False), (121, 3, -1, 101, False), (476, 2, -1, 496, False), (249, 3, -1, 229, False), (418, 2, -1, 418, False), (236, 1, -1, 136, False), (479, 5, 20, 475, True), (118, 0, -1, 218, False), (273, 0, -1, 373, False), (352, 3, -1, 332, False), (278, 3, -1, 258, False), (478, 1, -1, 378, False), (378, 1, -1, 278, False), (223, 1, -1, 123, False), (3, 4, -1, 19, False), (391, 1, -1, 291, False), (92, 0, -1, 192, False), (376, 1, -1, 276, False), (36, 3, -1, 16, False), (2, 4, -1, 18, False), (98, 0, -1, 198, False), (477, 2, -1, 497, False), (197, 1, -1, 97, False), (22, 3, -1, 2, False), (262, 3, -1, 242, False), (242, 3, -1, 222, False), (497, 1, -1, 397, False), (237, 2, -1, 257, False), (19, 0, -1, 119, False), (2, 4, -1, 18, False), (374, 0, -1, 474, False)]\n",
            "[(312, 3, -1, 312, False), (252, 3, -1, 232, False), (332, 3, -1, 332, False), (186, 3, -1, 166, False), (261, 3, -1, 241, False), (216, 1, -1, 116, False), (52, 1, -1, 52, False), (254, 2, -1, 274, False), (273, 0, -1, 373, False), (432, 2, -1, 452, False), (452, 0, -1, 452, False), (479, 5, 20, 475, True), (479, 4, -10, 479, False), (479, 5, 20, 475, True), (128, 0, -1, 228, False), (176, 3, -1, 156, False), (256, 3, -1, 236, False), (336, 1, -1, 236, False), (36, 3, -1, 16, False), (96, 0, -1, 196, False), (276, 3, -1, 256, False), (197, 1, -1, 97, False), (236, 1, -1, 136, False), (118, 0, -1, 218, False), (382, 1, -1, 282, False), (182, 3, -1, 162, False), (102, 1, -1, 2, False), (477, 2, -1, 497, False), (261, 3, -1, 241, False), (54, 0, -1, 154, False), (278, 3, -1, 258, False), (118, 4, -10, 118, False)]\n",
            "[(212, 5, -10, 212, False), (312, 1, -1, 212, False), (92, 1, -1, 92, False), (92, 3, -1, 72, False), (411, 4, -1, 419, False), (381, 3, -1, 361, False), (241, 3, -1, 221, False), (52, 3, -1, 52, False), (476, 3, -1, 476, False), (249, 3, -1, 229, False), (374, 0, -1, 474, False), (278, 3, -1, 258, False), (432, 0, -1, 432, False), (136, 1, -1, 36, False), (474, 4, -1, 478, False), (398, 1, -1, 298, False), (166, 2, -1, 186, False), (118, 0, -1, 218, False), (239, 2, -1, 259, False), (287, 1, -1, 187, False), (96, 0, -1, 196, False), (272, 2, -1, 292, False), (236, 0, -1, 336, False), (16, 5, 20, 0, True), (198, 0, -1, 298, False), (218, 0, -1, 318, False), (477, 2, -1, 497, False), (308, 5, -10, 308, False), (341, 1, -1, 241, False), (177, 2, -1, 197, False), (258, 3, -1, 238, False), (214, 2, -1, 234, False)]\n",
            "[(132, 2, -1, 132, False), (312, 2, -1, 312, False), (332, 1, -1, 232, False), (352, 3, -1, 332, False), (92, 1, -1, 92, False), (72, 1, -1, 72, False), (72, 0, -1, 172, False), (126, 0, -1, 226, False), (259, 2, -1, 279, False), (292, 2, -1, 292, False), (52, 1, -1, 52, False), (252, 1, -1, 152, False), (418, 5, 20, 410, True), (352, 2, -1, 352, False), (432, 2, -1, 452, False), (407, 0, -1, 407, False), (407, 1, -1, 307, False), (99, 0, -1, 199, False), (318, 0, -1, 418, False), (46, 0, -1, 146, False), (419, 1, -1, 319, False), (479, 5, 20, 475, True), (409, 4, -1, 417, False), (297, 1, -1, 197, False), (497, 1, -1, 397, False), (297, 1, -1, 197, False), (216, 1, -1, 116, False), (19, 0, -1, 119, False), (278, 3, -1, 258, False), (118, 4, -10, 118, False), (258, 3, -1, 238, False), (118, 0, -1, 218, False)]\n",
            "[(112, 0, -1, 212, False), (412, 1, -1, 312, False), (412, 2, -1, 412, False), (252, 3, -1, 232, False), (192, 1, -1, 92, False), (98, 0, -1, 198, False), (418, 5, 20, 410, True), (219, 2, -1, 239, False), (479, 5, 20, 475, True), (101, 1, -1, 1, False), (172, 2, -1, 192, False), (72, 3, -1, 52, False), (258, 4, -10, 258, False), (499, 3, -1, 479, False), (238, 1, -1, 138, False), (232, 2, -1, 252, False), (452, 3, -1, 432, False), (419, 1, -1, 319, False), (227, 2, -1, 247, False), (398, 1, -1, 298, False), (138, 3, -1, 118, False), (244, 1, -1, 144, False), (431, 0, -1, 431, False), (219, 2, -1, 239, False), (276, 3, -1, 256, False), (157, 4, -10, 157, False), (97, 5, 20, 85, True), (222, 3, -1, 202, False), (18, 5, -1, 2, False), (177, 2, -1, 197, False), (378, 1, -1, 278, False), (123, 1, -1, 23, False)]\n",
            "[(332, 3, -1, 332, False), (432, 1, -1, 332, False), (252, 1, -1, 152, False), (72, 2, -1, 92, False), (72, 1, -1, 72, False), (172, 2, -1, 192, False), (118, 0, -1, 218, False), (231, 4, -10, 231, False), (274, 0, -1, 374, False), (237, 2, -1, 257, False), (52, 1, -1, 52, False), (496, 3, -1, 476, False), (496, 0, -1, 496, False), (496, 0, -1, 496, False), (376, 0, -1, 476, False), (476, 0, -1, 476, False), (476, 3, -1, 476, False), (476, 1, -1, 376, False), (16, 5, 20, 0, True), (214, 1, -1, 114, False), (239, 3, -1, 219, False), (307, 1, -1, 207, False), (219, 2, -1, 239, False), (118, 0, -1, 218, False), (116, 1, -1, 16, False), (219, 2, -1, 239, False), (476, 1, -1, 376, False), (18, 0, -1, 118, False), (218, 0, -1, 318, False), (318, 2, -1, 318, False), (218, 5, -10, 218, False), (223, 1, -1, 123, False)]\n",
            "[(312, 2, -1, 312, False), (212, 1, -1, 112, False), (252, 1, -1, 152, False), (152, 2, -1, 172, False), (92, 5, -10, 92, False), (72, 0, -1, 172, False), (186, 1, -1, 86, False), (271, 3, -1, 251, False), (499, 3, -1, 479, False), (373, 0, -1, 473, False), (352, 1, -1, 252, False), (311, 0, -1, 411, False), (379, 0, -1, 479, False), (407, 0, -1, 407, False), (407, 1, -1, 307, False), (478, 1, -1, 378, False), (378, 2, -1, 398, False), (218, 0, -1, 318, False), (431, 0, -1, 431, False), (491, 1, -1, 391, False), (92, 0, -1, 192, False), (16, 5, 20, 0, True), (258, 3, -1, 238, False), (138, 5, -10, 138, False), (97, 5, 20, 85, True), (97, 5, 20, 85, True), (17, 2, -1, 37, False), (43, 0, -1, 143, False), (142, 0, -1, 242, False), (478, 1, -1, 378, False), (278, 3, -1, 258, False), (234, 2, -1, 254, False)]\n",
            "[(312, 1, -1, 212, False), (132, 2, -1, 132, False), (332, 1, -1, 232, False), (158, 0, -1, 258, False), (371, 1, -1, 271, False), (231, 4, -10, 231, False), (278, 3, -1, 258, False), (308, 0, -1, 408, False), (316, 1, -1, 216, False), (52, 3, -1, 52, False), (52, 0, -1, 152, False), (496, 2, -1, 496, False), (278, 3, -1, 258, False), (138, 3, -1, 118, False), (477, 2, -1, 497, False), (452, 3, -1, 432, False), (252, 2, -1, 272, False), (251, 3, -1, 231, False), (207, 0, -1, 307, False), (407, 2, -1, 407, False), (278, 3, -1, 258, False), (258, 3, -1, 238, False), (216, 1, -1, 116, False), (144, 2, -1, 164, False), (399, 0, -1, 499, False), (271, 5, -10, 271, False), (311, 0, -1, 411, False), (319, 1, -1, 219, False), (2, 4, -1, 18, False), (218, 0, -1, 318, False), (137, 0, -1, 237, False), (418, 5, 20, 410, True)]\n",
            "[(412, 1, -1, 312, False), (212, 3, -1, 212, False), (252, 1, -1, 152, False), (192, 1, -1, 92, False), (192, 1, -1, 92, False), (186, 3, -1, 166, False), (239, 3, -1, 219, False), (72, 3, -1, 52, False), (52, 3, -1, 52, False), (52, 3, -1, 52, False), (184, 1, -1, 84, False), (418, 5, 20, 410, True), (432, 2, -1, 452, False), (452, 3, -1, 432, False), (307, 1, -1, 207, False), (107, 5, -10, 107, False), (207, 2, -1, 227, False), (414, 1, -1, 314, False), (87, 4, -1, 99, False), (236, 1, -1, 136, False), (199, 0, -1, 299, False), (491, 1, -1, 391, False), (271, 3, -1, 251, False), (72, 2, -1, 92, False), (376, 1, -1, 276, False), (22, 3, -1, 2, False), (218, 0, -1, 318, False), (477, 2, -1, 497, False), (143, 0, -1, 243, False), (254, 2, -1, 274, False), (18, 0, -1, 118, False), (218, 0, -1, 318, False)]\n",
            "[(232, 0, -1, 332, False), (258, 3, -1, 238, False), (261, 3, -1, 241, False), (116, 1, -1, 16, False), (217, 2, -1, 237, False), (399, 0, -1, 499, False), (392, 3, -1, 372, False), (411, 4, -1, 419, False), (274, 0, -1, 374, False), (307, 3, -1, 307, False), (107, 5, -10, 107, False), (199, 0, -1, 299, False), (279, 0, -1, 379, False), (372, 1, -1, 272, False), (36, 3, -1, 16, False), (192, 0, -1, 292, False), (472, 4, -1, 476, False), (162, 3, -1, 142, False), (142, 0, -1, 242, False), (318, 0, -1, 418, False), (242, 3, -1, 222, False), (273, 0, -1, 373, False), (308, 5, -10, 308, False), (216, 1, -1, 116, False), (101, 1, -1, 1, False), (479, 5, 20, 475, True), (22, 3, -1, 2, False), (218, 0, -1, 318, False)]\n",
            "[(412, 3, -1, 412, False), (132, 0, -1, 232, False), (332, 3, -1, 332, False), (72, 2, -1, 92, False), (211, 0, -1, 311, False), (197, 1, -1, 97, False), (116, 1, -1, 16, False), (72, 5, -10, 72, False), (472, 4, -1, 476, False), (114, 0, -1, 214, False), (398, 1, -1, 298, False), (196, 3, -1, 176, False), (399, 0, -1, 499, False), (278, 3, -1, 258, False), (136, 1, -1, 36, False), (411, 4, -1, 419, False), (298, 3, -1, 278, False), (407, 4, -10, 407, False), (267, 1, -1, 167, False), (146, 2, -1, 166, False), (216, 1, -1, 116, False), (184, 1, -1, 84, False), (479, 5, 20, 475, True), (417, 1, -1, 317, False), (382, 1, -1, 282, False), (142, 0, -1, 242, False), (26, 0, -1, 126, False), (143, 0, -1, 243, False), (382, 1, -1, 282, False), (54, 0, -1, 154, False), (278, 3, -1, 258, False), (238, 1, -1, 138, False)]\n",
            "[(212, 3, -1, 212, False), (412, 1, -1, 312, False), (412, 3, -1, 412, False), (352, 3, -1, 332, False), (172, 5, -10, 172, False), (251, 3, -1, 231, False), (292, 2, -1, 292, False), (72, 5, -10, 72, False), (317, 1, -1, 217, False), (237, 2, -1, 257, False), (452, 1, -1, 352, False), (379, 0, -1, 479, False), (138, 3, -1, 118, False), (207, 1, -1, 107, False), (118, 0, -1, 218, False), (278, 3, -1, 258, False), (199, 1, -1, 99, False), (431, 1, -1, 331, False), (392, 3, -1, 372, False), (292, 0, -1, 392, False), (276, 3, -1, 256, False), (24, 0, -1, 124, False), (196, 3, -1, 176, False), (162, 3, -1, 142, False), (242, 1, -1, 142, False), (473, 4, -1, 477, False), (243, 3, -1, 223, False), (19, 0, -1, 119, False), (479, 5, 20, 475, True), (278, 3, -1, 258, False), (238, 1, -1, 138, False), (138, 3, -1, 118, False)]\n",
            "[(332, 3, -1, 332, False), (192, 1, -1, 92, False), (172, 5, -10, 172, False), (158, 0, -1, 258, False), (318, 0, -1, 418, False), (231, 3, -1, 211, False), (219, 2, -1, 239, False), (378, 2, -1, 398, False), (476, 1, -1, 376, False), (409, 4, -1, 417, False), (137, 0, -1, 237, False), (234, 2, -1, 254, False), (184, 1, -1, 84, False), (299, 0, -1, 399, False), (432, 3, -1, 432, False), (452, 1, -1, 352, False), (452, 2, -1, 452, False), (16, 5, 20, 0, True), (118, 0, -1, 218, False), (207, 0, -1, 307, False), (407, 3, -1, 407, False), (479, 5, 20, 475, True), (478, 1, -1, 378, False), (186, 1, -1, 86, False), (298, 2, -1, 298, False), (176, 3, -1, 156, False), (247, 2, -1, 267, False), (259, 2, -1, 279, False), (292, 0, -1, 392, False), (226, 2, -1, 246, False), (497, 1, -1, 397, False), (18, 0, -1, 118, False)]\n",
            "[(412, 0, -1, 412, False), (412, 1, -1, 312, False), (152, 2, -1, 172, False), (72, 2, -1, 92, False), (92, 1, -1, 92, False), (418, 5, 20, 410, True), (318, 0, -1, 418, False), (157, 2, -1, 177, False), (16, 5, 20, 0, True), (292, 2, -1, 292, False), (52, 2, -1, 72, False), (118, 0, -1, 218, False), (412, 4, -10, 412, False), (252, 0, -1, 352, False), (259, 2, -1, 279, False), (238, 1, -1, 138, False), (407, 1, -1, 307, False), (307, 1, -1, 207, False), (207, 1, -1, 107, False), (207, 2, -1, 227, False), (479, 5, 20, 475, True), (374, 0, -1, 474, False), (479, 5, 20, 475, True), (259, 2, -1, 279, False), (411, 4, -1, 419, False), (136, 1, -1, 36, False), (476, 1, -1, 376, False), (418, 5, 20, 410, True), (118, 0, -1, 218, False), (18, 5, -1, 2, False), (223, 1, -1, 123, False), (19, 0, -1, 119, False)]\n",
            "[(312, 0, -1, 412, False), (332, 1, -1, 232, False), (352, 3, -1, 332, False), (186, 3, -1, 166, False), (318, 0, -1, 418, False), (17, 2, -1, 37, False), (97, 5, 20, 85, True), (28, 0, -1, 128, False), (496, 3, -1, 476, False), (237, 1, -1, 137, False), (258, 4, -10, 258, False), (176, 0, -1, 276, False), (273, 0, -1, 373, False), (397, 1, -1, 297, False), (432, 3, -1, 432, False), (352, 3, -1, 332, False), (392, 3, -1, 372, False), (219, 2, -1, 239, False), (138, 3, -1, 118, False), (318, 0, -1, 418, False), (228, 3, -1, 208, False), (16, 5, 20, 0, True), (144, 2, -1, 164, False), (376, 1, -1, 276, False), (96, 0, -1, 196, False), (162, 3, -1, 142, False), (22, 3, -1, 2, False), (2, 4, -1, 18, False), (297, 1, -1, 197, False), (274, 0, -1, 374, False), (2, 4, -1, 18, False)]\n",
            "[(212, 0, -1, 312, False), (332, 2, -1, 352, False), (152, 2, -1, 172, False), (92, 5, -10, 92, False), (192, 2, -1, 192, False), (157, 2, -1, 177, False), (308, 0, -1, 408, False), (272, 1, -1, 172, False), (496, 3, -1, 476, False), (476, 2, -1, 496, False), (157, 2, -1, 177, False), (254, 2, -1, 274, False), (198, 0, -1, 298, False), (477, 2, -1, 497, False), (312, 1, -1, 212, False), (232, 2, -1, 252, False), (392, 3, -1, 372, False), (374, 0, -1, 474, False), (218, 0, -1, 318, False), (146, 1, -1, 46, False), (274, 0, -1, 374, False), (187, 1, -1, 87, False), (128, 3, -1, 108, False), (92, 0, -1, 192, False), (136, 0, -1, 236, False), (376, 1, -1, 276, False), (282, 1, -1, 182, False), (242, 1, -1, 142, False), (222, 1, -1, 122, False), (333, 2, -1, 353, False), (234, 1, -1, 134, False)]\n",
            "[(212, 1, -1, 112, False), (252, 3, -1, 232, False), (352, 3, -1, 332, False), (92, 3, -1, 72, False), (92, 3, -1, 72, False), (218, 0, -1, 318, False), (479, 5, 20, 475, True), (121, 3, -1, 101, False), (208, 0, -1, 308, False), (476, 5, -1, 472, False), (476, 1, -1, 376, False), (218, 0, -1, 318, False), (276, 3, -1, 256, False), (398, 1, -1, 298, False), (307, 5, -10, 307, False), (307, 5, -10, 307, False), (274, 0, -1, 374, False), (46, 0, -1, 146, False), (378, 1, -1, 278, False), (258, 3, -1, 238, False), (267, 1, -1, 167, False), (372, 1, -1, 272, False), (276, 3, -1, 256, False), (417, 1, -1, 317, False), (36, 3, -1, 16, False), (22, 3, -1, 2, False), (273, 0, -1, 373, False), (242, 3, -1, 222, False), (154, 0, -1, 254, False), (274, 0, -1, 374, False), (374, 0, -1, 474, False), (213, 2, -1, 233, False)]\n",
            "[(412, 0, -1, 412, False), (412, 3, -1, 412, False), (412, 1, -1, 312, False), (332, 1, -1, 232, False), (158, 0, -1, 258, False), (238, 1, -1, 138, False), (318, 0, -1, 418, False), (418, 5, 20, 410, True), (197, 1, -1, 97, False), (312, 1, -1, 212, False), (432, 3, -1, 432, False), (452, 0, -1, 452, False), (219, 2, -1, 239, False), (374, 0, -1, 474, False), (298, 3, -1, 278, False), (243, 3, -1, 223, False), (258, 3, -1, 238, False), (3, 4, -1, 19, False), (199, 0, -1, 299, False), (199, 0, -1, 299, False), (379, 0, -1, 479, False), (144, 2, -1, 164, False), (226, 2, -1, 246, False), (98, 0, -1, 198, False), (297, 1, -1, 197, False), (2, 4, -1, 18, False), (353, 1, -1, 253, False), (341, 1, -1, 241, False), (237, 2, -1, 257, False), (118, 0, -1, 218, False), (274, 0, -1, 374, False)]\n",
            "[(312, 1, -1, 212, False), (132, 2, -1, 132, False), (332, 3, -1, 332, False), (259, 2, -1, 279, False), (316, 1, -1, 216, False), (292, 3, -1, 272, False), (272, 1, -1, 172, False), (252, 2, -1, 272, False), (496, 3, -1, 476, False), (376, 0, -1, 476, False), (256, 3, -1, 236, False), (299, 0, -1, 399, False), (432, 0, -1, 432, False), (432, 2, -1, 452, False), (292, 0, -1, 392, False), (238, 1, -1, 138, False), (166, 2, -1, 186, False), (278, 3, -1, 258, False), (399, 0, -1, 499, False), (231, 3, -1, 211, False), (271, 3, -1, 251, False), (192, 0, -1, 292, False), (226, 2, -1, 246, False), (318, 0, -1, 418, False), (497, 1, -1, 397, False), (18, 0, -1, 118, False), (102, 1, -1, 2, False), (17, 2, -1, 37, False), (218, 0, -1, 318, False), (18, 0, -1, 118, False), (123, 0, -1, 223, False), (279, 0, -1, 379, False)]\n",
            "[(112, 4, -10, 112, False), (112, 2, -1, 132, False), (332, 2, -1, 352, False), (352, 1, -1, 252, False), (92, 1, -1, 92, False), (92, 3, -1, 72, False), (192, 0, -1, 292, False), (238, 1, -1, 138, False), (221, 1, -1, 121, False), (197, 1, -1, 97, False), (256, 3, -1, 236, False), (499, 3, -1, 479, False), (476, 1, -1, 376, False), (319, 1, -1, 219, False), (274, 0, -1, 374, False), (118, 0, -1, 218, False), (407, 1, -1, 307, False), (258, 3, -1, 238, False), (218, 0, -1, 318, False), (118, 0, -1, 218, False), (3, 4, -1, 19, False), (231, 3, -1, 211, False), (239, 2, -1, 259, False), (271, 5, -10, 271, False), (52, 2, -1, 72, False), (224, 2, -1, 244, False), (318, 0, -1, 418, False), (2, 4, -1, 18, False), (477, 2, -1, 497, False), (221, 1, -1, 121, False), (474, 4, -1, 478, False)]\n",
            "[(412, 3, -1, 412, False), (332, 1, -1, 232, False), (92, 2, -1, 92, False), (72, 1, -1, 72, False), (292, 1, -1, 192, False), (496, 0, -1, 496, False), (496, 2, -1, 496, False), (276, 3, -1, 256, False), (432, 0, -1, 432, False), (239, 3, -1, 219, False), (238, 1, -1, 138, False), (307, 1, -1, 207, False), (407, 3, -1, 407, False), (243, 3, -1, 223, False), (418, 5, 20, 410, True), (479, 5, 20, 475, True), (16, 5, 20, 0, True), (267, 1, -1, 167, False), (92, 0, -1, 192, False), (292, 0, -1, 392, False), (96, 0, -1, 196, False), (276, 3, -1, 256, False), (256, 3, -1, 236, False), (136, 1, -1, 36, False), (142, 2, -1, 162, False), (397, 1, -1, 297, False), (102, 1, -1, 2, False), (418, 5, 20, 410, True), (122, 1, -1, 22, False), (418, 5, 20, 410, True), (322, 1, -1, 222, False)]\n",
            "[(212, 3, -1, 212, False), (332, 1, -1, 232, False), (92, 1, -1, 92, False), (92, 0, -1, 192, False), (192, 1, -1, 92, False), (252, 1, -1, 152, False), (72, 1, -1, 72, False), (309, 0, -1, 409, False), (96, 0, -1, 196, False), (196, 3, -1, 176, False), (252, 2, -1, 272, False), (272, 2, -1, 292, False), (258, 3, -1, 238, False), (407, 2, -1, 407, False), (123, 1, -1, 23, False), (167, 2, -1, 187, False), (417, 1, -1, 317, False), (97, 5, 20, 85, True), (122, 1, -1, 22, False), (142, 2, -1, 162, False), (22, 3, -1, 2, False), (373, 0, -1, 473, False), (418, 5, 20, 410, True), (273, 0, -1, 373, False), (473, 4, -1, 477, False), (16, 5, 20, 0, True), (137, 0, -1, 237, False), (197, 1, -1, 97, False), (314, 1, -1, 214, False), (118, 0, -1, 218, False), (123, 0, -1, 223, False)]\n",
            "[(72, 5, -10, 72, False), (92, 5, -10, 92, False), (72, 1, -1, 72, False), (121, 3, -1, 101, False), (128, 0, -1, 228, False), (416, 1, -1, 316, False), (116, 1, -1, 16, False), (52, 1, -1, 52, False), (476, 3, -1, 476, False), (114, 0, -1, 214, False), (499, 3, -1, 479, False), (118, 0, -1, 218, False), (432, 2, -1, 452, False), (352, 0, -1, 452, False), (432, 2, -1, 452, False), (332, 0, -1, 432, False), (279, 0, -1, 379, False), (258, 3, -1, 238, False), (258, 3, -1, 238, False), (479, 5, 20, 475, True), (256, 3, -1, 236, False), (52, 2, -1, 72, False), (162, 3, -1, 142, False), (222, 1, -1, 122, False), (278, 3, -1, 258, False), (97, 5, 20, 85, True), (333, 2, -1, 353, False), (318, 0, -1, 418, False), (374, 0, -1, 474, False), (122, 1, -1, 22, False), (19, 0, -1, 119, False)]\n",
            "[(271, 3, -1, 251, False), (261, 3, -1, 241, False), (192, 3, -1, 172, False), (52, 3, -1, 52, False), (252, 2, -1, 272, False), (376, 0, -1, 476, False), (237, 3, -1, 217, False), (199, 0, -1, 299, False), (98, 0, -1, 198, False), (419, 1, -1, 319, False), (478, 1, -1, 378, False), (307, 1, -1, 207, False), (199, 0, -1, 299, False), (46, 0, -1, 146, False), (138, 3, -1, 118, False), (287, 1, -1, 187, False), (331, 1, -1, 231, False), (279, 0, -1, 379, False), (491, 1, -1, 391, False), (411, 4, -1, 419, False), (176, 0, -1, 276, False), (16, 5, 20, 0, True), (317, 1, -1, 217, False), (226, 2, -1, 246, False), (246, 2, -1, 266, False), (362, 1, -1, 262, False), (316, 1, -1, 216, False), (37, 0, -1, 137, False), (254, 2, -1, 274, False), (474, 5, -10, 474, False), (238, 1, -1, 138, False)]\n",
            "[(412, 3, -1, 412, False), (112, 4, -10, 112, False), (232, 0, -1, 332, False), (92, 4, -10, 92, False), (92, 2, -1, 92, False), (318, 0, -1, 418, False), (211, 0, -1, 311, False), (279, 0, -1, 379, False), (361, 4, -10, 361, False), (121, 3, -1, 101, False), (317, 1, -1, 217, False), (177, 3, -1, 157, False), (186, 1, -1, 86, False), (432, 3, -1, 432, False), (392, 3, -1, 372, False), (274, 0, -1, 374, False), (407, 2, -1, 407, False), (186, 1, -1, 86, False), (198, 0, -1, 298, False), (298, 2, -1, 298, False), (311, 2, -1, 311, False), (292, 0, -1, 392, False), (372, 1, -1, 272, False), (392, 3, -1, 372, False), (276, 3, -1, 256, False), (249, 3, -1, 229, False), (218, 0, -1, 318, False), (22, 3, -1, 2, False), (37, 0, -1, 137, False), (239, 2, -1, 259, False), (2, 4, -1, 18, False), (119, 2, -1, 139, False)]\n",
            "[(72, 1, -1, 72, False), (192, 0, -1, 292, False), (98, 1, -1, 98, False), (198, 3, -1, 178, False), (239, 3, -1, 219, False), (197, 1, -1, 97, False), (316, 1, -1, 216, False), (496, 0, -1, 496, False), (177, 2, -1, 197, False), (284, 1, -1, 184, False), (419, 1, -1, 319, False), (379, 0, -1, 479, False), (307, 3, -1, 307, False), (407, 3, -1, 407, False), (407, 2, -1, 407, False), (267, 1, -1, 167, False), (374, 5, -10, 374, False), (239, 2, -1, 259, False), (166, 2, -1, 186, False), (404, 1, -1, 304, False), (144, 2, -1, 164, False), (164, 2, -1, 184, False), (249, 3, -1, 229, False), (182, 3, -1, 162, False), (26, 0, -1, 126, False), (373, 0, -1, 473, False), (97, 5, 20, 85, True), (281, 3, -1, 261, False), (218, 0, -1, 318, False), (418, 5, 20, 410, True), (223, 1, -1, 123, False), (497, 1, -1, 397, False)]\n",
            "[(112, 2, -1, 132, False), (232, 0, -1, 332, False), (92, 3, -1, 72, False), (72, 1, -1, 72, False), (178, 3, -1, 158, False), (231, 4, -10, 231, False), (298, 3, -1, 278, False), (138, 3, -1, 118, False), (118, 0, -1, 218, False), (292, 3, -1, 272, False), (496, 0, -1, 496, False), (177, 2, -1, 197, False), (432, 3, -1, 432, False), (278, 3, -1, 258, False), (307, 5, -10, 307, False), (407, 1, -1, 307, False), (167, 2, -1, 187, False), (218, 0, -1, 318, False), (218, 0, -1, 318, False), (239, 2, -1, 259, False), (199, 5, -10, 199, False), (199, 0, -1, 299, False), (236, 1, -1, 136, False), (87, 4, -1, 99, False), (491, 1, -1, 391, False), (392, 3, -1, 372, False), (136, 1, -1, 36, False), (218, 0, -1, 318, False), (318, 0, -1, 418, False), (418, 5, 20, 410, True), (223, 1, -1, 123, False)]\n",
            "[(252, 1, -1, 152, False), (98, 1, -1, 98, False), (252, 1, -1, 152, False), (152, 0, -1, 252, False), (496, 2, -1, 496, False), (352, 3, -1, 332, False), (352, 1, -1, 252, False), (372, 0, -1, 472, False), (476, 1, -1, 376, False), (276, 3, -1, 256, False), (259, 2, -1, 279, False), (307, 5, -10, 307, False), (499, 3, -1, 479, False), (258, 3, -1, 238, False), (123, 1, -1, 23, False), (239, 2, -1, 259, False), (146, 1, -1, 46, False), (258, 3, -1, 238, False), (223, 1, -1, 123, False), (404, 1, -1, 304, False), (16, 5, 20, 0, True), (267, 1, -1, 167, False), (259, 2, -1, 279, False), (259, 2, -1, 279, False), (96, 0, -1, 196, False), (409, 4, -1, 417, False), (317, 1, -1, 217, False), (382, 1, -1, 282, False), (118, 0, -1, 218, False), (408, 4, -1, 416, False), (318, 0, -1, 418, False), (134, 0, -1, 234, False)]\n",
            "[(92, 3, -1, 72, False), (172, 1, -1, 72, False), (471, 1, -1, 371, False), (211, 0, -1, 311, False), (219, 2, -1, 239, False), (381, 3, -1, 361, False), (177, 2, -1, 197, False), (52, 2, -1, 72, False), (152, 0, -1, 252, False), (476, 0, -1, 476, False), (476, 2, -1, 496, False), (496, 2, -1, 496, False), (217, 2, -1, 237, False), (278, 3, -1, 258, False), (373, 0, -1, 473, False), (379, 0, -1, 479, False), (418, 5, 20, 410, True), (378, 1, -1, 278, False), (116, 1, -1, 16, False), (391, 1, -1, 291, False), (292, 0, -1, 392, False), (472, 4, -1, 476, False), (157, 2, -1, 177, False), (142, 0, -1, 242, False), (162, 3, -1, 142, False), (126, 0, -1, 226, False), (418, 5, 20, 410, True), (18, 5, -1, 2, False), (157, 2, -1, 177, False), (243, 3, -1, 223, False), (313, 1, -1, 213, False)]\n",
            "[(92, 3, -1, 72, False), (219, 2, -1, 239, False), (379, 0, -1, 479, False), (374, 0, -1, 474, False), (361, 1, -1, 261, False), (221, 1, -1, 121, False), (137, 0, -1, 237, False), (152, 0, -1, 252, False), (252, 2, -1, 272, False), (177, 2, -1, 197, False), (254, 2, -1, 274, False), (318, 0, -1, 418, False), (472, 4, -1, 476, False), (399, 0, -1, 499, False), (146, 2, -1, 166, False), (258, 3, -1, 238, False), (499, 3, -1, 479, False), (271, 5, -10, 271, False), (192, 0, -1, 292, False), (22, 3, -1, 2, False), (98, 0, -1, 198, False), (238, 1, -1, 138, False), (318, 0, -1, 418, False), (318, 0, -1, 418, False), (397, 1, -1, 297, False), (261, 3, -1, 241, False), (97, 5, 20, 85, True), (143, 0, -1, 243, False), (18, 0, -1, 118, False), (418, 5, 20, 410, True), (218, 0, -1, 318, False), (139, 0, -1, 239, False)]\n",
            "[(332, 1, -1, 232, False), (98, 1, -1, 98, False), (174, 0, -1, 274, False), (496, 0, -1, 496, False), (412, 1, -1, 312, False), (432, 1, -1, 332, False), (272, 2, -1, 292, False), (211, 0, -1, 311, False), (474, 4, -1, 478, False), (207, 1, -1, 107, False), (267, 1, -1, 167, False), (123, 1, -1, 23, False), (187, 1, -1, 87, False), (187, 1, -1, 87, False), (36, 3, -1, 16, False), (472, 4, -1, 476, False), (236, 1, -1, 136, False), (244, 1, -1, 144, False), (96, 0, -1, 196, False), (236, 1, -1, 136, False), (317, 0, -1, 417, False), (376, 1, -1, 276, False), (122, 1, -1, 22, False), (26, 0, -1, 126, False), (278, 3, -1, 258, False), (238, 1, -1, 138, False), (122, 1, -1, 22, False), (22, 3, -1, 2, False), (473, 4, -1, 477, False), (497, 1, -1, 397, False), (462, 1, -1, 362, False), (134, 0, -1, 234, False)]\n",
            "[(92, 3, -1, 72, False), (72, 1, -1, 72, False), (172, 1, -1, 72, False), (238, 1, -1, 138, False), (496, 3, -1, 476, False), (317, 1, -1, 217, False), (374, 0, -1, 474, False), (378, 2, -1, 398, False), (474, 4, -1, 478, False), (479, 5, 20, 475, True), (199, 5, -10, 199, False), (304, 1, -1, 204, False), (411, 4, -1, 419, False), (251, 3, -1, 231, False), (192, 0, -1, 292, False), (472, 4, -1, 476, False), (164, 2, -1, 184, False), (196, 3, -1, 176, False), (276, 0, -1, 376, False), (242, 3, -1, 222, False), (258, 3, -1, 238, False), (238, 1, -1, 138, False), (18, 0, -1, 118, False), (197, 4, -10, 197, False), (97, 5, 20, 85, True), (216, 1, -1, 116, False), (1, 4, -1, 17, False), (162, 3, -1, 142, False), (254, 2, -1, 274, False), (378, 1, -1, 278, False), (273, 0, -1, 373, False)]\n",
            "[(312, 1, -1, 212, False), (476, 0, -1, 476, False), (177, 3, -1, 157, False), (254, 2, -1, 274, False), (278, 3, -1, 258, False), (412, 1, -1, 312, False), (252, 0, -1, 352, False), (352, 0, -1, 452, False), (272, 2, -1, 292, False), (479, 5, 20, 475, True), (418, 5, 20, 410, True), (408, 4, -1, 416, False), (196, 3, -1, 176, False), (251, 3, -1, 231, False), (392, 3, -1, 372, False), (16, 5, 20, 0, True), (164, 2, -1, 184, False), (236, 1, -1, 136, False), (218, 0, -1, 318, False), (118, 0, -1, 218, False), (273, 0, -1, 373, False), (308, 5, -10, 308, False), (43, 0, -1, 143, False), (374, 0, -1, 474, False), (238, 1, -1, 138, False), (218, 0, -1, 318, False), (2, 4, -1, 18, False), (18, 0, -1, 118, False), (233, 2, -1, 253, False), (473, 4, -1, 477, False), (197, 1, -1, 97, False)]\n",
            "[(292, 1, -1, 192, False), (418, 5, 20, 410, True), (152, 0, -1, 252, False), (152, 3, -1, 152, False), (496, 0, -1, 496, False), (496, 1, -1, 396, False), (157, 2, -1, 177, False), (97, 5, 20, 85, True), (212, 2, -1, 232, False), (432, 3, -1, 432, False), (432, 2, -1, 452, False), (99, 2, -1, 99, False), (214, 2, -1, 234, False), (374, 0, -1, 474, False), (118, 0, -1, 218, False), (99, 0, -1, 199, False), (399, 0, -1, 499, False), (16, 5, 20, 0, True), (99, 0, -1, 199, False), (311, 2, -1, 311, False), (317, 0, -1, 417, False), (217, 2, -1, 237, False), (242, 1, -1, 142, False), (318, 2, -1, 318, False), (186, 1, -1, 86, False), (138, 5, -10, 138, False), (118, 0, -1, 218, False), (116, 1, -1, 16, False), (19, 0, -1, 119, False), (119, 2, -1, 139, False), (479, 5, 20, 475, True), (497, 1, -1, 397, False)]\n",
            "[(92, 5, -10, 92, False), (279, 0, -1, 379, False), (478, 1, -1, 378, False), (137, 0, -1, 237, False), (237, 2, -1, 257, False), (272, 3, -1, 252, False), (72, 3, -1, 52, False), (476, 0, -1, 476, False), (476, 3, -1, 476, False), (376, 1, -1, 276, False), (417, 1, -1, 317, False), (254, 2, -1, 274, False), (374, 0, -1, 474, False), (352, 2, -1, 352, False), (432, 0, -1, 432, False), (16, 5, 20, 0, True), (414, 1, -1, 314, False), (223, 1, -1, 123, False), (187, 1, -1, 87, False), (28, 0, -1, 128, False), (236, 1, -1, 136, False), (479, 5, 20, 475, True), (239, 2, -1, 259, False), (379, 0, -1, 479, False), (229, 3, -1, 209, False), (142, 2, -1, 162, False), (118, 0, -1, 218, False), (2, 4, -1, 18, False), (223, 1, -1, 123, False), (318, 0, -1, 418, False), (254, 2, -1, 274, False), (259, 2, -1, 279, False)]\n",
            "[(192, 1, -1, 92, False), (172, 5, -10, 172, False), (231, 4, -10, 231, False), (174, 0, -1, 274, False), (478, 1, -1, 378, False), (292, 2, -1, 292, False), (257, 1, -1, 157, False), (278, 3, -1, 258, False), (184, 1, -1, 84, False), (176, 0, -1, 276, False), (479, 5, 20, 475, True), (411, 4, -1, 419, False), (307, 4, -10, 307, False), (243, 3, -1, 223, False), (3, 4, -1, 19, False), (186, 1, -1, 86, False), (198, 0, -1, 298, False), (138, 3, -1, 118, False), (499, 3, -1, 479, False), (279, 0, -1, 379, False), (276, 0, -1, 376, False), (142, 0, -1, 242, False), (222, 1, -1, 122, False), (222, 1, -1, 122, False), (118, 0, -1, 218, False), (308, 0, -1, 408, False), (478, 1, -1, 378, False), (278, 3, -1, 258, False), (234, 2, -1, 254, False), (2, 4, -1, 18, False), (497, 1, -1, 397, False), (397, 1, -1, 297, False)]\n",
            "[(72, 0, -1, 172, False), (192, 3, -1, 172, True), (98, 0, -1, 198, False), (138, 3, -1, 118, False), (16, 5, 20, 0, True), (192, 3, -1, 172, False), (272, 2, -1, 292, False), (476, 3, -1, 476, False), (36, 3, -1, 16, False), (254, 2, -1, 274, False), (418, 5, 20, 410, True), (87, 4, -1, 99, False), (258, 3, -1, 238, False), (352, 3, -1, 332, False), (378, 5, -10, 378, False), (307, 0, -1, 407, False), (23, 3, -1, 3, False), (278, 3, -1, 258, False), (99, 0, -1, 199, False), (16, 5, 20, 0, True), (87, 4, -1, 99, False), (299, 0, -1, 399, False), (392, 3, -1, 372, False), (142, 0, -1, 242, False), (222, 1, -1, 122, False), (142, 0, -1, 242, False), (253, 2, -1, 273, False), (362, 2, -1, 382, False), (138, 3, -1, 118, False), (22, 3, -1, 2, False), (144, 2, -1, 164, False)]\n",
            "[(92, 2, -1, 92, False), (192, 2, -1, 192, False), (52, 0, -1, 152, False), (36, 3, -1, 16, False), (257, 1, -1, 157, False), (157, 2, -1, 177, False), (198, 0, -1, 298, False), (432, 2, -1, 452, False), (252, 2, -1, 272, False), (476, 1, -1, 376, False), (474, 4, -1, 478, False), (307, 4, -10, 307, False), (307, 5, -10, 307, False), (407, 2, -1, 407, False), (274, 0, -1, 374, False), (218, 0, -1, 318, False), (479, 5, 20, 475, True), (228, 3, -1, 208, False), (116, 1, -1, 16, False), (211, 0, -1, 311, False), (279, 0, -1, 379, False), (479, 5, 20, 475, True), (319, 1, -1, 219, False), (16, 5, 20, 0, True), (162, 3, -1, 142, False), (226, 2, -1, 246, False), (138, 5, -10, 138, False), (416, 1, -1, 316, False), (142, 0, -1, 242, False), (274, 0, -1, 374, False), (244, 1, -1, 144, False)]\n",
            "[(152, 2, -1, 172, False), (92, 2, -1, 92, False), (239, 3, -1, 219, False), (496, 0, -1, 496, False), (496, 0, -1, 496, False), (258, 4, -10, 258, False), (86, 0, -1, 186, False), (274, 0, -1, 374, False), (478, 1, -1, 378, False), (314, 1, -1, 214, False), (258, 3, -1, 238, False), (219, 2, -1, 239, False), (404, 1, -1, 304, False), (256, 3, -1, 236, False), (167, 2, -1, 187, False), (431, 1, -1, 331, False), (211, 0, -1, 311, False), (192, 0, -1, 292, False), (49, 0, -1, 149, False), (317, 0, -1, 417, False), (136, 0, -1, 236, False), (136, 1, -1, 36, False), (118, 0, -1, 218, False), (86, 4, -1, 98, False), (262, 3, -1, 242, False), (418, 5, 20, 410, True), (197, 4, -10, 197, False), (177, 2, -1, 197, False), (123, 1, -1, 23, False), (242, 3, -1, 222, False), (218, 0, -1, 318, False), (234, 2, -1, 254, False)]\n",
            "[(332, 3, -1, 332, False), (332, 1, -1, 232, False), (292, 1, -1, 192, False), (128, 0, -1, 228, False), (476, 0, -1, 476, False), (496, 1, -1, 396, False), (472, 4, -1, 476, False), (86, 0, -1, 186, False), (98, 0, -1, 198, False), (452, 1, -1, 352, False), (352, 3, -1, 332, False), (452, 2, -1, 452, False), (252, 2, -1, 272, False), (374, 0, -1, 474, False), (407, 4, -10, 407, False), (227, 2, -1, 247, False), (247, 2, -1, 267, False), (98, 0, -1, 198, False), (118, 0, -1, 218, False), (116, 1, -1, 16, False), (267, 1, -1, 167, False), (192, 0, -1, 292, False), (276, 3, -1, 256, False), (24, 0, -1, 124, False), (236, 1, -1, 136, False), (473, 4, -1, 477, False), (297, 1, -1, 197, False), (97, 5, 20, 85, True), (123, 1, -1, 23, False), (142, 0, -1, 242, False), (224, 2, -1, 244, False)]\n",
            "[(332, 1, -1, 232, False), (92, 2, -1, 92, False), (219, 2, -1, 239, False), (361, 1, -1, 261, False), (17, 2, -1, 37, False), (216, 1, -1, 116, False), (292, 3, -1, 272, False), (476, 2, -1, 496, False), (496, 0, -1, 496, False), (209, 0, -1, 309, False), (99, 0, -1, 199, False), (352, 0, -1, 452, False), (136, 1, -1, 36, False), (239, 3, -1, 219, False), (407, 3, -1, 407, False), (307, 0, -1, 407, False), (107, 5, -10, 107, False), (167, 2, -1, 187, False), (279, 0, -1, 379, False), (96, 0, -1, 196, False), (211, 0, -1, 311, False), (379, 0, -1, 479, False), (49, 0, -1, 149, False), (18, 0, -1, 118, False), (382, 1, -1, 282, False), (118, 0, -1, 218, False), (237, 2, -1, 257, False), (318, 0, -1, 418, False), (478, 1, -1, 378, False), (278, 3, -1, 258, False), (2, 4, -1, 18, False), (18, 0, -1, 118, False)]\n",
            "[(92, 5, -10, 92, False), (192, 1, -1, 92, False), (172, 1, -1, 72, False), (52, 1, -1, 52, False), (476, 0, -1, 476, False), (114, 0, -1, 214, False), (234, 2, -1, 254, False), (36, 3, -1, 16, False), (399, 4, -10, 399, False), (412, 1, -1, 312, False), (407, 0, -1, 407, False), (407, 2, -1, 407, False), (299, 0, -1, 399, False), (138, 3, -1, 118, False), (274, 0, -1, 374, False), (259, 2, -1, 279, False), (87, 4, -1, 99, False), (144, 2, -1, 164, False), (231, 3, -1, 211, False), (256, 3, -1, 236, False), (136, 1, -1, 36, False), (217, 2, -1, 237, False), (197, 1, -1, 97, False), (162, 3, -1, 142, False), (242, 1, -1, 142, False), (246, 2, -1, 266, False), (473, 4, -1, 477, False), (222, 3, -1, 202, False), (182, 3, -1, 162, False), (18, 0, -1, 118, False), (218, 0, -1, 318, False), (96, 0, -1, 196, False)]\n",
            "[(332, 3, -1, 332, False), (292, 1, -1, 192, False), (218, 0, -1, 318, False), (231, 4, -10, 231, False), (419, 1, -1, 319, False), (298, 3, -1, 278, False), (138, 3, -1, 118, False), (372, 0, -1, 472, False), (496, 1, -1, 396, False), (276, 3, -1, 256, False), (417, 1, -1, 317, False), (186, 1, -1, 86, False), (211, 0, -1, 311, False), (479, 5, 20, 475, True), (378, 5, -10, 378, False), (407, 5, -10, 407, False), (238, 1, -1, 138, False), (363, 2, -1, 383, False), (23, 3, -1, 3, False), (96, 0, -1, 196, False), (92, 0, -1, 192, False), (236, 1, -1, 136, False), (36, 3, -1, 16, False), (176, 0, -1, 276, False), (136, 1, -1, 36, False), (122, 1, -1, 22, False), (22, 3, -1, 2, False), (18, 0, -1, 118, False), (241, 0, -1, 341, False), (282, 1, -1, 182, False), (204, 2, -1, 224, False), (224, 2, -1, 244, False)]\n",
            "[(332, 1, -1, 232, False), (72, 1, -1, 72, False), (198, 1, -1, 98, False), (379, 0, -1, 479, False), (208, 0, -1, 308, False), (72, 5, -10, 72, False), (52, 1, -1, 52, False), (16, 5, 20, 0, True), (237, 1, -1, 137, False), (474, 4, -1, 478, False), (218, 3, -1, 218, False), (196, 3, -1, 176, False), (497, 3, -1, 477, False), (432, 3, -1, 432, False), (36, 3, -1, 16, False), (118, 0, -1, 218, False), (399, 0, -1, 499, False), (118, 0, -1, 218, False), (363, 2, -1, 383, False), (474, 4, -1, 478, False), (278, 3, -1, 258, False), (244, 1, -1, 144, False), (196, 3, -1, 176, False), (136, 0, -1, 236, False), (472, 4, -1, 476, False), (382, 1, -1, 282, False), (262, 3, -1, 242, False), (18, 0, -1, 118, False), (218, 0, -1, 318, False), (253, 2, -1, 273, False), (378, 1, -1, 278, False), (239, 2, -1, 259, False)]\n",
            "[(192, 2, -1, 192, False), (86, 4, -1, 98, False), (37, 0, -1, 137, False), (257, 1, -1, 157, False), (496, 0, -1, 496, False), (496, 0, -1, 496, False), (36, 3, -1, 16, False), (299, 0, -1, 399, False), (397, 1, -1, 297, False), (452, 2, -1, 452, False), (452, 3, -1, 432, False), (432, 1, -1, 332, False), (352, 1, -1, 252, False), (239, 2, -1, 259, False), (307, 2, -1, 307, False), (407, 4, -10, 407, False), (123, 1, -1, 23, False), (279, 0, -1, 379, False), (208, 0, -1, 308, False), (404, 1, -1, 304, False), (167, 2, -1, 187, False), (319, 1, -1, 219, False), (92, 0, -1, 192, False), (272, 2, -1, 292, False), (236, 1, -1, 136, False), (242, 3, -1, 222, False), (218, 0, -1, 318, False), (373, 0, -1, 473, False), (116, 1, -1, 16, False), (378, 1, -1, 278, False), (2, 4, -1, 18, False), (244, 1, -1, 144, False)]\n",
            "[(332, 1, -1, 232, False), (92, 4, -10, 92, False), (92, 3, -1, 72, False), (72, 0, -1, 172, False), (192, 2, -1, 192, False), (218, 0, -1, 318, False), (138, 3, -1, 118, False), (152, 1, -1, 52, False), (476, 2, -1, 496, False), (238, 1, -1, 138, False), (497, 1, -1, 397, False), (397, 1, -1, 297, False), (412, 4, -10, 412, False), (452, 3, -1, 432, False), (452, 0, -1, 452, False), (452, 2, -1, 452, False), (107, 0, -1, 207, False), (299, 0, -1, 399, False), (318, 0, -1, 418, False), (318, 0, -1, 418, False), (479, 5, 20, 475, True), (311, 0, -1, 411, False), (52, 2, -1, 72, False), (372, 0, -1, 472, False), (256, 3, -1, 236, False), (157, 4, -10, 157, False), (276, 0, -1, 376, False), (262, 4, -10, 262, False), (223, 1, -1, 123, False), (254, 2, -1, 274, False), (374, 0, -1, 474, False), (297, 1, -1, 197, False)]\n",
            "[(332, 0, -1, 432, False), (172, 1, -1, 72, False), (72, 1, -1, 72, False), (98, 1, -1, 98, False), (251, 3, -1, 231, False), (16, 5, 20, 0, True), (372, 4, -10, 372, False), (229, 3, -1, 209, False), (177, 2, -1, 197, False), (176, 0, -1, 276, False), (98, 0, -1, 198, False), (497, 3, -1, 477, False), (432, 2, -1, 452, False), (452, 1, -1, 352, False), (452, 3, -1, 432, False), (298, 3, -1, 278, False), (223, 1, -1, 123, False), (164, 2, -1, 184, False), (231, 3, -1, 211, False), (259, 2, -1, 279, False), (96, 0, -1, 196, False), (49, 0, -1, 149, False), (249, 3, -1, 229, False), (26, 0, -1, 126, False), (98, 0, -1, 198, False), (473, 4, -1, 477, False), (342, 3, -1, 322, False), (202, 1, -1, 102, False), (19, 3, -1, 19, False), (118, 0, -1, 218, False), (254, 2, -1, 274, False), (144, 0, -1, 244, False)]\n",
            "[(352, 1, -1, 252, False), (471, 1, -1, 371, False), (419, 1, -1, 319, False), (279, 0, -1, 379, False), (474, 4, -1, 478, False), (298, 3, -1, 278, False), (192, 3, -1, 172, False), (237, 3, -1, 217, False), (477, 2, -1, 497, False), (452, 1, -1, 352, False), (352, 0, -1, 452, False), (272, 2, -1, 292, False), (136, 1, -1, 36, False), (134, 0, -1, 234, False), (407, 0, -1, 407, False), (479, 5, 20, 475, True), (254, 2, -1, 274, False), (186, 1, -1, 86, False), (128, 0, -1, 228, False), (192, 0, -1, 292, False), (244, 1, -1, 144, False), (237, 2, -1, 257, False), (182, 2, -1, 182, False), (22, 3, -1, 2, False), (318, 0, -1, 418, False), (121, 3, -1, 101, False), (243, 3, -1, 223, False), (3, 4, -1, 19, False), (418, 5, 20, 410, True), (118, 4, -10, 118, False), (218, 0, -1, 318, False), (139, 0, -1, 239, False)]\n",
            "[(92, 3, -1, 72, False), (211, 0, -1, 311, False), (298, 3, -1, 278, False), (258, 3, -1, 238, False), (52, 2, -1, 72, False), (409, 4, -1, 417, False), (284, 1, -1, 184, False), (312, 1, -1, 212, False), (432, 1, -1, 332, False), (472, 4, -1, 476, False), (256, 3, -1, 236, False), (283, 3, -1, 263, False), (239, 2, -1, 259, False), (318, 0, -1, 418, False), (128, 0, -1, 228, False), (208, 0, -1, 308, False), (267, 1, -1, 167, False), (211, 0, -1, 311, False), (311, 2, -1, 311, False), (476, 1, -1, 376, False), (36, 3, -1, 16, False), (256, 3, -1, 236, False), (162, 3, -1, 142, False), (353, 1, -1, 253, False), (101, 1, -1, 1, False), (462, 1, -1, 362, False), (234, 1, -1, 134, False), (318, 0, -1, 418, False), (123, 1, -1, 23, False), (3, 4, -1, 19, False), (297, 1, -1, 197, False)]\n",
            "[(332, 2, -1, 352, False), (192, 1, -1, 92, False), (311, 0, -1, 411, False), (419, 1, -1, 319, False), (172, 1, -1, 72, False), (252, 1, -1, 152, False), (52, 0, -1, 152, False), (496, 2, -1, 496, False), (496, 0, -1, 496, False), (496, 3, -1, 476, False), (217, 2, -1, 237, False), (186, 1, -1, 86, False), (477, 2, -1, 497, False), (97, 5, 20, 85, True), (432, 0, -1, 432, False), (352, 1, -1, 252, False), (186, 1, -1, 86, False), (291, 3, -1, 271, False), (231, 3, -1, 211, False), (249, 3, -1, 229, False), (256, 3, -1, 236, False), (218, 0, -1, 318, False), (97, 5, 20, 85, True), (262, 4, -10, 262, False), (241, 0, -1, 341, False), (101, 1, -1, 1, False), (243, 3, -1, 223, False), (462, 1, -1, 362, False), (118, 4, -10, 118, False), (418, 5, 20, 410, True), (373, 0, -1, 473, False)]\n",
            "[(126, 0, -1, 226, False), (266, 2, -1, 286, False), (178, 3, -1, 158, False), (261, 3, -1, 241, False), (252, 2, -1, 272, False), (476, 5, -1, 472, False), (256, 3, -1, 236, False), (36, 3, -1, 16, False), (234, 2, -1, 254, False), (138, 3, -1, 118, False), (252, 0, -1, 352, False), (452, 3, -1, 432, False), (138, 3, -1, 118, False), (267, 1, -1, 167, False), (314, 1, -1, 214, False), (278, 3, -1, 258, False), (318, 0, -1, 418, False), (278, 3, -1, 258, False), (128, 0, -1, 228, False), (144, 2, -1, 164, False), (156, 0, -1, 256, False), (36, 3, -1, 16, False), (392, 3, -1, 372, False), (136, 0, -1, 236, False), (118, 0, -1, 218, False), (2, 4, -1, 18, False), (278, 3, -1, 258, False), (18, 0, -1, 118, False), (273, 0, -1, 373, False)]\n",
            "[(92, 0, -1, 192, False), (192, 3, -1, 172, True), (266, 2, -1, 286, False), (158, 0, -1, 258, False), (237, 2, -1, 257, False), (177, 2, -1, 197, False), (28, 0, -1, 128, False), (152, 3, -1, 152, False), (376, 1, -1, 276, False), (198, 0, -1, 298, False), (352, 2, -1, 352, False), (432, 3, -1, 432, False), (372, 0, -1, 472, False), (274, 0, -1, 374, False), (378, 2, -1, 398, False), (307, 0, -1, 407, False), (219, 2, -1, 239, False), (304, 1, -1, 204, False), (236, 0, -1, 336, False), (72, 2, -1, 92, False), (144, 2, -1, 164, False), (177, 2, -1, 197, False), (236, 1, -1, 136, False), (26, 0, -1, 126, False), (97, 5, 20, 85, True), (243, 3, -1, 223, False), (382, 1, -1, 282, False), (134, 0, -1, 234, False), (218, 0, -1, 318, False), (123, 0, -1, 223, False), (139, 0, -1, 239, False), (397, 1, -1, 297, False)]\n"
          ]
        },
        {
          "output_type": "error",
          "ename": "KeyboardInterrupt",
          "evalue": "ignored",
          "traceback": [
            "\u001b[0;31m---------------------------------------------------------------------------\u001b[0m",
            "\u001b[0;31mKeyboardInterrupt\u001b[0m                         Traceback (most recent call last)",
            "\u001b[0;32m<ipython-input-49-8ea5fdad8115>\u001b[0m in \u001b[0;36m<module>\u001b[0;34m()\u001b[0m\n\u001b[1;32m     11\u001b[0m         play_and_train_with_replay(env, agent_replay, replay))\n\u001b[1;32m     12\u001b[0m     rewards_baseline.append(\n\u001b[0;32m---> 13\u001b[0;31m         play_and_train_with_replay(env, agent_baseline, replay=None))\n\u001b[0m\u001b[1;32m     14\u001b[0m \u001b[0;34m\u001b[0m\u001b[0m\n\u001b[1;32m     15\u001b[0m     \u001b[0magent_replay\u001b[0m\u001b[0;34m.\u001b[0m\u001b[0mepsilon\u001b[0m \u001b[0;34m*=\u001b[0m \u001b[0;36m0.99\u001b[0m\u001b[0;34m\u001b[0m\u001b[0;34m\u001b[0m\u001b[0m\n",
            "\u001b[0;32m<ipython-input-47-e3faf0a207e3>\u001b[0m in \u001b[0;36mplay_and_train_with_replay\u001b[0;34m(env, agent, replay, t_max, replay_batch_size)\u001b[0m\n\u001b[1;32m     14\u001b[0m     \u001b[0;32mfor\u001b[0m \u001b[0mt\u001b[0m \u001b[0;32min\u001b[0m \u001b[0mrange\u001b[0m\u001b[0;34m(\u001b[0m\u001b[0mt_max\u001b[0m\u001b[0;34m)\u001b[0m\u001b[0;34m:\u001b[0m\u001b[0;34m\u001b[0m\u001b[0;34m\u001b[0m\u001b[0m\n\u001b[1;32m     15\u001b[0m         \u001b[0;31m# get agent to pick action given state s\u001b[0m\u001b[0;34m\u001b[0m\u001b[0;34m\u001b[0m\u001b[0;34m\u001b[0m\u001b[0m\n\u001b[0;32m---> 16\u001b[0;31m         \u001b[0ma\u001b[0m \u001b[0;34m=\u001b[0m\u001b[0magent\u001b[0m\u001b[0;34m.\u001b[0m\u001b[0mget_action\u001b[0m\u001b[0;34m(\u001b[0m\u001b[0ms\u001b[0m\u001b[0;34m)\u001b[0m\u001b[0;34m\u001b[0m\u001b[0;34m\u001b[0m\u001b[0m\n\u001b[0m\u001b[1;32m     17\u001b[0m \u001b[0;34m\u001b[0m\u001b[0m\n\u001b[1;32m     18\u001b[0m         \u001b[0mnext_s\u001b[0m\u001b[0;34m,\u001b[0m \u001b[0mr\u001b[0m\u001b[0;34m,\u001b[0m \u001b[0mdone\u001b[0m\u001b[0;34m,\u001b[0m \u001b[0m_\u001b[0m \u001b[0;34m=\u001b[0m \u001b[0menv\u001b[0m\u001b[0;34m.\u001b[0m\u001b[0mstep\u001b[0m\u001b[0;34m(\u001b[0m\u001b[0ma\u001b[0m\u001b[0;34m)\u001b[0m\u001b[0;34m\u001b[0m\u001b[0;34m\u001b[0m\u001b[0m\n",
            "\u001b[0;32m<ipython-input-17-eeb52c25d845>\u001b[0m in \u001b[0;36mget_action\u001b[0;34m(self, state)\u001b[0m\n\u001b[1;32m    115\u001b[0m           \u001b[0mchosen_action\u001b[0m \u001b[0;34m=\u001b[0m \u001b[0mnp\u001b[0m\u001b[0;34m.\u001b[0m\u001b[0mrandom\u001b[0m\u001b[0;34m.\u001b[0m\u001b[0mchoice\u001b[0m\u001b[0;34m(\u001b[0m\u001b[0mpossible_actions\u001b[0m\u001b[0;34m)\u001b[0m\u001b[0;34m\u001b[0m\u001b[0;34m\u001b[0m\u001b[0m\n\u001b[1;32m    116\u001b[0m         \u001b[0;32melse\u001b[0m\u001b[0;34m:\u001b[0m\u001b[0;34m\u001b[0m\u001b[0;34m\u001b[0m\u001b[0m\n\u001b[0;32m--> 117\u001b[0;31m           \u001b[0mchosen_action\u001b[0m\u001b[0;34m=\u001b[0m\u001b[0mself\u001b[0m\u001b[0;34m.\u001b[0m\u001b[0mget_best_action\u001b[0m\u001b[0;34m(\u001b[0m\u001b[0mstate\u001b[0m\u001b[0;34m)\u001b[0m\u001b[0;34m\u001b[0m\u001b[0;34m\u001b[0m\u001b[0m\n\u001b[0m\u001b[1;32m    118\u001b[0m \u001b[0;34m\u001b[0m\u001b[0m\n\u001b[1;32m    119\u001b[0m \u001b[0;34m\u001b[0m\u001b[0m\n",
            "\u001b[0;32m<ipython-input-17-eeb52c25d845>\u001b[0m in \u001b[0;36mget_best_action\u001b[0;34m(self, state)\u001b[0m\n\u001b[1;32m     83\u001b[0m \u001b[0;34m\u001b[0m\u001b[0m\n\u001b[1;32m     84\u001b[0m         \u001b[0mmy_qvalue\u001b[0m\u001b[0;34m=\u001b[0m\u001b[0;34m[\u001b[0m\u001b[0mself\u001b[0m\u001b[0;34m.\u001b[0m\u001b[0mget_qvalue\u001b[0m\u001b[0;34m(\u001b[0m\u001b[0mstate\u001b[0m\u001b[0;34m,\u001b[0m\u001b[0maction\u001b[0m\u001b[0;34m)\u001b[0m \u001b[0;32mfor\u001b[0m \u001b[0maction\u001b[0m \u001b[0;32min\u001b[0m \u001b[0mpossible_actions\u001b[0m\u001b[0;34m]\u001b[0m\u001b[0;34m\u001b[0m\u001b[0;34m\u001b[0m\u001b[0m\n\u001b[0;32m---> 85\u001b[0;31m         \u001b[0mbest_action_arg\u001b[0m\u001b[0;34m=\u001b[0m\u001b[0mnp\u001b[0m\u001b[0;34m.\u001b[0m\u001b[0margmax\u001b[0m\u001b[0;34m(\u001b[0m\u001b[0mmy_qvalue\u001b[0m\u001b[0;34m)\u001b[0m\u001b[0;34m\u001b[0m\u001b[0;34m\u001b[0m\u001b[0m\n\u001b[0m\u001b[1;32m     86\u001b[0m         \u001b[0mbest_action\u001b[0m\u001b[0;34m=\u001b[0m\u001b[0mpossible_actions\u001b[0m\u001b[0;34m[\u001b[0m\u001b[0mbest_action_arg\u001b[0m\u001b[0;34m]\u001b[0m\u001b[0;34m\u001b[0m\u001b[0;34m\u001b[0m\u001b[0m\n\u001b[1;32m     87\u001b[0m \u001b[0;34m\u001b[0m\u001b[0m\n",
            "\u001b[0;32m<__array_function__ internals>\u001b[0m in \u001b[0;36margmax\u001b[0;34m(*args, **kwargs)\u001b[0m\n",
            "\u001b[0;32m/usr/local/lib/python3.7/dist-packages/numpy/core/fromnumeric.py\u001b[0m in \u001b[0;36margmax\u001b[0;34m(a, axis, out)\u001b[0m\n\u001b[1;32m   1186\u001b[0m \u001b[0;34m\u001b[0m\u001b[0m\n\u001b[1;32m   1187\u001b[0m     \"\"\"\n\u001b[0;32m-> 1188\u001b[0;31m     \u001b[0;32mreturn\u001b[0m \u001b[0m_wrapfunc\u001b[0m\u001b[0;34m(\u001b[0m\u001b[0ma\u001b[0m\u001b[0;34m,\u001b[0m \u001b[0;34m'argmax'\u001b[0m\u001b[0;34m,\u001b[0m \u001b[0maxis\u001b[0m\u001b[0;34m=\u001b[0m\u001b[0maxis\u001b[0m\u001b[0;34m,\u001b[0m \u001b[0mout\u001b[0m\u001b[0;34m=\u001b[0m\u001b[0mout\u001b[0m\u001b[0;34m)\u001b[0m\u001b[0;34m\u001b[0m\u001b[0;34m\u001b[0m\u001b[0m\n\u001b[0m\u001b[1;32m   1189\u001b[0m \u001b[0;34m\u001b[0m\u001b[0m\n\u001b[1;32m   1190\u001b[0m \u001b[0;34m\u001b[0m\u001b[0m\n",
            "\u001b[0;32m/usr/local/lib/python3.7/dist-packages/numpy/core/fromnumeric.py\u001b[0m in \u001b[0;36m_wrapfunc\u001b[0;34m(obj, method, *args, **kwds)\u001b[0m\n\u001b[1;32m     53\u001b[0m     \u001b[0mbound\u001b[0m \u001b[0;34m=\u001b[0m \u001b[0mgetattr\u001b[0m\u001b[0;34m(\u001b[0m\u001b[0mobj\u001b[0m\u001b[0;34m,\u001b[0m \u001b[0mmethod\u001b[0m\u001b[0;34m,\u001b[0m \u001b[0;32mNone\u001b[0m\u001b[0;34m)\u001b[0m\u001b[0;34m\u001b[0m\u001b[0;34m\u001b[0m\u001b[0m\n\u001b[1;32m     54\u001b[0m     \u001b[0;32mif\u001b[0m \u001b[0mbound\u001b[0m \u001b[0;32mis\u001b[0m \u001b[0;32mNone\u001b[0m\u001b[0;34m:\u001b[0m\u001b[0;34m\u001b[0m\u001b[0;34m\u001b[0m\u001b[0m\n\u001b[0;32m---> 55\u001b[0;31m         \u001b[0;32mreturn\u001b[0m \u001b[0m_wrapit\u001b[0m\u001b[0;34m(\u001b[0m\u001b[0mobj\u001b[0m\u001b[0;34m,\u001b[0m \u001b[0mmethod\u001b[0m\u001b[0;34m,\u001b[0m \u001b[0;34m*\u001b[0m\u001b[0margs\u001b[0m\u001b[0;34m,\u001b[0m \u001b[0;34m**\u001b[0m\u001b[0mkwds\u001b[0m\u001b[0;34m)\u001b[0m\u001b[0;34m\u001b[0m\u001b[0;34m\u001b[0m\u001b[0m\n\u001b[0m\u001b[1;32m     56\u001b[0m \u001b[0;34m\u001b[0m\u001b[0m\n\u001b[1;32m     57\u001b[0m     \u001b[0;32mtry\u001b[0m\u001b[0;34m:\u001b[0m\u001b[0;34m\u001b[0m\u001b[0;34m\u001b[0m\u001b[0m\n",
            "\u001b[0;32m/usr/local/lib/python3.7/dist-packages/numpy/core/fromnumeric.py\u001b[0m in \u001b[0;36m_wrapit\u001b[0;34m(obj, method, *args, **kwds)\u001b[0m\n\u001b[1;32m     42\u001b[0m     \u001b[0;32mexcept\u001b[0m \u001b[0mAttributeError\u001b[0m\u001b[0;34m:\u001b[0m\u001b[0;34m\u001b[0m\u001b[0;34m\u001b[0m\u001b[0m\n\u001b[1;32m     43\u001b[0m         \u001b[0mwrap\u001b[0m \u001b[0;34m=\u001b[0m \u001b[0;32mNone\u001b[0m\u001b[0;34m\u001b[0m\u001b[0;34m\u001b[0m\u001b[0m\n\u001b[0;32m---> 44\u001b[0;31m     \u001b[0mresult\u001b[0m \u001b[0;34m=\u001b[0m \u001b[0mgetattr\u001b[0m\u001b[0;34m(\u001b[0m\u001b[0masarray\u001b[0m\u001b[0;34m(\u001b[0m\u001b[0mobj\u001b[0m\u001b[0;34m)\u001b[0m\u001b[0;34m,\u001b[0m \u001b[0mmethod\u001b[0m\u001b[0;34m)\u001b[0m\u001b[0;34m(\u001b[0m\u001b[0;34m*\u001b[0m\u001b[0margs\u001b[0m\u001b[0;34m,\u001b[0m \u001b[0;34m**\u001b[0m\u001b[0mkwds\u001b[0m\u001b[0;34m)\u001b[0m\u001b[0;34m\u001b[0m\u001b[0;34m\u001b[0m\u001b[0m\n\u001b[0m\u001b[1;32m     45\u001b[0m     \u001b[0;32mif\u001b[0m \u001b[0mwrap\u001b[0m\u001b[0;34m:\u001b[0m\u001b[0;34m\u001b[0m\u001b[0;34m\u001b[0m\u001b[0m\n\u001b[1;32m     46\u001b[0m         \u001b[0;32mif\u001b[0m \u001b[0;32mnot\u001b[0m \u001b[0misinstance\u001b[0m\u001b[0;34m(\u001b[0m\u001b[0mresult\u001b[0m\u001b[0;34m,\u001b[0m \u001b[0mmu\u001b[0m\u001b[0;34m.\u001b[0m\u001b[0mndarray\u001b[0m\u001b[0;34m)\u001b[0m\u001b[0;34m:\u001b[0m\u001b[0;34m\u001b[0m\u001b[0;34m\u001b[0m\u001b[0m\n",
            "\u001b[0;31mKeyboardInterrupt\u001b[0m: "
          ]
        }
      ]
    },
    {
      "cell_type": "markdown",
      "metadata": {
        "id": "8CpBBVBzRzgi"
      },
      "source": [
        "### Submit to Coursera"
      ]
    },
    {
      "cell_type": "code",
      "metadata": {
        "id": "ch2ZpXa7Rzgi"
      },
      "source": [
        "from submit import submit_experience_replay\n",
        "submit_experience_replay(rewards_replay, rewards_baseline, 'your.email@example.com', 'YourAssignmentToken')"
      ],
      "execution_count": null,
      "outputs": []
    },
    {
      "cell_type": "markdown",
      "metadata": {
        "id": "oVrEA2DXRzgi"
      },
      "source": [
        "#### What to expect:\n",
        "\n",
        "Experience replay, if implemented correctly, will improve algorithm's initial convergence a lot, but it shouldn't affect the final performance.\n",
        "\n",
        "### Outro\n",
        "\n",
        "We will use the code you just wrote extensively in the next week of our course. If you're feeling that you need more examples to understand how experience replay works, try using it for binarized state spaces (CartPole or other __[classic control envs](https://gym.openai.com/envs/#classic_control)__).\n",
        "\n",
        "__Next week__ we're gonna explore how q-learning and similar algorithms can be applied for large state spaces, with deep learning models to approximate the Q function.\n",
        "\n",
        "However, __the code you've written__ for this week is already capable of solving many RL problems, and as an added benifit - it is very easy to detach. You can use Q-learning, SARSA and Experience Replay for any RL problems you want to solve - just thow 'em into a file and import the stuff you need."
      ]
    }
  ]
}